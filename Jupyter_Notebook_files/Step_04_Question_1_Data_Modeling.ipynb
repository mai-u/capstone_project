{
 "cells": [
  {
   "cell_type": "markdown",
   "metadata": {},
   "source": [
    "# Import packages"
   ]
  },
  {
   "cell_type": "code",
   "execution_count": 31,
   "metadata": {
    "ExecuteTime": {
     "end_time": "2019-09-30T22:22:54.754657Z",
     "start_time": "2019-09-30T22:22:54.695172Z"
    }
   },
   "outputs": [],
   "source": [
    "import warnings\n",
    "warnings.filterwarnings('ignore')\n",
    "from copy import deepcopy\n",
    "import pickle\n",
    "# import psycopg2\n",
    "import pandas as pd\n",
    "import numpy as np\n",
    "\n",
    "from time import time\n",
    "\n",
    "from sklearn import datasets, metrics, svm, linear_model\n",
    "from sklearn.datasets import fetch_20newsgroups\n",
    "from sklearn.ensemble import RandomForestClassifier, ExtraTreesClassifier\n",
    "from sklearn.feature_extraction import DictVectorizer\n",
    "from sklearn.feature_extraction.text import CountVectorizer, TfidfVectorizer\n",
    "from sklearn.feature_selection import SelectFromModel\n",
    "from sklearn.linear_model import LinearRegression, Ridge, Lasso, RidgeCV, RidgeClassifier, LassoCV, LogisticRegression, LogisticRegression, LogisticRegressionCV, SGDClassifier, Perceptron, PassiveAggressiveClassifier\n",
    "from sklearn.metrics import roc_curve, auc, accuracy_score, classification_report, confusion_matrix\n",
    "from sklearn.model_selection import KFold, StratifiedKFold, train_test_split, cross_val_score, GridSearchCV\n",
    "from sklearn.naive_bayes import BernoulliNB, MultinomialNB\n",
    "from sklearn.neighbors import KNeighborsClassifier, NearestCentroid\n",
    "from sklearn.pipeline import Pipeline\n",
    "from sklearn.preprocessing import StandardScaler\n",
    "from sklearn.svm import SVC, LinearSVC\n",
    "from sklearn.tree import DecisionTreeClassifier\n",
    "from sklearn.utils.extmath import density\n",
    "\n",
    "import scipy.stats as stats\n",
    "np.set_printoptions(precision=4)\n",
    "\n",
    "import statsmodels.formula.api as smf\n",
    "import statsmodels.api as sm\n",
    "\n",
    "import en_core_web_sm\n",
    "import nltk\n",
    "import nltk.data\n",
    "import spacy\n",
    "import textacy\n",
    "from tqdm import tqdm_notebook\n",
    "from vaderSentiment.vaderSentiment import SentimentIntensityAnalyzer\n",
    "\n",
    "import matplotlib.pyplot as plt; plt.rcdefaults()\n",
    "import seaborn as sns\n",
    "\n",
    "plt.style.use('fivethirtyeight')\n",
    "%matplotlib inline\n",
    "%config InlineBackend.figure_format = 'retina'"
   ]
  },
  {
   "cell_type": "markdown",
   "metadata": {},
   "source": [
    "# Load data"
   ]
  },
  {
   "cell_type": "code",
   "execution_count": 32,
   "metadata": {
    "ExecuteTime": {
     "end_time": "2019-09-30T22:22:56.141754Z",
     "start_time": "2019-09-30T22:22:56.002671Z"
    }
   },
   "outputs": [],
   "source": [
    "# Load restaurant data\n",
    "restaurants = pd.read_pickle('/Users/mai/Desktop/yelp_dataset/to_submit/restaurants_clean.pickle')"
   ]
  },
  {
   "cell_type": "code",
   "execution_count": 36,
   "metadata": {
    "ExecuteTime": {
     "end_time": "2019-09-30T22:23:54.898120Z",
     "start_time": "2019-09-30T22:23:54.827801Z"
    }
   },
   "outputs": [
    {
     "data": {
      "text/html": [
       "<div>\n",
       "<style scoped>\n",
       "    .dataframe tbody tr th:only-of-type {\n",
       "        vertical-align: middle;\n",
       "    }\n",
       "\n",
       "    .dataframe tbody tr th {\n",
       "        vertical-align: top;\n",
       "    }\n",
       "\n",
       "    .dataframe thead th {\n",
       "        text-align: right;\n",
       "    }\n",
       "</style>\n",
       "<table border=\"1\" class=\"dataframe\">\n",
       "  <thead>\n",
       "    <tr style=\"text-align: right;\">\n",
       "      <th></th>\n",
       "      <th>business_id</th>\n",
       "      <th>review_id</th>\n",
       "      <th>minyear</th>\n",
       "      <th>maxyear</th>\n",
       "      <th>estimated_opearating_years</th>\n",
       "      <th>total_checkins</th>\n",
       "      <th>total_checkinyear_count</th>\n",
       "      <th>city</th>\n",
       "      <th>business_status</th>\n",
       "      <th>latitude</th>\n",
       "      <th>...</th>\n",
       "      <th>food_type_Seafood</th>\n",
       "      <th>food_type_Soup</th>\n",
       "      <th>food_type_Steakhouses</th>\n",
       "      <th>food_type_Sushi Bars</th>\n",
       "      <th>food_type_Tacos</th>\n",
       "      <th>food_type_Tapas Bars</th>\n",
       "      <th>food_type_Uzbek</th>\n",
       "      <th>food_type_Waffles</th>\n",
       "      <th>food_type_Wraps</th>\n",
       "      <th>prediction_col</th>\n",
       "    </tr>\n",
       "  </thead>\n",
       "  <tbody>\n",
       "    <tr>\n",
       "      <th>1</th>\n",
       "      <td>--6MefnULPED_I942VcFNA</td>\n",
       "      <td>46</td>\n",
       "      <td>2011</td>\n",
       "      <td>2018</td>\n",
       "      <td>7</td>\n",
       "      <td>167</td>\n",
       "      <td>8</td>\n",
       "      <td>Richmond Hill</td>\n",
       "      <td>1</td>\n",
       "      <td>43.841694</td>\n",
       "      <td>...</td>\n",
       "      <td>0</td>\n",
       "      <td>0</td>\n",
       "      <td>0</td>\n",
       "      <td>0</td>\n",
       "      <td>0</td>\n",
       "      <td>0</td>\n",
       "      <td>0</td>\n",
       "      <td>0</td>\n",
       "      <td>0</td>\n",
       "      <td>successful</td>\n",
       "    </tr>\n",
       "    <tr>\n",
       "      <th>2</th>\n",
       "      <td>--7zmmkVg-IMGaXbuVd0SQ</td>\n",
       "      <td>59</td>\n",
       "      <td>2014</td>\n",
       "      <td>2018</td>\n",
       "      <td>4</td>\n",
       "      <td>180</td>\n",
       "      <td>5</td>\n",
       "      <td>Huntersville</td>\n",
       "      <td>1</td>\n",
       "      <td>35.437106</td>\n",
       "      <td>...</td>\n",
       "      <td>0</td>\n",
       "      <td>0</td>\n",
       "      <td>0</td>\n",
       "      <td>0</td>\n",
       "      <td>0</td>\n",
       "      <td>0</td>\n",
       "      <td>0</td>\n",
       "      <td>0</td>\n",
       "      <td>0</td>\n",
       "      <td>successful</td>\n",
       "    </tr>\n",
       "    <tr>\n",
       "      <th>3</th>\n",
       "      <td>--9e1ONYQuAa-CB_Rrw7Tw</td>\n",
       "      <td>1661</td>\n",
       "      <td>2010</td>\n",
       "      <td>2018</td>\n",
       "      <td>8</td>\n",
       "      <td>2770</td>\n",
       "      <td>9</td>\n",
       "      <td>Las Vegas</td>\n",
       "      <td>1</td>\n",
       "      <td>36.123183</td>\n",
       "      <td>...</td>\n",
       "      <td>0</td>\n",
       "      <td>0</td>\n",
       "      <td>1</td>\n",
       "      <td>0</td>\n",
       "      <td>0</td>\n",
       "      <td>0</td>\n",
       "      <td>0</td>\n",
       "      <td>0</td>\n",
       "      <td>0</td>\n",
       "      <td>successful</td>\n",
       "    </tr>\n",
       "    <tr>\n",
       "      <th>4</th>\n",
       "      <td>--DaPTJW3-tB1vP-PfdTEg</td>\n",
       "      <td>49</td>\n",
       "      <td>2012</td>\n",
       "      <td>2018</td>\n",
       "      <td>6</td>\n",
       "      <td>95</td>\n",
       "      <td>7</td>\n",
       "      <td>Toronto</td>\n",
       "      <td>1</td>\n",
       "      <td>43.677807</td>\n",
       "      <td>...</td>\n",
       "      <td>0</td>\n",
       "      <td>0</td>\n",
       "      <td>0</td>\n",
       "      <td>0</td>\n",
       "      <td>0</td>\n",
       "      <td>0</td>\n",
       "      <td>0</td>\n",
       "      <td>0</td>\n",
       "      <td>0</td>\n",
       "      <td>successful</td>\n",
       "    </tr>\n",
       "    <tr>\n",
       "      <th>5</th>\n",
       "      <td>--FBCX-N37CMYDfs790Bnw</td>\n",
       "      <td>142</td>\n",
       "      <td>2010</td>\n",
       "      <td>2018</td>\n",
       "      <td>8</td>\n",
       "      <td>528</td>\n",
       "      <td>9</td>\n",
       "      <td>Henderson</td>\n",
       "      <td>1</td>\n",
       "      <td>35.978679</td>\n",
       "      <td>...</td>\n",
       "      <td>0</td>\n",
       "      <td>0</td>\n",
       "      <td>0</td>\n",
       "      <td>0</td>\n",
       "      <td>0</td>\n",
       "      <td>0</td>\n",
       "      <td>0</td>\n",
       "      <td>0</td>\n",
       "      <td>0</td>\n",
       "      <td>successful</td>\n",
       "    </tr>\n",
       "  </tbody>\n",
       "</table>\n",
       "<p>5 rows × 201 columns</p>\n",
       "</div>"
      ],
      "text/plain": [
       "              business_id  review_id  minyear  maxyear  \\\n",
       "1  --6MefnULPED_I942VcFNA         46     2011     2018   \n",
       "2  --7zmmkVg-IMGaXbuVd0SQ         59     2014     2018   \n",
       "3  --9e1ONYQuAa-CB_Rrw7Tw       1661     2010     2018   \n",
       "4  --DaPTJW3-tB1vP-PfdTEg         49     2012     2018   \n",
       "5  --FBCX-N37CMYDfs790Bnw        142     2010     2018   \n",
       "\n",
       "   estimated_opearating_years  total_checkins  total_checkinyear_count  \\\n",
       "1                           7             167                        8   \n",
       "2                           4             180                        5   \n",
       "3                           8            2770                        9   \n",
       "4                           6              95                        7   \n",
       "5                           8             528                        9   \n",
       "\n",
       "            city  business_status   latitude  ...  food_type_Seafood  \\\n",
       "1  Richmond Hill                1  43.841694  ...                  0   \n",
       "2   Huntersville                1  35.437106  ...                  0   \n",
       "3      Las Vegas                1  36.123183  ...                  0   \n",
       "4        Toronto                1  43.677807  ...                  0   \n",
       "5      Henderson                1  35.978679  ...                  0   \n",
       "\n",
       "  food_type_Soup  food_type_Steakhouses  food_type_Sushi Bars food_type_Tacos  \\\n",
       "1              0                      0                     0               0   \n",
       "2              0                      0                     0               0   \n",
       "3              0                      1                     0               0   \n",
       "4              0                      0                     0               0   \n",
       "5              0                      0                     0               0   \n",
       "\n",
       "   food_type_Tapas Bars  food_type_Uzbek  food_type_Waffles  food_type_Wraps  \\\n",
       "1                     0                0                  0                0   \n",
       "2                     0                0                  0                0   \n",
       "3                     0                0                  0                0   \n",
       "4                     0                0                  0                0   \n",
       "5                     0                0                  0                0   \n",
       "\n",
       "   prediction_col  \n",
       "1      successful  \n",
       "2      successful  \n",
       "3      successful  \n",
       "4      successful  \n",
       "5      successful  \n",
       "\n",
       "[5 rows x 201 columns]"
      ]
     },
     "execution_count": 36,
     "metadata": {},
     "output_type": "execute_result"
    }
   ],
   "source": [
    "# Check the data\n",
    "restaurants.head()"
   ]
  },
  {
   "cell_type": "code",
   "execution_count": 37,
   "metadata": {
    "ExecuteTime": {
     "end_time": "2019-09-30T22:24:43.576539Z",
     "start_time": "2019-09-30T22:23:55.190386Z"
    }
   },
   "outputs": [],
   "source": [
    "# Load review data\n",
    "reviewdf = pd.read_pickle('/Users/mai/Desktop/yelp_dataset/to_submit/reviewdf.pickle')"
   ]
  },
  {
   "cell_type": "code",
   "execution_count": 38,
   "metadata": {
    "ExecuteTime": {
     "end_time": "2019-09-30T22:24:43.613777Z",
     "start_time": "2019-09-30T22:24:43.583491Z"
    }
   },
   "outputs": [
    {
     "data": {
      "text/html": [
       "<div>\n",
       "<style scoped>\n",
       "    .dataframe tbody tr th:only-of-type {\n",
       "        vertical-align: middle;\n",
       "    }\n",
       "\n",
       "    .dataframe tbody tr th {\n",
       "        vertical-align: top;\n",
       "    }\n",
       "\n",
       "    .dataframe thead th {\n",
       "        text-align: right;\n",
       "    }\n",
       "</style>\n",
       "<table border=\"1\" class=\"dataframe\">\n",
       "  <thead>\n",
       "    <tr style=\"text-align: right;\">\n",
       "      <th></th>\n",
       "      <th>business_id</th>\n",
       "      <th>cool</th>\n",
       "      <th>date</th>\n",
       "      <th>funny</th>\n",
       "      <th>review_id</th>\n",
       "      <th>stars</th>\n",
       "      <th>text</th>\n",
       "      <th>useful</th>\n",
       "      <th>user_id</th>\n",
       "    </tr>\n",
       "  </thead>\n",
       "  <tbody>\n",
       "    <tr>\n",
       "      <th>0</th>\n",
       "      <td>ujmEBvifdJM6h6RLv4wQIg</td>\n",
       "      <td>0</td>\n",
       "      <td>2013-05-07 04:34:36</td>\n",
       "      <td>1.0</td>\n",
       "      <td>Q1sbwvVQXV2734tPgoKj4Q</td>\n",
       "      <td>1.0</td>\n",
       "      <td>Total bill for this horrible service? Over $8G...</td>\n",
       "      <td>6.0</td>\n",
       "      <td>hG7b0MtEbXx5QzbzE6C_VA</td>\n",
       "    </tr>\n",
       "    <tr>\n",
       "      <th>1</th>\n",
       "      <td>NZnhc2sEQy3RmzKTZnqtwQ</td>\n",
       "      <td>0</td>\n",
       "      <td>2017-01-14 21:30:33</td>\n",
       "      <td>0.0</td>\n",
       "      <td>GJXCdrto3ASJOqKeVWPi6Q</td>\n",
       "      <td>5.0</td>\n",
       "      <td>I *adore* Travis at the Hard Rock's new Kelly ...</td>\n",
       "      <td>0.0</td>\n",
       "      <td>yXQM5uF2jS6es16SJzNHfg</td>\n",
       "    </tr>\n",
       "    <tr>\n",
       "      <th>2</th>\n",
       "      <td>WTqjgwHlXbSFevF32_DJVw</td>\n",
       "      <td>0</td>\n",
       "      <td>2016-11-09 20:09:03</td>\n",
       "      <td>0.0</td>\n",
       "      <td>2TzJjDVDEuAW6MR5Vuc1ug</td>\n",
       "      <td>5.0</td>\n",
       "      <td>I have to say that this office really has it t...</td>\n",
       "      <td>3.0</td>\n",
       "      <td>n6-Gk65cPZL6Uz8qRm3NYw</td>\n",
       "    </tr>\n",
       "    <tr>\n",
       "      <th>3</th>\n",
       "      <td>ikCg8xy5JIg_NGPx-MSIDA</td>\n",
       "      <td>0</td>\n",
       "      <td>2018-01-09 20:56:38</td>\n",
       "      <td>0.0</td>\n",
       "      <td>yi0R0Ugj_xUx_Nek0-_Qig</td>\n",
       "      <td>5.0</td>\n",
       "      <td>Went in for a lunch. Steak sandwich was delici...</td>\n",
       "      <td>0.0</td>\n",
       "      <td>dacAIZ6fTM6mqwW5uxkskg</td>\n",
       "    </tr>\n",
       "    <tr>\n",
       "      <th>4</th>\n",
       "      <td>b1b1eb3uo-w561D0ZfCEiQ</td>\n",
       "      <td>0</td>\n",
       "      <td>2018-01-30 23:07:38</td>\n",
       "      <td>0.0</td>\n",
       "      <td>11a8sVPMUFtaC7_ABRkmtw</td>\n",
       "      <td>1.0</td>\n",
       "      <td>Today was my second out of three sessions I ha...</td>\n",
       "      <td>7.0</td>\n",
       "      <td>ssoyf2_x0EQMed6fgHeMyQ</td>\n",
       "    </tr>\n",
       "  </tbody>\n",
       "</table>\n",
       "</div>"
      ],
      "text/plain": [
       "              business_id  cool                 date  funny  \\\n",
       "0  ujmEBvifdJM6h6RLv4wQIg     0  2013-05-07 04:34:36    1.0   \n",
       "1  NZnhc2sEQy3RmzKTZnqtwQ     0  2017-01-14 21:30:33    0.0   \n",
       "2  WTqjgwHlXbSFevF32_DJVw     0  2016-11-09 20:09:03    0.0   \n",
       "3  ikCg8xy5JIg_NGPx-MSIDA     0  2018-01-09 20:56:38    0.0   \n",
       "4  b1b1eb3uo-w561D0ZfCEiQ     0  2018-01-30 23:07:38    0.0   \n",
       "\n",
       "                review_id  stars  \\\n",
       "0  Q1sbwvVQXV2734tPgoKj4Q    1.0   \n",
       "1  GJXCdrto3ASJOqKeVWPi6Q    5.0   \n",
       "2  2TzJjDVDEuAW6MR5Vuc1ug    5.0   \n",
       "3  yi0R0Ugj_xUx_Nek0-_Qig    5.0   \n",
       "4  11a8sVPMUFtaC7_ABRkmtw    1.0   \n",
       "\n",
       "                                                text  useful  \\\n",
       "0  Total bill for this horrible service? Over $8G...     6.0   \n",
       "1  I *adore* Travis at the Hard Rock's new Kelly ...     0.0   \n",
       "2  I have to say that this office really has it t...     3.0   \n",
       "3  Went in for a lunch. Steak sandwich was delici...     0.0   \n",
       "4  Today was my second out of three sessions I ha...     7.0   \n",
       "\n",
       "                  user_id  \n",
       "0  hG7b0MtEbXx5QzbzE6C_VA  \n",
       "1  yXQM5uF2jS6es16SJzNHfg  \n",
       "2  n6-Gk65cPZL6Uz8qRm3NYw  \n",
       "3  dacAIZ6fTM6mqwW5uxkskg  \n",
       "4  ssoyf2_x0EQMed6fgHeMyQ  "
      ]
     },
     "execution_count": 38,
     "metadata": {},
     "output_type": "execute_result"
    }
   ],
   "source": [
    "# Check the data\n",
    "reviewdf.head()"
   ]
  },
  {
   "cell_type": "code",
   "execution_count": 33,
   "metadata": {
    "ExecuteTime": {
     "end_time": "2019-09-30T22:22:58.326103Z",
     "start_time": "2019-09-30T22:22:58.310716Z"
    }
   },
   "outputs": [
    {
     "data": {
      "text/plain": [
       "(57484, 201)"
      ]
     },
     "execution_count": 33,
     "metadata": {},
     "output_type": "execute_result"
    }
   ],
   "source": [
    "# Check the DataFrame size\n",
    "restaurants.shape"
   ]
  },
  {
   "cell_type": "code",
   "execution_count": 15,
   "metadata": {
    "ExecuteTime": {
     "end_time": "2019-09-30T19:24:24.019132Z",
     "start_time": "2019-09-30T19:24:24.012957Z"
    }
   },
   "outputs": [
    {
     "data": {
      "text/plain": [
       "(6685902, 9)"
      ]
     },
     "execution_count": 15,
     "metadata": {},
     "output_type": "execute_result"
    }
   ],
   "source": [
    "# Check the DataFrame size\n",
    "reviewdf.shape"
   ]
  },
  {
   "cell_type": "markdown",
   "metadata": {
    "ExecuteTime": {
     "end_time": "2019-09-23T14:43:45.518262Z",
     "start_time": "2019-09-23T14:43:45.514612Z"
    }
   },
   "source": [
    "# Create a sample dataframe with Review information"
   ]
  },
  {
   "cell_type": "markdown",
   "metadata": {},
   "source": [
    "The original dataframe is too big and it took long time to obtain sentiment scores\n",
    "I decided to use 1% of total reviews randomly to make the process more efficient"
   ]
  },
  {
   "cell_type": "code",
   "execution_count": 35,
   "metadata": {
    "ExecuteTime": {
     "end_time": "2019-09-30T22:23:47.508719Z",
     "start_time": "2019-09-30T22:23:47.466580Z"
    }
   },
   "outputs": [
    {
     "data": {
      "text/plain": [
       "successful    38588\n",
       "failed        18896\n",
       "Name: prediction_col, dtype: int64"
      ]
     },
     "execution_count": 35,
     "metadata": {},
     "output_type": "execute_result"
    }
   ],
   "source": [
    "# Check the distribution of target values\n",
    "restaurants.prediction_col.value_counts()"
   ]
  },
  {
   "cell_type": "code",
   "execution_count": null,
   "metadata": {
    "ExecuteTime": {
     "end_time": "2019-09-30T19:24:24.565924Z",
     "start_time": "2019-09-30T19:23:48.230Z"
    }
   },
   "outputs": [],
   "source": [
    "#restaurants.sample(weights=restaurants['prediction_col'].map(lambda x: 1/3 if x==1 else 2/3), n=10000).prediction_col.value_counts()\n",
    "#sampledf = restaurants.sample(weights=restaurants['prediction_col'].map(lambda x: 1/2 if x==1 else 1/2), n=10000)"
   ]
  },
  {
   "cell_type": "code",
   "execution_count": null,
   "metadata": {
    "ExecuteTime": {
     "end_time": "2019-09-30T19:24:24.569433Z",
     "start_time": "2019-09-30T19:23:48.234Z"
    }
   },
   "outputs": [],
   "source": [
    "# Extract reviews of restaurants that are in the 'restaurants' DataFrame\n",
    "reviewdf2 = reviewdf[reviewdf.business_id.isin(restaurants.business_id) == True]"
   ]
  },
  {
   "cell_type": "code",
   "execution_count": null,
   "metadata": {
    "ExecuteTime": {
     "end_time": "2019-09-30T19:24:24.574210Z",
     "start_time": "2019-09-30T19:23:48.243Z"
    }
   },
   "outputs": [],
   "source": [
    "# Group the reviews by business_id\n",
    "reviewdf3 = pd.DataFrame(reviewdf2.groupby('business_id').count()['review_id']).reset_index()"
   ]
  },
  {
   "cell_type": "code",
   "execution_count": null,
   "metadata": {
    "ExecuteTime": {
     "end_time": "2019-09-30T19:24:24.576997Z",
     "start_time": "2019-09-30T19:23:48.247Z"
    },
    "scrolled": true
   },
   "outputs": [],
   "source": [
    "# Extract restaurants that have more than 50 reviews\n",
    "# This is for future use - I wanted to remove restaurants with less than 50 reviews\n",
    "reviewdf4 = reviewdf3[reviewdf3.review_id > 50]"
   ]
  },
  {
   "cell_type": "code",
   "execution_count": null,
   "metadata": {
    "ExecuteTime": {
     "end_time": "2019-09-30T19:24:24.581034Z",
     "start_time": "2019-09-30T19:23:48.251Z"
    }
   },
   "outputs": [],
   "source": [
    "# Extract reviews based on the businesses in the 'reviewdf4' DataFrame\n",
    "reviewdf5 = reviewdf[reviewdf.business_id.isin(reviewdf4.business_id) == True]"
   ]
  },
  {
   "cell_type": "code",
   "execution_count": null,
   "metadata": {
    "ExecuteTime": {
     "end_time": "2019-09-30T19:24:24.582461Z",
     "start_time": "2019-09-30T19:23:48.255Z"
    }
   },
   "outputs": [],
   "source": [
    "# Create a prediction column\n",
    "restaurants.prediction_col = restaurants.prediction_col.replace('successful', 1)\n",
    "restaurants.prediction_col = restaurants.prediction_col.replace('failed', 0)\n",
    "\n",
    "prediction = restaurants[['business_id', 'prediction_col']]"
   ]
  },
  {
   "cell_type": "code",
   "execution_count": null,
   "metadata": {
    "ExecuteTime": {
     "end_time": "2019-09-30T19:24:24.583969Z",
     "start_time": "2019-09-30T19:23:48.259Z"
    }
   },
   "outputs": [],
   "source": [
    "# Put all data in a DataFrame\n",
    "reviewdf6 = reviewdf5.merge(prediction, on='business_id')"
   ]
  },
  {
   "cell_type": "code",
   "execution_count": null,
   "metadata": {
    "ExecuteTime": {
     "end_time": "2019-09-30T19:24:24.586420Z",
     "start_time": "2019-09-30T19:23:48.263Z"
    }
   },
   "outputs": [],
   "source": [
    "# Create a sample dataset\n",
    "reviewdf6.sample(weights=reviewdf6['prediction_col'].map(lambda x: 1/2 if x==1 else 1/2), n=10000).prediction_col.value_counts()"
   ]
  },
  {
   "cell_type": "code",
   "execution_count": null,
   "metadata": {},
   "outputs": [],
   "source": [
    "# Define which column I use as y\n",
    "y = reviewdf6.prediction_col"
   ]
  },
  {
   "cell_type": "code",
   "execution_count": 327,
   "metadata": {
    "ExecuteTime": {
     "end_time": "2019-09-29T15:02:29.098296Z",
     "start_time": "2019-09-29T15:02:28.139883Z"
    }
   },
   "outputs": [
    {
     "data": {
      "text/plain": [
       "0.863674880520625"
      ]
     },
     "execution_count": 327,
     "metadata": {},
     "output_type": "execute_result"
    }
   ],
   "source": [
    "# Check the baseline\n",
    "# Failed to create a balanced dataset\n",
    "baseline = y.value_counts()[1]/len(y)\n",
    "baseline"
   ]
  },
  {
   "cell_type": "code",
   "execution_count": 334,
   "metadata": {
    "ExecuteTime": {
     "end_time": "2019-09-29T15:04:02.494292Z",
     "start_time": "2019-09-29T15:04:01.924527Z"
    }
   },
   "outputs": [
    {
     "name": "stdout",
     "output_type": "stream",
     "text": [
      "(2879353, 10)\n",
      "(2879353, 10)\n"
     ]
    }
   ],
   "source": [
    "# Re-try creating a dataset\n",
    "# Check the distribution of target values\n",
    "reviewdf6_sucessful = reviewdf6[reviewdf6.prediction_col == 1]\n",
    "print(reviewdf6_sucessful.shape)\n",
    "reviewdf6_failed = reviewdf6[reviewdf6.prediction_col == 0]\n",
    "print(reviewdf6_sucessful.shape)"
   ]
  },
  {
   "cell_type": "code",
   "execution_count": 335,
   "metadata": {
    "ExecuteTime": {
     "end_time": "2019-09-29T15:04:03.329979Z",
     "start_time": "2019-09-29T15:04:03.041773Z"
    }
   },
   "outputs": [
    {
     "name": "stdout",
     "output_type": "stream",
     "text": [
      "(57587, 10)\n",
      "(45449, 10)\n"
     ]
    }
   ],
   "source": [
    "# Check the distribition in the sample dataset\n",
    "review_s_df = reviewdf6_sucessful.sample(frac=0.02, random_state=1)\n",
    "print(review_s_df.shape)\n",
    "review_f_df = reviewdf6_failed.sample(frac=0.1, random_state=1)\n",
    "print(review_f_df.shape)"
   ]
  },
  {
   "cell_type": "code",
   "execution_count": 340,
   "metadata": {
    "ExecuteTime": {
     "end_time": "2019-09-29T15:05:24.293475Z",
     "start_time": "2019-09-29T15:05:24.167171Z"
    }
   },
   "outputs": [],
   "source": [
    "# Put all data in a DataFrame\n",
    "reviewdf7 = pd.concat([review_s_df, review_f_df], ignore_index=True)"
   ]
  },
  {
   "cell_type": "code",
   "execution_count": 23,
   "metadata": {
    "ExecuteTime": {
     "end_time": "2019-09-25T11:06:42.016465Z",
     "start_time": "2019-09-25T11:06:42.008586Z"
    }
   },
   "outputs": [
    {
     "data": {
      "text/plain": [
       "0.4953233445533347"
      ]
     },
     "execution_count": 23,
     "metadata": {},
     "output_type": "execute_result"
    }
   ],
   "source": [
    "# Re-define which column I use as y\n",
    "y = reviewdf7.prediction_col\n",
    "\n",
    "# Check the distribution\n",
    "# Successfully created a more balanced sample dataset\n",
    "baseline = y.value_counts()[1]/len(y)\n",
    "baseline"
   ]
  },
  {
   "cell_type": "markdown",
   "metadata": {},
   "source": [
    "# Create the sen_dict from the word_sentiments data frame"
   ]
  },
  {
   "cell_type": "code",
   "execution_count": 29,
   "metadata": {
    "ExecuteTime": {
     "end_time": "2019-09-30T19:40:00.534956Z",
     "start_time": "2019-09-30T19:40:00.347598Z"
    }
   },
   "outputs": [],
   "source": [
    "# The word sentiments are in the file word_sentiments.csv.\n",
    "sents = pd.read_csv('/Users/mai/Desktop/DSI9/DSI9-lessons/week06/day5_sentiment_analysis/sentiment-analysis-lab/datasets/word_sentiments.csv')"
   ]
  },
  {
   "cell_type": "code",
   "execution_count": 30,
   "metadata": {
    "ExecuteTime": {
     "end_time": "2019-09-30T19:40:01.256287Z",
     "start_time": "2019-09-30T19:40:01.239117Z"
    },
    "scrolled": true
   },
   "outputs": [
    {
     "data": {
      "text/html": [
       "<div>\n",
       "<style scoped>\n",
       "    .dataframe tbody tr th:only-of-type {\n",
       "        vertical-align: middle;\n",
       "    }\n",
       "\n",
       "    .dataframe tbody tr th {\n",
       "        vertical-align: top;\n",
       "    }\n",
       "\n",
       "    .dataframe thead th {\n",
       "        text-align: right;\n",
       "    }\n",
       "</style>\n",
       "<table border=\"1\" class=\"dataframe\">\n",
       "  <thead>\n",
       "    <tr style=\"text-align: right;\">\n",
       "      <th></th>\n",
       "      <th>pos</th>\n",
       "      <th>word</th>\n",
       "      <th>pos_score</th>\n",
       "      <th>neg_score</th>\n",
       "      <th>objectivity</th>\n",
       "      <th>pos_vs_neg</th>\n",
       "    </tr>\n",
       "  </thead>\n",
       "  <tbody>\n",
       "    <tr>\n",
       "      <th>0</th>\n",
       "      <td>ADJ</td>\n",
       "      <td>.22-caliber</td>\n",
       "      <td>0.0</td>\n",
       "      <td>0.0</td>\n",
       "      <td>1.0</td>\n",
       "      <td>0.0</td>\n",
       "    </tr>\n",
       "    <tr>\n",
       "      <th>1</th>\n",
       "      <td>ADJ</td>\n",
       "      <td>.22-calibre</td>\n",
       "      <td>0.0</td>\n",
       "      <td>0.0</td>\n",
       "      <td>1.0</td>\n",
       "      <td>0.0</td>\n",
       "    </tr>\n",
       "    <tr>\n",
       "      <th>2</th>\n",
       "      <td>ADJ</td>\n",
       "      <td>.22_caliber</td>\n",
       "      <td>0.0</td>\n",
       "      <td>0.0</td>\n",
       "      <td>1.0</td>\n",
       "      <td>0.0</td>\n",
       "    </tr>\n",
       "    <tr>\n",
       "      <th>3</th>\n",
       "      <td>ADJ</td>\n",
       "      <td>.22_calibre</td>\n",
       "      <td>0.0</td>\n",
       "      <td>0.0</td>\n",
       "      <td>1.0</td>\n",
       "      <td>0.0</td>\n",
       "    </tr>\n",
       "    <tr>\n",
       "      <th>4</th>\n",
       "      <td>ADJ</td>\n",
       "      <td>.38-caliber</td>\n",
       "      <td>0.0</td>\n",
       "      <td>0.0</td>\n",
       "      <td>1.0</td>\n",
       "      <td>0.0</td>\n",
       "    </tr>\n",
       "  </tbody>\n",
       "</table>\n",
       "</div>"
      ],
      "text/plain": [
       "   pos         word  pos_score  neg_score  objectivity  pos_vs_neg\n",
       "0  ADJ  .22-caliber        0.0        0.0          1.0         0.0\n",
       "1  ADJ  .22-calibre        0.0        0.0          1.0         0.0\n",
       "2  ADJ  .22_caliber        0.0        0.0          1.0         0.0\n",
       "3  ADJ  .22_calibre        0.0        0.0          1.0         0.0\n",
       "4  ADJ  .38-caliber        0.0        0.0          1.0         0.0"
      ]
     },
     "execution_count": 30,
     "metadata": {},
     "output_type": "execute_result"
    }
   ],
   "source": [
    "# Check the DataFrame\n",
    "sents.head()"
   ]
  },
  {
   "cell_type": "code",
   "execution_count": null,
   "metadata": {
    "ExecuteTime": {
     "end_time": "2019-09-25T11:05:44.549603Z",
     "start_time": "2019-09-25T11:05:22.215Z"
    }
   },
   "outputs": [],
   "source": [
    "# Create a function that converts data to sentiment scores\n",
    "def sent_converter(data):\n",
    "    analyzer = SentimentIntensityAnalyzer()\n",
    "    vader_scores = testdf['text'].map(analyzer.polarity_scores)\n",
    "    dvec = DictVectorizer()\n",
    "\n",
    "    vader_scores = dvec.fit_transform(vader_scores)\n",
    "    vader_scores"
   ]
  },
  {
   "cell_type": "code",
   "execution_count": null,
   "metadata": {
    "ExecuteTime": {
     "end_time": "2019-09-25T11:05:44.551043Z",
     "start_time": "2019-09-25T11:05:22.221Z"
    }
   },
   "outputs": [],
   "source": [
    "# Instantiate SentimentIntensityAnalyzer()\n",
    "analyzer = SentimentIntensityAnalyzer()"
   ]
  },
  {
   "cell_type": "code",
   "execution_count": null,
   "metadata": {
    "ExecuteTime": {
     "end_time": "2019-09-25T11:05:44.552373Z",
     "start_time": "2019-09-25T11:05:22.224Z"
    }
   },
   "outputs": [],
   "source": [
    "# Apply analyzer to 'text' column\n",
    "vader_scores = reviewdf7['text'].map(analyzer.polarity_scores)"
   ]
  },
  {
   "cell_type": "code",
   "execution_count": null,
   "metadata": {
    "ExecuteTime": {
     "end_time": "2019-09-25T11:05:44.556956Z",
     "start_time": "2019-09-25T11:05:22.227Z"
    }
   },
   "outputs": [],
   "source": [
    "# Apply DictVectorizer to create columns containing sentiment scores\n",
    "dvec = DictVectorizer()\n",
    "vader_scores = dvec.fit_transform(vader_scores)"
   ]
  },
  {
   "cell_type": "code",
   "execution_count": null,
   "metadata": {
    "ExecuteTime": {
     "end_time": "2019-09-25T11:05:44.559160Z",
     "start_time": "2019-09-25T11:05:22.230Z"
    }
   },
   "outputs": [],
   "source": [
    "# Create column names\n",
    "for i, col in enumerate(dvec.feature_names_):\n",
    "    reviewdf7['vader_{}'.format(col)] = vader_scores[:, i].toarray().ravel()"
   ]
  },
  {
   "cell_type": "code",
   "execution_count": null,
   "metadata": {
    "ExecuteTime": {
     "end_time": "2019-09-25T11:05:44.560814Z",
     "start_time": "2019-09-25T11:05:22.232Z"
    }
   },
   "outputs": [],
   "source": [
    "# Create categories for future use\n",
    "vader_result_col = []\n",
    "\n",
    "for i in reviewdf7['vader_compound']:\n",
    "    if i >= 0.05:\n",
    "        vader_result_col.append('positive')\n",
    "    elif i <=  - 0.05:\n",
    "        vader_result_col.append('negative')\n",
    "    else:\n",
    "        vader_result_col.append('neutral')"
   ]
  },
  {
   "cell_type": "code",
   "execution_count": null,
   "metadata": {
    "ExecuteTime": {
     "end_time": "2019-09-25T11:05:44.563801Z",
     "start_time": "2019-09-25T11:05:22.235Z"
    }
   },
   "outputs": [],
   "source": [
    "# Create a new column\n",
    "reviewdf7['vader_result'] = vader_result_col"
   ]
  },
  {
   "cell_type": "code",
   "execution_count": null,
   "metadata": {
    "ExecuteTime": {
     "end_time": "2019-09-25T11:05:44.565300Z",
     "start_time": "2019-09-25T11:05:22.238Z"
    }
   },
   "outputs": [],
   "source": [
    "# Create categories for star ratings\n",
    "star_category = []\n",
    "\n",
    "for i in reviewdf7['stars']:\n",
    "    if i >= 4:\n",
    "        star_category.append('positive')\n",
    "    elif i <=  2:\n",
    "        star_category.append('negative')\n",
    "    else:\n",
    "        star_category.append('neutral')"
   ]
  },
  {
   "cell_type": "code",
   "execution_count": null,
   "metadata": {
    "ExecuteTime": {
     "end_time": "2019-09-25T11:05:44.568035Z",
     "start_time": "2019-09-25T11:05:22.240Z"
    }
   },
   "outputs": [],
   "source": [
    "# Create a new column\n",
    "reviewdf7['star_category'] = star_category"
   ]
  },
  {
   "cell_type": "code",
   "execution_count": null,
   "metadata": {
    "ExecuteTime": {
     "end_time": "2019-09-25T11:05:44.580040Z",
     "start_time": "2019-09-25T11:05:22.243Z"
    }
   },
   "outputs": [],
   "source": [
    "# Pickle results \n",
    "reviewdf7.to_pickle('review_sentimentanalysis.pickle')"
   ]
  },
  {
   "cell_type": "code",
   "execution_count": 50,
   "metadata": {
    "ExecuteTime": {
     "end_time": "2019-09-30T22:26:33.508686Z",
     "start_time": "2019-09-30T22:26:33.263192Z"
    },
    "scrolled": true
   },
   "outputs": [],
   "source": [
    "# Check if I successfully pickled the data\n",
    "review_sa = pd.read_pickle('/Users/mai/Desktop/yelp_dataset/to_submit/review_sentimentanalysis.pickle')"
   ]
  },
  {
   "cell_type": "code",
   "execution_count": 51,
   "metadata": {
    "ExecuteTime": {
     "end_time": "2019-09-30T22:26:33.608622Z",
     "start_time": "2019-09-30T22:26:33.576742Z"
    }
   },
   "outputs": [
    {
     "data": {
      "text/html": [
       "<div>\n",
       "<style scoped>\n",
       "    .dataframe tbody tr th:only-of-type {\n",
       "        vertical-align: middle;\n",
       "    }\n",
       "\n",
       "    .dataframe tbody tr th {\n",
       "        vertical-align: top;\n",
       "    }\n",
       "\n",
       "    .dataframe thead th {\n",
       "        text-align: right;\n",
       "    }\n",
       "</style>\n",
       "<table border=\"1\" class=\"dataframe\">\n",
       "  <thead>\n",
       "    <tr style=\"text-align: right;\">\n",
       "      <th></th>\n",
       "      <th>business_id</th>\n",
       "      <th>cool</th>\n",
       "      <th>date</th>\n",
       "      <th>funny</th>\n",
       "      <th>review_id</th>\n",
       "      <th>stars</th>\n",
       "      <th>text</th>\n",
       "      <th>useful</th>\n",
       "      <th>user_id</th>\n",
       "      <th>prediction_col</th>\n",
       "      <th>vader_compound</th>\n",
       "      <th>vader_neg</th>\n",
       "      <th>vader_neu</th>\n",
       "      <th>vader_pos</th>\n",
       "      <th>vader_result</th>\n",
       "      <th>star_category</th>\n",
       "    </tr>\n",
       "  </thead>\n",
       "  <tbody>\n",
       "    <tr>\n",
       "      <th>0</th>\n",
       "      <td>lImzcOqB4etkPR9WT50lDg</td>\n",
       "      <td>0</td>\n",
       "      <td>2011-01-26 22:37:59</td>\n",
       "      <td>1.0</td>\n",
       "      <td>8SQqvzIkjGrzp5NFHjUurg</td>\n",
       "      <td>2.0</td>\n",
       "      <td>I called at 3:30 before I left home and verifi...</td>\n",
       "      <td>3.0</td>\n",
       "      <td>IC7NLIeWhS45_aEE_8aVUg</td>\n",
       "      <td>1</td>\n",
       "      <td>0.3818</td>\n",
       "      <td>0.034</td>\n",
       "      <td>0.910</td>\n",
       "      <td>0.056</td>\n",
       "      <td>positive</td>\n",
       "      <td>negative</td>\n",
       "    </tr>\n",
       "    <tr>\n",
       "      <th>1</th>\n",
       "      <td>hihud--QRriCYZw1zZvW4g</td>\n",
       "      <td>0</td>\n",
       "      <td>2018-07-17 00:15:46</td>\n",
       "      <td>0.0</td>\n",
       "      <td>SNPAXf7PkiAloR0e_Rf3EQ</td>\n",
       "      <td>5.0</td>\n",
       "      <td>Obsessed. So freakin good. Great service too. ...</td>\n",
       "      <td>0.0</td>\n",
       "      <td>Cp2xnws7dYQRsyYzszsLiw</td>\n",
       "      <td>1</td>\n",
       "      <td>0.8654</td>\n",
       "      <td>0.068</td>\n",
       "      <td>0.518</td>\n",
       "      <td>0.414</td>\n",
       "      <td>positive</td>\n",
       "      <td>positive</td>\n",
       "    </tr>\n",
       "    <tr>\n",
       "      <th>2</th>\n",
       "      <td>t5Ip9ggWaam6qAUH0WPKVg</td>\n",
       "      <td>0</td>\n",
       "      <td>2016-04-08 04:32:56</td>\n",
       "      <td>0.0</td>\n",
       "      <td>7tUmfqnN1brQNS3S5Fvzqw</td>\n",
       "      <td>5.0</td>\n",
       "      <td>My husband found this place bc I'm pregnant an...</td>\n",
       "      <td>0.0</td>\n",
       "      <td>Xv8GPBvUizxe2aZjW5hTRw</td>\n",
       "      <td>1</td>\n",
       "      <td>0.8802</td>\n",
       "      <td>0.045</td>\n",
       "      <td>0.720</td>\n",
       "      <td>0.234</td>\n",
       "      <td>positive</td>\n",
       "      <td>positive</td>\n",
       "    </tr>\n",
       "    <tr>\n",
       "      <th>3</th>\n",
       "      <td>Ey1iEY8yAQG5MEBZPQ_niQ</td>\n",
       "      <td>9</td>\n",
       "      <td>2015-09-08 04:49:51</td>\n",
       "      <td>4.0</td>\n",
       "      <td>9U3wDwvfkbW6e9dENmF_AQ</td>\n",
       "      <td>5.0</td>\n",
       "      <td>Viva Fremont! \\nThis was the most fun casino d...</td>\n",
       "      <td>12.0</td>\n",
       "      <td>WWWujmZ95y0a2RR5_kQ9sw</td>\n",
       "      <td>1</td>\n",
       "      <td>0.9853</td>\n",
       "      <td>0.036</td>\n",
       "      <td>0.774</td>\n",
       "      <td>0.189</td>\n",
       "      <td>positive</td>\n",
       "      <td>positive</td>\n",
       "    </tr>\n",
       "    <tr>\n",
       "      <th>4</th>\n",
       "      <td>2g6x4ISNiMxFnotBuwmZmw</td>\n",
       "      <td>0</td>\n",
       "      <td>2017-07-09 18:27:28</td>\n",
       "      <td>0.0</td>\n",
       "      <td>Rqla75aWPeieeMTbkEM6-Q</td>\n",
       "      <td>2.0</td>\n",
       "      <td>The food here is great and very surprising for...</td>\n",
       "      <td>0.0</td>\n",
       "      <td>iTxK9lco6b4mb1QUz6PQOw</td>\n",
       "      <td>1</td>\n",
       "      <td>0.8955</td>\n",
       "      <td>0.030</td>\n",
       "      <td>0.776</td>\n",
       "      <td>0.194</td>\n",
       "      <td>positive</td>\n",
       "      <td>negative</td>\n",
       "    </tr>\n",
       "  </tbody>\n",
       "</table>\n",
       "</div>"
      ],
      "text/plain": [
       "              business_id  cool                 date  funny  \\\n",
       "0  lImzcOqB4etkPR9WT50lDg     0  2011-01-26 22:37:59    1.0   \n",
       "1  hihud--QRriCYZw1zZvW4g     0  2018-07-17 00:15:46    0.0   \n",
       "2  t5Ip9ggWaam6qAUH0WPKVg     0  2016-04-08 04:32:56    0.0   \n",
       "3  Ey1iEY8yAQG5MEBZPQ_niQ     9  2015-09-08 04:49:51    4.0   \n",
       "4  2g6x4ISNiMxFnotBuwmZmw     0  2017-07-09 18:27:28    0.0   \n",
       "\n",
       "                review_id  stars  \\\n",
       "0  8SQqvzIkjGrzp5NFHjUurg    2.0   \n",
       "1  SNPAXf7PkiAloR0e_Rf3EQ    5.0   \n",
       "2  7tUmfqnN1brQNS3S5Fvzqw    5.0   \n",
       "3  9U3wDwvfkbW6e9dENmF_AQ    5.0   \n",
       "4  Rqla75aWPeieeMTbkEM6-Q    2.0   \n",
       "\n",
       "                                                text  useful  \\\n",
       "0  I called at 3:30 before I left home and verifi...     3.0   \n",
       "1  Obsessed. So freakin good. Great service too. ...     0.0   \n",
       "2  My husband found this place bc I'm pregnant an...     0.0   \n",
       "3  Viva Fremont! \\nThis was the most fun casino d...    12.0   \n",
       "4  The food here is great and very surprising for...     0.0   \n",
       "\n",
       "                  user_id  prediction_col  vader_compound  vader_neg  \\\n",
       "0  IC7NLIeWhS45_aEE_8aVUg               1          0.3818      0.034   \n",
       "1  Cp2xnws7dYQRsyYzszsLiw               1          0.8654      0.068   \n",
       "2  Xv8GPBvUizxe2aZjW5hTRw               1          0.8802      0.045   \n",
       "3  WWWujmZ95y0a2RR5_kQ9sw               1          0.9853      0.036   \n",
       "4  iTxK9lco6b4mb1QUz6PQOw               1          0.8955      0.030   \n",
       "\n",
       "   vader_neu  vader_pos vader_result star_category  \n",
       "0      0.910      0.056     positive      negative  \n",
       "1      0.518      0.414     positive      positive  \n",
       "2      0.720      0.234     positive      positive  \n",
       "3      0.774      0.189     positive      positive  \n",
       "4      0.776      0.194     positive      negative  "
      ]
     },
     "execution_count": 51,
     "metadata": {},
     "output_type": "execute_result"
    }
   ],
   "source": [
    "# Check the DataFrame\n",
    "review_sa.head()"
   ]
  },
  {
   "cell_type": "code",
   "execution_count": 52,
   "metadata": {
    "ExecuteTime": {
     "end_time": "2019-09-30T22:26:33.877069Z",
     "start_time": "2019-09-30T22:26:33.870442Z"
    }
   },
   "outputs": [
    {
     "data": {
      "text/plain": [
       "(134284, 16)"
      ]
     },
     "execution_count": 52,
     "metadata": {},
     "output_type": "execute_result"
    }
   ],
   "source": [
    "# Check the size\n",
    "review_sa.shape"
   ]
  },
  {
   "cell_type": "code",
   "execution_count": 53,
   "metadata": {
    "ExecuteTime": {
     "end_time": "2019-09-30T22:26:34.361239Z",
     "start_time": "2019-09-30T22:26:34.152983Z"
    }
   },
   "outputs": [],
   "source": [
    "# Check the number of reviews per business_id\n",
    "reviewcount = pd.DataFrame(review_sa.groupby('business_id').count()['review_id']).reset_index()\n",
    "reviewcount.rename(columns={'review_id': 'review_count'}, inplace=True)"
   ]
  },
  {
   "cell_type": "code",
   "execution_count": 54,
   "metadata": {
    "ExecuteTime": {
     "end_time": "2019-09-30T22:26:34.736159Z",
     "start_time": "2019-09-30T22:26:34.718763Z"
    },
    "scrolled": true
   },
   "outputs": [
    {
     "data": {
      "text/html": [
       "<div>\n",
       "<style scoped>\n",
       "    .dataframe tbody tr th:only-of-type {\n",
       "        vertical-align: middle;\n",
       "    }\n",
       "\n",
       "    .dataframe tbody tr th {\n",
       "        vertical-align: top;\n",
       "    }\n",
       "\n",
       "    .dataframe thead th {\n",
       "        text-align: right;\n",
       "    }\n",
       "</style>\n",
       "<table border=\"1\" class=\"dataframe\">\n",
       "  <thead>\n",
       "    <tr style=\"text-align: right;\">\n",
       "      <th></th>\n",
       "      <th>business_id</th>\n",
       "      <th>review_count</th>\n",
       "    </tr>\n",
       "  </thead>\n",
       "  <tbody>\n",
       "    <tr>\n",
       "      <th>20515</th>\n",
       "      <td>cYwJA2A6I12KNkm2rtXd5g</td>\n",
       "      <td>546</td>\n",
       "    </tr>\n",
       "    <tr>\n",
       "      <th>11043</th>\n",
       "      <td>KskYqH1Bi7Z_61pH6Om8pg</td>\n",
       "      <td>426</td>\n",
       "    </tr>\n",
       "    <tr>\n",
       "      <th>21622</th>\n",
       "      <td>eoHdUeQDNgQ6WYEnP2aiRw</td>\n",
       "      <td>411</td>\n",
       "    </tr>\n",
       "    <tr>\n",
       "      <th>14232</th>\n",
       "      <td>RESDUcs7fIiihp38-d6_6g</td>\n",
       "      <td>186</td>\n",
       "    </tr>\n",
       "    <tr>\n",
       "      <th>13791</th>\n",
       "      <td>QJR4qBUHegWEozSQrGmBPw</td>\n",
       "      <td>180</td>\n",
       "    </tr>\n",
       "  </tbody>\n",
       "</table>\n",
       "</div>"
      ],
      "text/plain": [
       "                  business_id  review_count\n",
       "20515  cYwJA2A6I12KNkm2rtXd5g           546\n",
       "11043  KskYqH1Bi7Z_61pH6Om8pg           426\n",
       "21622  eoHdUeQDNgQ6WYEnP2aiRw           411\n",
       "14232  RESDUcs7fIiihp38-d6_6g           186\n",
       "13791  QJR4qBUHegWEozSQrGmBPw           180"
      ]
     },
     "execution_count": 54,
     "metadata": {},
     "output_type": "execute_result"
    }
   ],
   "source": [
    "# It will take many hours to process SentimentIntensityAnalyzer()... \n",
    "reviewcount.sort_values(by='review_count', ascending=False).head()"
   ]
  },
  {
   "cell_type": "markdown",
   "metadata": {},
   "source": [
    "# Group reviews per business_id"
   ]
  },
  {
   "cell_type": "code",
   "execution_count": 55,
   "metadata": {
    "ExecuteTime": {
     "end_time": "2019-09-30T22:26:36.163810Z",
     "start_time": "2019-09-30T22:26:35.889646Z"
    }
   },
   "outputs": [],
   "source": [
    "# Clean up reviews\n",
    "review_sa['text'] = review_sa['text'].apply(lambda text: (text+' ')).apply(lambda text: text.replace('\\n', ''))"
   ]
  },
  {
   "cell_type": "code",
   "execution_count": 56,
   "metadata": {
    "ExecuteTime": {
     "end_time": "2019-09-30T22:26:37.185507Z",
     "start_time": "2019-09-30T22:26:37.054828Z"
    }
   },
   "outputs": [],
   "source": [
    "# Group reviews per business id\n",
    "review_sa2 = pd.DataFrame(review_sa.groupby('business_id').mean())\n",
    "review_sa2 = review_sa2.reset_index()"
   ]
  },
  {
   "cell_type": "markdown",
   "metadata": {},
   "source": [
    "# Add prediction variables to review dataframe"
   ]
  },
  {
   "cell_type": "code",
   "execution_count": 57,
   "metadata": {
    "ExecuteTime": {
     "end_time": "2019-09-30T22:26:38.353412Z",
     "start_time": "2019-09-30T22:26:38.304861Z"
    }
   },
   "outputs": [],
   "source": [
    "# Create prediction variables\n",
    "restaurants.prediction_col = restaurants.prediction_col.replace('successful', 1)\n",
    "restaurants.prediction_col = restaurants.prediction_col.replace('failed', 0)"
   ]
  },
  {
   "cell_type": "code",
   "execution_count": 47,
   "metadata": {
    "ExecuteTime": {
     "end_time": "2019-09-30T22:25:50.144481Z",
     "start_time": "2019-09-30T22:25:50.127457Z"
    }
   },
   "outputs": [],
   "source": [
    "# Create a small dataset to run codes faster\n",
    "prediction = restaurants[['business_id', 'prediction_col']]"
   ]
  },
  {
   "cell_type": "code",
   "execution_count": 59,
   "metadata": {
    "ExecuteTime": {
     "end_time": "2019-09-30T22:26:43.050915Z",
     "start_time": "2019-09-30T22:26:42.777655Z"
    }
   },
   "outputs": [],
   "source": [
    "# Merge the dataframe based on busienss_id\n",
    "df = review_sa2.merge(restaurants, on='business_id')"
   ]
  },
  {
   "cell_type": "markdown",
   "metadata": {},
   "source": [
    "# Delete duplicated columns"
   ]
  },
  {
   "cell_type": "code",
   "execution_count": 61,
   "metadata": {
    "ExecuteTime": {
     "end_time": "2019-09-30T22:27:13.010821Z",
     "start_time": "2019-09-30T22:27:12.934654Z"
    }
   },
   "outputs": [],
   "source": [
    "df.drop(columns='prediction_col_y', axis=1, inplace=True)"
   ]
  },
  {
   "cell_type": "code",
   "execution_count": 62,
   "metadata": {
    "ExecuteTime": {
     "end_time": "2019-09-30T22:27:13.322280Z",
     "start_time": "2019-09-30T22:27:13.306500Z"
    },
    "scrolled": true
   },
   "outputs": [],
   "source": [
    "df.rename(columns={'prediction_col_x': 'prediction_col'}, inplace=True)"
   ]
  },
  {
   "cell_type": "markdown",
   "metadata": {},
   "source": [
    "# Check the baseline"
   ]
  },
  {
   "cell_type": "code",
   "execution_count": 63,
   "metadata": {
    "ExecuteTime": {
     "end_time": "2019-09-30T22:27:40.208893Z",
     "start_time": "2019-09-30T22:27:40.205747Z"
    }
   },
   "outputs": [],
   "source": [
    "# Define which column to use as y\n",
    "y = df.prediction_col"
   ]
  },
  {
   "cell_type": "code",
   "execution_count": 64,
   "metadata": {
    "ExecuteTime": {
     "end_time": "2019-09-30T22:27:40.388337Z",
     "start_time": "2019-09-30T22:27:40.374993Z"
    },
    "scrolled": true
   },
   "outputs": [
    {
     "data": {
      "text/plain": [
       "0.5860499674932664"
      ]
     },
     "execution_count": 64,
     "metadata": {},
     "output_type": "execute_result"
    }
   ],
   "source": [
    "# Check the baseline\n",
    "baseline = y.value_counts()[1]/len(y)\n",
    "baseline"
   ]
  },
  {
   "cell_type": "code",
   "execution_count": 65,
   "metadata": {
    "ExecuteTime": {
     "end_time": "2019-09-30T22:27:40.599163Z",
     "start_time": "2019-09-30T22:27:40.584660Z"
    }
   },
   "outputs": [
    {
     "data": {
      "text/plain": [
       "(32301, 209)"
      ]
     },
     "execution_count": 65,
     "metadata": {},
     "output_type": "execute_result"
    }
   ],
   "source": [
    "# Check the DataFrame size\n",
    "df.shape"
   ]
  },
  {
   "cell_type": "markdown",
   "metadata": {},
   "source": [
    "# Create training and test scores"
   ]
  },
  {
   "cell_type": "code",
   "execution_count": 68,
   "metadata": {
    "ExecuteTime": {
     "end_time": "2019-09-30T22:29:12.791507Z",
     "start_time": "2019-09-30T22:29:12.784302Z"
    }
   },
   "outputs": [],
   "source": [
    "# Define which columns to be used as X\n",
    "X = df[['cool', 'funny', 'stars', 'useful',\n",
    "       'vader_compound', 'vader_neg',\n",
    "       'vader_neu', 'vader_pos']]"
   ]
  },
  {
   "cell_type": "code",
   "execution_count": 69,
   "metadata": {
    "ExecuteTime": {
     "end_time": "2019-09-30T22:29:12.818002Z",
     "start_time": "2019-09-30T22:29:12.794201Z"
    }
   },
   "outputs": [],
   "source": [
    "# Prepare datasets for modeling\n",
    "X_train, X_test, y_train, y_test = train_test_split(X, y, stratify=y, test_size=0.5, random_state=1)"
   ]
  },
  {
   "cell_type": "code",
   "execution_count": 70,
   "metadata": {
    "ExecuteTime": {
     "end_time": "2019-09-30T22:29:12.831372Z",
     "start_time": "2019-09-30T22:29:12.819591Z"
    }
   },
   "outputs": [],
   "source": [
    "scaler = StandardScaler()\n",
    "X_train_std = scaler.fit_transform(X_train)\n",
    "X_test_std = scaler.transform(X_test)"
   ]
  },
  {
   "cell_type": "markdown",
   "metadata": {},
   "source": [
    "# Fit a Logistic Regression CV"
   ]
  },
  {
   "cell_type": "code",
   "execution_count": 71,
   "metadata": {
    "ExecuteTime": {
     "end_time": "2019-09-30T22:29:12.835851Z",
     "start_time": "2019-09-30T22:29:12.832928Z"
    }
   },
   "outputs": [],
   "source": [
    "# Instantiate a model\n",
    "model_lr = LogisticRegressionCV(Cs=100, solver='lbfgs', random_state=1)"
   ]
  },
  {
   "cell_type": "code",
   "execution_count": 72,
   "metadata": {
    "ExecuteTime": {
     "end_time": "2019-09-30T22:29:15.184843Z",
     "start_time": "2019-09-30T22:29:12.837505Z"
    },
    "scrolled": true
   },
   "outputs": [
    {
     "data": {
      "text/plain": [
       "LogisticRegressionCV(Cs=100, class_weight=None, cv='warn', dual=False,\n",
       "           fit_intercept=True, intercept_scaling=1.0, max_iter=100,\n",
       "           multi_class='warn', n_jobs=None, penalty='l2', random_state=1,\n",
       "           refit=True, scoring=None, solver='lbfgs', tol=0.0001, verbose=0)"
      ]
     },
     "execution_count": 72,
     "metadata": {},
     "output_type": "execute_result"
    }
   ],
   "source": [
    "# Fit a model\n",
    "model_lr.fit(X_train, y_train)"
   ]
  },
  {
   "cell_type": "code",
   "execution_count": 73,
   "metadata": {
    "ExecuteTime": {
     "end_time": "2019-09-30T22:29:15.196060Z",
     "start_time": "2019-09-30T22:29:15.187860Z"
    }
   },
   "outputs": [
    {
     "data": {
      "text/plain": [
       "array([0.2722])"
      ]
     },
     "execution_count": 73,
     "metadata": {},
     "output_type": "execute_result"
    }
   ],
   "source": [
    "# Check the intercept\n",
    "model_lr.intercept_"
   ]
  },
  {
   "cell_type": "code",
   "execution_count": 74,
   "metadata": {
    "ExecuteTime": {
     "end_time": "2019-09-30T22:29:15.207954Z",
     "start_time": "2019-09-30T22:29:15.198904Z"
    }
   },
   "outputs": [
    {
     "data": {
      "text/plain": [
       "0.5842724458204335"
      ]
     },
     "execution_count": 74,
     "metadata": {},
     "output_type": "execute_result"
    }
   ],
   "source": [
    "# Check the train score\n",
    "model_lr.score(X_train, y_train)"
   ]
  },
  {
   "cell_type": "code",
   "execution_count": 75,
   "metadata": {
    "ExecuteTime": {
     "end_time": "2019-09-30T22:29:15.219051Z",
     "start_time": "2019-09-30T22:29:15.209993Z"
    }
   },
   "outputs": [
    {
     "data": {
      "text/plain": [
       "0.5866509813633831"
      ]
     },
     "execution_count": 75,
     "metadata": {},
     "output_type": "execute_result"
    }
   ],
   "source": [
    "# Check the test score\n",
    "model_lr.score(X_test, y_test)"
   ]
  },
  {
   "cell_type": "code",
   "execution_count": 76,
   "metadata": {
    "ExecuteTime": {
     "end_time": "2019-09-30T22:29:35.911304Z",
     "start_time": "2019-09-30T22:29:15.220677Z"
    }
   },
   "outputs": [
    {
     "data": {
      "text/plain": [
       "0.5840253751211553"
      ]
     },
     "execution_count": 76,
     "metadata": {},
     "output_type": "execute_result"
    }
   ],
   "source": [
    "# Check the cross-validation score\n",
    "cv_scores = cross_val_score(model_lr, X_train, y_train, cv=10).mean()\n",
    "cv_scores"
   ]
  },
  {
   "cell_type": "code",
   "execution_count": 77,
   "metadata": {
    "ExecuteTime": {
     "end_time": "2019-09-30T22:29:38.782331Z",
     "start_time": "2019-09-30T22:29:35.913390Z"
    },
    "scrolled": true
   },
   "outputs": [
    {
     "data": {
      "text/html": [
       "<div>\n",
       "<style scoped>\n",
       "    .dataframe tbody tr th:only-of-type {\n",
       "        vertical-align: middle;\n",
       "    }\n",
       "\n",
       "    .dataframe tbody tr th {\n",
       "        vertical-align: top;\n",
       "    }\n",
       "\n",
       "    .dataframe thead th {\n",
       "        text-align: right;\n",
       "    }\n",
       "</style>\n",
       "<table border=\"1\" class=\"dataframe\">\n",
       "  <thead>\n",
       "    <tr style=\"text-align: right;\">\n",
       "      <th></th>\n",
       "      <th>0.0</th>\n",
       "      <th>1.0</th>\n",
       "    </tr>\n",
       "  </thead>\n",
       "  <tbody>\n",
       "    <tr>\n",
       "      <th>0.0</th>\n",
       "      <td>124</td>\n",
       "      <td>6562</td>\n",
       "    </tr>\n",
       "    <tr>\n",
       "      <th>1.0</th>\n",
       "      <td>114</td>\n",
       "      <td>9351</td>\n",
       "    </tr>\n",
       "  </tbody>\n",
       "</table>\n",
       "</div>"
      ],
      "text/plain": [
       "     0.0   1.0\n",
       "0.0  124  6562\n",
       "1.0  114  9351"
      ]
     },
     "execution_count": 77,
     "metadata": {},
     "output_type": "execute_result"
    }
   ],
   "source": [
    "# create a confusion matrix\n",
    "pred_list = model_lr.predict_proba(X_train)\n",
    "\n",
    "pred_result = pd.DataFrame(pred_list, y_train)\n",
    "pred_result.reset_index(inplace=True)\n",
    "\n",
    "model_lr.fit(X_train, y_train)\n",
    "predictions = model_lr.predict(X_test)\n",
    "confusion = confusion_matrix(y_test, predictions)\n",
    "pd.DataFrame(confusion, columns=sorted(y_train.unique()),\n",
    "             index=sorted(y_train.unique()))"
   ]
  },
  {
   "cell_type": "code",
   "execution_count": 78,
   "metadata": {
    "ExecuteTime": {
     "end_time": "2019-09-30T22:29:38.817787Z",
     "start_time": "2019-09-30T22:29:38.786108Z"
    }
   },
   "outputs": [
    {
     "name": "stdout",
     "output_type": "stream",
     "text": [
      "              precision    recall  f1-score   support\n",
      "\n",
      "         0.0       0.52      0.02      0.04      6686\n",
      "         1.0       0.59      0.99      0.74      9465\n",
      "\n",
      "   micro avg       0.59      0.59      0.59     16151\n",
      "   macro avg       0.55      0.50      0.39     16151\n",
      "weighted avg       0.56      0.59      0.45     16151\n",
      "\n"
     ]
    }
   ],
   "source": [
    "# Check the precision and recall score \n",
    "# The result below is without treshold being set \n",
    "\n",
    "yhat_lr = model_lr.predict(X_test)\n",
    "yhat_pp_lr = model_lr.predict_proba(X_test)\n",
    "print(classification_report(y_test, yhat_lr))"
   ]
  },
  {
   "cell_type": "code",
   "execution_count": 79,
   "metadata": {
    "ExecuteTime": {
     "end_time": "2019-09-30T22:29:38.844488Z",
     "start_time": "2019-09-30T22:29:38.825629Z"
    }
   },
   "outputs": [
    {
     "data": {
      "text/html": [
       "<div>\n",
       "<style scoped>\n",
       "    .dataframe tbody tr th:only-of-type {\n",
       "        vertical-align: middle;\n",
       "    }\n",
       "\n",
       "    .dataframe tbody tr th {\n",
       "        vertical-align: top;\n",
       "    }\n",
       "\n",
       "    .dataframe thead th {\n",
       "        text-align: right;\n",
       "    }\n",
       "</style>\n",
       "<table border=\"1\" class=\"dataframe\">\n",
       "  <thead>\n",
       "    <tr style=\"text-align: right;\">\n",
       "      <th></th>\n",
       "      <th>prediction_col</th>\n",
       "      <th>actual</th>\n",
       "      <th>0</th>\n",
       "      <th>1</th>\n",
       "      <th>difference</th>\n",
       "    </tr>\n",
       "  </thead>\n",
       "  <tbody>\n",
       "    <tr>\n",
       "      <th>8</th>\n",
       "      <td>0.0</td>\n",
       "      <td>1.0</td>\n",
       "      <td>0.465524</td>\n",
       "      <td>0.534476</td>\n",
       "      <td>-0.07</td>\n",
       "    </tr>\n",
       "    <tr>\n",
       "      <th>9</th>\n",
       "      <td>0.0</td>\n",
       "      <td>1.0</td>\n",
       "      <td>0.406621</td>\n",
       "      <td>0.593379</td>\n",
       "      <td>-0.19</td>\n",
       "    </tr>\n",
       "    <tr>\n",
       "      <th>11</th>\n",
       "      <td>0.0</td>\n",
       "      <td>1.0</td>\n",
       "      <td>0.392602</td>\n",
       "      <td>0.607398</td>\n",
       "      <td>-0.21</td>\n",
       "    </tr>\n",
       "    <tr>\n",
       "      <th>16</th>\n",
       "      <td>0.0</td>\n",
       "      <td>1.0</td>\n",
       "      <td>0.396233</td>\n",
       "      <td>0.603767</td>\n",
       "      <td>-0.21</td>\n",
       "    </tr>\n",
       "    <tr>\n",
       "      <th>17</th>\n",
       "      <td>0.0</td>\n",
       "      <td>1.0</td>\n",
       "      <td>0.416864</td>\n",
       "      <td>0.583136</td>\n",
       "      <td>-0.17</td>\n",
       "    </tr>\n",
       "  </tbody>\n",
       "</table>\n",
       "</div>"
      ],
      "text/plain": [
       "    prediction_col  actual         0         1  difference\n",
       "8              0.0     1.0  0.465524  0.534476       -0.07\n",
       "9              0.0     1.0  0.406621  0.593379       -0.19\n",
       "11             0.0     1.0  0.392602  0.607398       -0.21\n",
       "16             0.0     1.0  0.396233  0.603767       -0.21\n",
       "17             0.0     1.0  0.416864  0.583136       -0.17"
      ]
     },
     "execution_count": 79,
     "metadata": {},
     "output_type": "execute_result"
    }
   ],
   "source": [
    "# Check the misclassified items\n",
    "pred_list = model_lr.predict_proba(X_train)\n",
    "pred_result = pd.DataFrame(pred_list, y_train)\n",
    "pred_result['actual'] = model_lr.predict(X_train)\n",
    "pred_result.reset_index(inplace=True)\n",
    "misclassified = pred_result[pred_result.prediction_col != pred_result.actual]\n",
    "misclassified = misclassified.reindex(columns=['prediction_col', 'actual', 0, 1])\n",
    "misclassified['difference'] = (misclassified[0] - misclassified[1]).round(2)\n",
    "misclassified[:5]"
   ]
  },
  {
   "cell_type": "code",
   "execution_count": 80,
   "metadata": {
    "ExecuteTime": {
     "end_time": "2019-09-30T22:29:38.849911Z",
     "start_time": "2019-09-30T22:29:38.846283Z"
    }
   },
   "outputs": [],
   "source": [
    "# Create a dataframe to look at the coefficients\n",
    "coef_df_lr = pd.DataFrame({'feature': X.columns,\n",
    "                        'coef': model_lr.coef_[0],\n",
    "                        'abs_coef': np.abs(model_lr.coef_[0])})"
   ]
  },
  {
   "cell_type": "code",
   "execution_count": 81,
   "metadata": {
    "ExecuteTime": {
     "end_time": "2019-09-30T22:29:38.862593Z",
     "start_time": "2019-09-30T22:29:38.853279Z"
    }
   },
   "outputs": [
    {
     "data": {
      "text/html": [
       "<div>\n",
       "<style scoped>\n",
       "    .dataframe tbody tr th:only-of-type {\n",
       "        vertical-align: middle;\n",
       "    }\n",
       "\n",
       "    .dataframe tbody tr th {\n",
       "        vertical-align: top;\n",
       "    }\n",
       "\n",
       "    .dataframe thead th {\n",
       "        text-align: right;\n",
       "    }\n",
       "</style>\n",
       "<table border=\"1\" class=\"dataframe\">\n",
       "  <thead>\n",
       "    <tr style=\"text-align: right;\">\n",
       "      <th></th>\n",
       "      <th>feature</th>\n",
       "      <th>coef</th>\n",
       "      <th>abs_coef</th>\n",
       "    </tr>\n",
       "  </thead>\n",
       "  <tbody>\n",
       "    <tr>\n",
       "      <th>4</th>\n",
       "      <td>vader_compound</td>\n",
       "      <td>-0.112652</td>\n",
       "      <td>0.112652</td>\n",
       "    </tr>\n",
       "    <tr>\n",
       "      <th>3</th>\n",
       "      <td>useful</td>\n",
       "      <td>-0.085418</td>\n",
       "      <td>0.085418</td>\n",
       "    </tr>\n",
       "    <tr>\n",
       "      <th>2</th>\n",
       "      <td>stars</td>\n",
       "      <td>0.061460</td>\n",
       "      <td>0.061460</td>\n",
       "    </tr>\n",
       "    <tr>\n",
       "      <th>0</th>\n",
       "      <td>cool</td>\n",
       "      <td>0.047169</td>\n",
       "      <td>0.047169</td>\n",
       "    </tr>\n",
       "    <tr>\n",
       "      <th>1</th>\n",
       "      <td>funny</td>\n",
       "      <td>0.023321</td>\n",
       "      <td>0.023321</td>\n",
       "    </tr>\n",
       "    <tr>\n",
       "      <th>6</th>\n",
       "      <td>vader_neu</td>\n",
       "      <td>-0.009663</td>\n",
       "      <td>0.009663</td>\n",
       "    </tr>\n",
       "    <tr>\n",
       "      <th>7</th>\n",
       "      <td>vader_pos</td>\n",
       "      <td>0.006760</td>\n",
       "      <td>0.006760</td>\n",
       "    </tr>\n",
       "    <tr>\n",
       "      <th>5</th>\n",
       "      <td>vader_neg</td>\n",
       "      <td>0.002617</td>\n",
       "      <td>0.002617</td>\n",
       "    </tr>\n",
       "  </tbody>\n",
       "</table>\n",
       "</div>"
      ],
      "text/plain": [
       "          feature      coef  abs_coef\n",
       "4  vader_compound -0.112652  0.112652\n",
       "3          useful -0.085418  0.085418\n",
       "2           stars  0.061460  0.061460\n",
       "0            cool  0.047169  0.047169\n",
       "1           funny  0.023321  0.023321\n",
       "6       vader_neu -0.009663  0.009663\n",
       "7       vader_pos  0.006760  0.006760\n",
       "5       vader_neg  0.002617  0.002617"
      ]
     },
     "execution_count": 81,
     "metadata": {},
     "output_type": "execute_result"
    }
   ],
   "source": [
    "# Sort by absolute value of coefficient (magnitude)\n",
    "coef_df_lr = coef_df_lr.sort_values(by='abs_coef', ascending=False)\n",
    "coef_df_lr"
   ]
  },
  {
   "cell_type": "code",
   "execution_count": 82,
   "metadata": {
    "ExecuteTime": {
     "end_time": "2019-09-30T22:29:39.080520Z",
     "start_time": "2019-09-30T22:29:38.864415Z"
    }
   },
   "outputs": [
    {
     "data": {
      "image/png": "[encoded data removed]",
      "text/plain": [
       "<Figure size 432x288 with 1 Axes>"
      ]
     },
     "metadata": {
      "image/png": {
       "height": 278,
       "width": 567
      },
      "needs_background": "light"
     },
     "output_type": "display_data"
    }
   ],
   "source": [
    "# Plot the coefficient table\n",
    "sort_coef = pd.concat([coef_df_lr.sort_values(by='coef', ascending=False).head(5),\n",
    "                      coef_df_lr.sort_values(by='coef', ascending=False).tail(5)])\n",
    "sns.barplot(y = sort_coef.feature, x = sort_coef.coef, palette = \"RdBu_r\")\n",
    "plt.title(\"Coefficients for LogisticRegresson (Highest and Lowest)\", loc = 'left', fontsize = 16)\n",
    "plt.show()"
   ]
  },
  {
   "cell_type": "markdown",
   "metadata": {},
   "source": [
    "# Fit a Logistic Regression CV with a Ridge penalty"
   ]
  },
  {
   "cell_type": "code",
   "execution_count": 83,
   "metadata": {
    "ExecuteTime": {
     "end_time": "2019-09-30T22:29:39.104924Z",
     "start_time": "2019-09-30T22:29:39.081875Z"
    }
   },
   "outputs": [],
   "source": [
    "# Prepare the datasets for modeling\n",
    "Xr = X.copy()\n",
    "\n",
    "Xr_train, Xr_test, y_train, y_test = train_test_split(Xr, y, stratify=y, test_size=0.5, random_state=1)\n",
    "\n",
    "Xr_train = scaler.fit_transform(Xr_train)\n",
    "Xr_test = scaler.transform(Xr_test)"
   ]
  },
  {
   "cell_type": "code",
   "execution_count": 84,
   "metadata": {
    "ExecuteTime": {
     "end_time": "2019-09-30T22:29:39.109052Z",
     "start_time": "2019-09-30T22:29:39.106501Z"
    }
   },
   "outputs": [],
   "source": [
    "# Define StratifiedKFold\n",
    "kf = StratifiedKFold(n_splits=10, shuffle=True, random_state=1)"
   ]
  },
  {
   "cell_type": "code",
   "execution_count": 85,
   "metadata": {
    "ExecuteTime": {
     "end_time": "2019-09-30T22:29:39.113906Z",
     "start_time": "2019-09-30T22:29:39.110791Z"
    }
   },
   "outputs": [],
   "source": [
    "# Instantiate the model\n",
    "lr_ridge = LogisticRegressionCV(penalty='l2', Cs=100, cv=kf)"
   ]
  },
  {
   "cell_type": "code",
   "execution_count": 86,
   "metadata": {
    "ExecuteTime": {
     "end_time": "2019-09-30T22:30:04.545935Z",
     "start_time": "2019-09-30T22:29:39.115371Z"
    }
   },
   "outputs": [
    {
     "name": "stdout",
     "output_type": "stream",
     "text": [
      "[0.0001]\n",
      "0.5855108359133127\n",
      "0.5858460776422513\n",
      "0.5846439628482972\n"
     ]
    }
   ],
   "source": [
    "# Fit the model, find the C_ value, and check train, test, cross-validation scores\n",
    "lr_ridge.fit(Xr_train, y_train)\n",
    "print(lr_ridge.C_)\n",
    "print(lr_ridge.score(Xr_train, y_train))\n",
    "print(lr_ridge.score(Xr_test, y_test))\n",
    "\n",
    "cv_scores = cross_val_score(lr_ridge, Xr_train, y_train, cv=5).mean()\n",
    "print(cv_scores)"
   ]
  },
  {
   "cell_type": "code",
   "execution_count": 87,
   "metadata": {
    "ExecuteTime": {
     "end_time": "2019-09-30T22:30:04.575981Z",
     "start_time": "2019-09-30T22:30:04.547946Z"
    }
   },
   "outputs": [
    {
     "name": "stdout",
     "output_type": "stream",
     "text": [
      "              precision    recall  f1-score   support\n",
      "\n",
      "         0.0       0.20      0.00      0.00      6686\n",
      "         1.0       0.59      1.00      0.74      9465\n",
      "\n",
      "   micro avg       0.59      0.59      0.59     16151\n",
      "   macro avg       0.39      0.50      0.37     16151\n",
      "weighted avg       0.43      0.59      0.43     16151\n",
      "\n"
     ]
    }
   ],
   "source": [
    "# Check precision and recall scores\n",
    "yhat_lr_ridge = lr_ridge.predict(Xr_test)\n",
    "yhat_pp_ridge = lr_ridge.predict_proba(Xr_test)\n",
    "print(classification_report(y_test, yhat_lr_ridge))"
   ]
  },
  {
   "cell_type": "code",
   "execution_count": 88,
   "metadata": {
    "ExecuteTime": {
     "end_time": "2019-09-30T22:30:04.604757Z",
     "start_time": "2019-09-30T22:30:04.579772Z"
    }
   },
   "outputs": [
    {
     "data": {
      "text/html": [
       "<div>\n",
       "<style scoped>\n",
       "    .dataframe tbody tr th:only-of-type {\n",
       "        vertical-align: middle;\n",
       "    }\n",
       "\n",
       "    .dataframe tbody tr th {\n",
       "        vertical-align: top;\n",
       "    }\n",
       "\n",
       "    .dataframe thead th {\n",
       "        text-align: right;\n",
       "    }\n",
       "</style>\n",
       "<table border=\"1\" class=\"dataframe\">\n",
       "  <thead>\n",
       "    <tr style=\"text-align: right;\">\n",
       "      <th></th>\n",
       "      <th>prediction_col</th>\n",
       "      <th>actual</th>\n",
       "      <th>0</th>\n",
       "      <th>1</th>\n",
       "      <th>difference</th>\n",
       "    </tr>\n",
       "  </thead>\n",
       "  <tbody>\n",
       "    <tr>\n",
       "      <th>8</th>\n",
       "      <td>0.0</td>\n",
       "      <td>1.0</td>\n",
       "      <td>0.427645</td>\n",
       "      <td>0.572355</td>\n",
       "      <td>-0.14</td>\n",
       "    </tr>\n",
       "    <tr>\n",
       "      <th>9</th>\n",
       "      <td>0.0</td>\n",
       "      <td>1.0</td>\n",
       "      <td>0.408681</td>\n",
       "      <td>0.591319</td>\n",
       "      <td>-0.18</td>\n",
       "    </tr>\n",
       "    <tr>\n",
       "      <th>11</th>\n",
       "      <td>0.0</td>\n",
       "      <td>1.0</td>\n",
       "      <td>0.411857</td>\n",
       "      <td>0.588143</td>\n",
       "      <td>-0.18</td>\n",
       "    </tr>\n",
       "    <tr>\n",
       "      <th>16</th>\n",
       "      <td>0.0</td>\n",
       "      <td>1.0</td>\n",
       "      <td>0.410932</td>\n",
       "      <td>0.589068</td>\n",
       "      <td>-0.18</td>\n",
       "    </tr>\n",
       "    <tr>\n",
       "      <th>17</th>\n",
       "      <td>0.0</td>\n",
       "      <td>1.0</td>\n",
       "      <td>0.411033</td>\n",
       "      <td>0.588967</td>\n",
       "      <td>-0.18</td>\n",
       "    </tr>\n",
       "  </tbody>\n",
       "</table>\n",
       "</div>"
      ],
      "text/plain": [
       "    prediction_col  actual         0         1  difference\n",
       "8              0.0     1.0  0.427645  0.572355       -0.14\n",
       "9              0.0     1.0  0.408681  0.591319       -0.18\n",
       "11             0.0     1.0  0.411857  0.588143       -0.18\n",
       "16             0.0     1.0  0.410932  0.589068       -0.18\n",
       "17             0.0     1.0  0.411033  0.588967       -0.18"
      ]
     },
     "execution_count": 88,
     "metadata": {},
     "output_type": "execute_result"
    }
   ],
   "source": [
    "# Check the misclassified items\n",
    "pred_list_lr_ridge = lr_ridge.predict_proba(X_train)\n",
    "pred_result_lr_ridge = pd.DataFrame(pred_list_lr_ridge, y_train)\n",
    "pred_result_lr_ridge['actual'] = lr_ridge.predict(X_train)\n",
    "pred_result_lr_ridge.reset_index(inplace=True)\n",
    "\n",
    "misclassified_lr_ridge = pred_result_lr_ridge[pred_result_lr_ridge.prediction_col != pred_result_lr_ridge.actual]\n",
    "misclassified_lr_ridge = misclassified_lr_ridge.reindex(columns=['prediction_col', 'actual', 0, 1])\n",
    "misclassified_lr_ridge['difference'] = (misclassified_lr_ridge[0] - misclassified_lr_ridge[1]).round(2)\n",
    "misclassified_lr_ridge[:5]"
   ]
  },
  {
   "cell_type": "code",
   "execution_count": 89,
   "metadata": {
    "ExecuteTime": {
     "end_time": "2019-09-30T22:30:04.618904Z",
     "start_time": "2019-09-30T22:30:04.607254Z"
    }
   },
   "outputs": [
    {
     "data": {
      "text/html": [
       "<div>\n",
       "<style scoped>\n",
       "    .dataframe tbody tr th:only-of-type {\n",
       "        vertical-align: middle;\n",
       "    }\n",
       "\n",
       "    .dataframe tbody tr th {\n",
       "        vertical-align: top;\n",
       "    }\n",
       "\n",
       "    .dataframe thead th {\n",
       "        text-align: right;\n",
       "    }\n",
       "</style>\n",
       "<table border=\"1\" class=\"dataframe\">\n",
       "  <thead>\n",
       "    <tr style=\"text-align: right;\">\n",
       "      <th></th>\n",
       "      <th>feature</th>\n",
       "      <th>coef</th>\n",
       "      <th>abs_coef</th>\n",
       "    </tr>\n",
       "  </thead>\n",
       "  <tbody>\n",
       "    <tr>\n",
       "      <th>4</th>\n",
       "      <td>vader_compound</td>\n",
       "      <td>-0.030336</td>\n",
       "      <td>0.030336</td>\n",
       "    </tr>\n",
       "    <tr>\n",
       "      <th>3</th>\n",
       "      <td>useful</td>\n",
       "      <td>-0.026425</td>\n",
       "      <td>0.026425</td>\n",
       "    </tr>\n",
       "    <tr>\n",
       "      <th>2</th>\n",
       "      <td>stars</td>\n",
       "      <td>0.020221</td>\n",
       "      <td>0.020221</td>\n",
       "    </tr>\n",
       "    <tr>\n",
       "      <th>6</th>\n",
       "      <td>vader_neu</td>\n",
       "      <td>-0.014177</td>\n",
       "      <td>0.014177</td>\n",
       "    </tr>\n",
       "    <tr>\n",
       "      <th>7</th>\n",
       "      <td>vader_pos</td>\n",
       "      <td>0.011189</td>\n",
       "      <td>0.011189</td>\n",
       "    </tr>\n",
       "    <tr>\n",
       "      <th>5</th>\n",
       "      <td>vader_neg</td>\n",
       "      <td>0.002180</td>\n",
       "      <td>0.002180</td>\n",
       "    </tr>\n",
       "    <tr>\n",
       "      <th>0</th>\n",
       "      <td>cool</td>\n",
       "      <td>-0.001285</td>\n",
       "      <td>0.001285</td>\n",
       "    </tr>\n",
       "    <tr>\n",
       "      <th>1</th>\n",
       "      <td>funny</td>\n",
       "      <td>-0.000258</td>\n",
       "      <td>0.000258</td>\n",
       "    </tr>\n",
       "  </tbody>\n",
       "</table>\n",
       "</div>"
      ],
      "text/plain": [
       "          feature      coef  abs_coef\n",
       "4  vader_compound -0.030336  0.030336\n",
       "3          useful -0.026425  0.026425\n",
       "2           stars  0.020221  0.020221\n",
       "6       vader_neu -0.014177  0.014177\n",
       "7       vader_pos  0.011189  0.011189\n",
       "5       vader_neg  0.002180  0.002180\n",
       "0            cool -0.001285  0.001285\n",
       "1           funny -0.000258  0.000258"
      ]
     },
     "execution_count": 89,
     "metadata": {},
     "output_type": "execute_result"
    }
   ],
   "source": [
    "# Create a DataFrame to look at the coefficients\n",
    "coef_df_lr_ridge = pd.DataFrame({'feature': X.columns,\n",
    "                        'coef': lr_ridge.coef_[0],\n",
    "                        'abs_coef': np.abs(lr_ridge.coef_[0])})\n",
    "\n",
    "# Sort by absolute value of coefficient (magnitude)\n",
    "coef_df_lr_ridge = coef_df_lr_ridge.sort_values(by='abs_coef', ascending=False)\n",
    "coef_df_lr_ridge"
   ]
  },
  {
   "cell_type": "code",
   "execution_count": 90,
   "metadata": {
    "ExecuteTime": {
     "end_time": "2019-09-30T22:30:04.823854Z",
     "start_time": "2019-09-30T22:30:04.620953Z"
    }
   },
   "outputs": [
    {
     "data": {
      "image/png": "[encoded data removed]",
      "text/plain": [
       "<Figure size 432x288 with 1 Axes>"
      ]
     },
     "metadata": {
      "image/png": {
       "height": 278,
       "width": 672
      },
      "needs_background": "light"
     },
     "output_type": "display_data"
    }
   ],
   "source": [
    "# Plot the coefficient table\n",
    "sort_coef_lr_ridge = pd.concat([coef_df_lr_ridge.sort_values(by='coef', ascending=False).head(5),\n",
    "                      coef_df_lr_ridge.sort_values(by='coef', ascending=False).tail(5)])\n",
    "sns.barplot(y = sort_coef_lr_ridge.feature, x = sort_coef_lr_ridge.coef, palette = \"RdBu_r\")\n",
    "plt.title(\"Coefficients for LogisticRegresson with a Ridge (Highest and Lowest)\", loc = 'left', fontsize = 16)\n",
    "plt.show()"
   ]
  },
  {
   "cell_type": "markdown",
   "metadata": {},
   "source": [
    "# Fit a Logistic Regression CV with a Lasso penalty"
   ]
  },
  {
   "cell_type": "code",
   "execution_count": 91,
   "metadata": {
    "ExecuteTime": {
     "end_time": "2019-09-30T22:30:04.852812Z",
     "start_time": "2019-09-30T22:30:04.826420Z"
    }
   },
   "outputs": [],
   "source": [
    "# Prepare the datasets for modeling\n",
    "Xl = X.copy()\n",
    "\n",
    "Xl_train, Xl_test, y_train, y_test = train_test_split(Xl, y, stratify=y, test_size=0.5, random_state=1)\n",
    "\n",
    "Xl_train = scaler.fit_transform(Xl_train)\n",
    "Xl_test = scaler.transform(Xl_test)"
   ]
  },
  {
   "cell_type": "code",
   "execution_count": 92,
   "metadata": {
    "ExecuteTime": {
     "end_time": "2019-09-30T22:30:59.155152Z",
     "start_time": "2019-09-30T22:30:04.854746Z"
    }
   },
   "outputs": [
    {
     "data": {
      "text/plain": [
       "LogisticRegressionCV(Cs=10, class_weight=None,\n",
       "           cv=StratifiedKFold(n_splits=10, random_state=1, shuffle=True),\n",
       "           dual=False, fit_intercept=True, intercept_scaling=1.0,\n",
       "           max_iter=100, multi_class='warn', n_jobs=None, penalty='l1',\n",
       "           random_state=None, refit=True, scoring=None, solver='liblinear',\n",
       "           tol=0.0001, verbose=0)"
      ]
     },
     "execution_count": 92,
     "metadata": {},
     "output_type": "execute_result"
    }
   ],
   "source": [
    "# Instantiate the model\n",
    "lr_lasso = LogisticRegressionCV(penalty='l1', solver='liblinear', Cs=10, cv=kf)\n",
    "lr_lasso.fit(Xl_train, y_train)"
   ]
  },
  {
   "cell_type": "code",
   "execution_count": 93,
   "metadata": {
    "ExecuteTime": {
     "end_time": "2019-09-30T22:30:59.160266Z",
     "start_time": "2019-09-30T22:30:59.156938Z"
    }
   },
   "outputs": [],
   "source": [
    "# Define the best model\n",
    "lasso_best = LogisticRegression(C=lr_lasso.C_[0], penalty='l1', solver='liblinear')"
   ]
  },
  {
   "cell_type": "code",
   "execution_count": 94,
   "metadata": {
    "ExecuteTime": {
     "end_time": "2019-09-30T22:30:59.173812Z",
     "start_time": "2019-09-30T22:30:59.162950Z"
    }
   },
   "outputs": [
    {
     "name": "stdout",
     "output_type": "stream",
     "text": [
      "[0.006]\n",
      "0.584953560371517\n",
      "0.5855364992879698\n"
     ]
    }
   ],
   "source": [
    "# Fit the model, find the C_ value, and check train and test scores\n",
    "print(lr_lasso.C_)\n",
    "print(lr_lasso.score(Xl_train, y_train))\n",
    "print(lr_lasso.score(Xl_test, y_test))"
   ]
  },
  {
   "cell_type": "code",
   "execution_count": 95,
   "metadata": {
    "ExecuteTime": {
     "end_time": "2019-09-30T22:30:59.256803Z",
     "start_time": "2019-09-30T22:30:59.175950Z"
    }
   },
   "outputs": [
    {
     "name": "stdout",
     "output_type": "stream",
     "text": [
      "0.5845201238390093\n"
     ]
    }
   ],
   "source": [
    "# Ceck cross-validation scores\n",
    "cv_scores = cross_val_score(lasso_best, Xl_train, y_train, cv=5).mean()\n",
    "print(cv_scores)"
   ]
  },
  {
   "cell_type": "code",
   "execution_count": 96,
   "metadata": {
    "ExecuteTime": {
     "end_time": "2019-09-30T22:30:59.286039Z",
     "start_time": "2019-09-30T22:30:59.258474Z"
    }
   },
   "outputs": [
    {
     "name": "stdout",
     "output_type": "stream",
     "text": [
      "              precision    recall  f1-score   support\n",
      "\n",
      "         0.0       0.44      0.00      0.01      6686\n",
      "         1.0       0.59      1.00      0.74      9465\n",
      "\n",
      "   micro avg       0.59      0.59      0.59     16151\n",
      "   macro avg       0.52      0.50      0.37     16151\n",
      "weighted avg       0.53      0.59      0.44     16151\n",
      "\n"
     ]
    }
   ],
   "source": [
    "# Check the precision and recall score\n",
    "yhat_lr_lasso = lr_lasso.predict(Xr_test)\n",
    "yhat_pp_lasso = lr_lasso.predict_proba(Xl_test)\n",
    "print(classification_report(y_test, yhat_lr_lasso))"
   ]
  },
  {
   "cell_type": "code",
   "execution_count": 97,
   "metadata": {
    "ExecuteTime": {
     "end_time": "2019-09-30T22:30:59.305754Z",
     "start_time": "2019-09-30T22:30:59.288363Z"
    }
   },
   "outputs": [
    {
     "data": {
      "text/html": [
       "<div>\n",
       "<style scoped>\n",
       "    .dataframe tbody tr th:only-of-type {\n",
       "        vertical-align: middle;\n",
       "    }\n",
       "\n",
       "    .dataframe tbody tr th {\n",
       "        vertical-align: top;\n",
       "    }\n",
       "\n",
       "    .dataframe thead th {\n",
       "        text-align: right;\n",
       "    }\n",
       "</style>\n",
       "<table border=\"1\" class=\"dataframe\">\n",
       "  <thead>\n",
       "    <tr style=\"text-align: right;\">\n",
       "      <th></th>\n",
       "      <th>prediction_col</th>\n",
       "      <th>actual</th>\n",
       "      <th>0</th>\n",
       "      <th>1</th>\n",
       "      <th>difference</th>\n",
       "    </tr>\n",
       "  </thead>\n",
       "  <tbody>\n",
       "    <tr>\n",
       "      <th>8</th>\n",
       "      <td>0.0</td>\n",
       "      <td>1.0</td>\n",
       "      <td>0.431303</td>\n",
       "      <td>0.568697</td>\n",
       "      <td>-0.14</td>\n",
       "    </tr>\n",
       "    <tr>\n",
       "      <th>9</th>\n",
       "      <td>0.0</td>\n",
       "      <td>1.0</td>\n",
       "      <td>0.387310</td>\n",
       "      <td>0.612690</td>\n",
       "      <td>-0.23</td>\n",
       "    </tr>\n",
       "    <tr>\n",
       "      <th>11</th>\n",
       "      <td>0.0</td>\n",
       "      <td>1.0</td>\n",
       "      <td>0.384743</td>\n",
       "      <td>0.615257</td>\n",
       "      <td>-0.23</td>\n",
       "    </tr>\n",
       "    <tr>\n",
       "      <th>16</th>\n",
       "      <td>0.0</td>\n",
       "      <td>1.0</td>\n",
       "      <td>0.397242</td>\n",
       "      <td>0.602758</td>\n",
       "      <td>-0.21</td>\n",
       "    </tr>\n",
       "    <tr>\n",
       "      <th>17</th>\n",
       "      <td>0.0</td>\n",
       "      <td>1.0</td>\n",
       "      <td>0.397320</td>\n",
       "      <td>0.602680</td>\n",
       "      <td>-0.21</td>\n",
       "    </tr>\n",
       "  </tbody>\n",
       "</table>\n",
       "</div>"
      ],
      "text/plain": [
       "    prediction_col  actual         0         1  difference\n",
       "8              0.0     1.0  0.431303  0.568697       -0.14\n",
       "9              0.0     1.0  0.387310  0.612690       -0.23\n",
       "11             0.0     1.0  0.384743  0.615257       -0.23\n",
       "16             0.0     1.0  0.397242  0.602758       -0.21\n",
       "17             0.0     1.0  0.397320  0.602680       -0.21"
      ]
     },
     "execution_count": 97,
     "metadata": {},
     "output_type": "execute_result"
    }
   ],
   "source": [
    "# Check the misclassified items\n",
    "pred_list_lr_lasso = lr_lasso.predict_proba(X_train)\n",
    "pred_result_lr_lasso = pd.DataFrame(pred_list_lr_lasso, y_train)\n",
    "pred_result_lr_lasso['actual'] = lr_lasso.predict(X_train)\n",
    "pred_result_lr_lasso.reset_index(inplace=True)\n",
    "\n",
    "misclassified_lr_lasso = pred_result_lr_lasso[pred_result_lr_lasso.prediction_col != pred_result_lr_lasso.actual]\n",
    "misclassified_lr_lasso = misclassified_lr_lasso.reindex(columns=['prediction_col', 'actual', 0, 1])\n",
    "misclassified_lr_lasso['difference'] = (misclassified_lr_lasso[0] - misclassified_lr_lasso[1]).round(2)\n",
    "misclassified_lr_lasso[:5]"
   ]
  },
  {
   "cell_type": "code",
   "execution_count": 98,
   "metadata": {
    "ExecuteTime": {
     "end_time": "2019-09-30T22:30:59.317909Z",
     "start_time": "2019-09-30T22:30:59.307548Z"
    }
   },
   "outputs": [
    {
     "data": {
      "text/html": [
       "<div>\n",
       "<style scoped>\n",
       "    .dataframe tbody tr th:only-of-type {\n",
       "        vertical-align: middle;\n",
       "    }\n",
       "\n",
       "    .dataframe tbody tr th {\n",
       "        vertical-align: top;\n",
       "    }\n",
       "\n",
       "    .dataframe thead th {\n",
       "        text-align: right;\n",
       "    }\n",
       "</style>\n",
       "<table border=\"1\" class=\"dataframe\">\n",
       "  <thead>\n",
       "    <tr style=\"text-align: right;\">\n",
       "      <th></th>\n",
       "      <th>feature</th>\n",
       "      <th>coef</th>\n",
       "      <th>abs_coef</th>\n",
       "    </tr>\n",
       "  </thead>\n",
       "  <tbody>\n",
       "    <tr>\n",
       "      <th>4</th>\n",
       "      <td>vader_compound</td>\n",
       "      <td>-0.097008</td>\n",
       "      <td>0.097008</td>\n",
       "    </tr>\n",
       "    <tr>\n",
       "      <th>2</th>\n",
       "      <td>stars</td>\n",
       "      <td>0.072317</td>\n",
       "      <td>0.072317</td>\n",
       "    </tr>\n",
       "    <tr>\n",
       "      <th>3</th>\n",
       "      <td>useful</td>\n",
       "      <td>-0.051494</td>\n",
       "      <td>0.051494</td>\n",
       "    </tr>\n",
       "    <tr>\n",
       "      <th>7</th>\n",
       "      <td>vader_pos</td>\n",
       "      <td>0.010871</td>\n",
       "      <td>0.010871</td>\n",
       "    </tr>\n",
       "    <tr>\n",
       "      <th>6</th>\n",
       "      <td>vader_neu</td>\n",
       "      <td>-0.006404</td>\n",
       "      <td>0.006404</td>\n",
       "    </tr>\n",
       "    <tr>\n",
       "      <th>0</th>\n",
       "      <td>cool</td>\n",
       "      <td>0.000000</td>\n",
       "      <td>0.000000</td>\n",
       "    </tr>\n",
       "    <tr>\n",
       "      <th>1</th>\n",
       "      <td>funny</td>\n",
       "      <td>0.000000</td>\n",
       "      <td>0.000000</td>\n",
       "    </tr>\n",
       "    <tr>\n",
       "      <th>5</th>\n",
       "      <td>vader_neg</td>\n",
       "      <td>0.000000</td>\n",
       "      <td>0.000000</td>\n",
       "    </tr>\n",
       "  </tbody>\n",
       "</table>\n",
       "</div>"
      ],
      "text/plain": [
       "          feature      coef  abs_coef\n",
       "4  vader_compound -0.097008  0.097008\n",
       "2           stars  0.072317  0.072317\n",
       "3          useful -0.051494  0.051494\n",
       "7       vader_pos  0.010871  0.010871\n",
       "6       vader_neu -0.006404  0.006404\n",
       "0            cool  0.000000  0.000000\n",
       "1           funny  0.000000  0.000000\n",
       "5       vader_neg  0.000000  0.000000"
      ]
     },
     "execution_count": 98,
     "metadata": {},
     "output_type": "execute_result"
    }
   ],
   "source": [
    "# Create a DataFrame to look at the coefficients\n",
    "coef_df_lr_lasso = pd.DataFrame({'feature': Xl.columns,\n",
    "                        'coef': lr_lasso.coef_[0],\n",
    "                        'abs_coef': np.abs(lr_lasso.coef_[0])})\n",
    "\n",
    "# Sort by absolute value of coefficient (magnitude)\n",
    "coef_df_lr_lasso = coef_df_lr_lasso.sort_values(by='abs_coef', ascending=False)\n",
    "coef_df_lr_lasso"
   ]
  },
  {
   "cell_type": "code",
   "execution_count": 99,
   "metadata": {
    "ExecuteTime": {
     "end_time": "2019-09-30T22:30:59.528774Z",
     "start_time": "2019-09-30T22:30:59.319613Z"
    }
   },
   "outputs": [
    {
     "data": {
      "image/png": "[encoded data removed]",
      "text/plain": [
       "<Figure size 432x288 with 1 Axes>"
      ]
     },
     "metadata": {
      "image/png": {
       "height": 278,
       "width": 671
      },
      "needs_background": "light"
     },
     "output_type": "display_data"
    }
   ],
   "source": [
    "# Plot the coefficient table\n",
    "sort_coef_lr_lasso = pd.concat([coef_df_lr_lasso.sort_values(by='coef', ascending=False).head(5),\n",
    "                      coef_df_lr_lasso.sort_values(by='coef', ascending=False).tail(5)])\n",
    "sns.barplot(y = sort_coef_lr_lasso.feature, x = sort_coef_lr_lasso.coef, palette = \"RdBu_r\")\n",
    "plt.title(\"Coefficients for LogisticRegresson with a Lasso (Highest and Lowest)\", loc = 'left', fontsize = 16)\n",
    "plt.show()"
   ]
  },
  {
   "cell_type": "markdown",
   "metadata": {},
   "source": [
    "# Use a Support Vector Machine"
   ]
  },
  {
   "cell_type": "code",
   "execution_count": 100,
   "metadata": {
    "ExecuteTime": {
     "end_time": "2019-09-30T22:30:59.534245Z",
     "start_time": "2019-09-30T22:30:59.530404Z"
    }
   },
   "outputs": [],
   "source": [
    "# Instantiate the model\n",
    "clf_s = svm.SVC(C=1.0, kernel='poly', degree=3, gamma='scale', probability=True)"
   ]
  },
  {
   "cell_type": "code",
   "execution_count": 101,
   "metadata": {
    "ExecuteTime": {
     "end_time": "2019-09-30T22:35:19.006530Z",
     "start_time": "2019-09-30T22:30:59.536062Z"
    }
   },
   "outputs": [
    {
     "data": {
      "text/plain": [
       "SVC(C=1.0, cache_size=200, class_weight=None, coef0=0.0,\n",
       "  decision_function_shape='ovr', degree=3, gamma='scale', kernel='poly',\n",
       "  max_iter=-1, probability=True, random_state=None, shrinking=True,\n",
       "  tol=0.001, verbose=False)"
      ]
     },
     "execution_count": 101,
     "metadata": {},
     "output_type": "execute_result"
    }
   ],
   "source": [
    "# Fit the model\n",
    "clf_s.fit(X_train_std, y_train)"
   ]
  },
  {
   "cell_type": "code",
   "execution_count": 102,
   "metadata": {
    "ExecuteTime": {
     "end_time": "2019-09-30T22:35:21.035885Z",
     "start_time": "2019-09-30T22:35:19.008189Z"
    }
   },
   "outputs": [
    {
     "data": {
      "text/plain": [
       "0.5863777089783282"
      ]
     },
     "execution_count": 102,
     "metadata": {},
     "output_type": "execute_result"
    }
   ],
   "source": [
    "# Check the train score \n",
    "clf_s.score(X_train_std, y_train)"
   ]
  },
  {
   "cell_type": "code",
   "execution_count": 103,
   "metadata": {
    "ExecuteTime": {
     "end_time": "2019-09-30T22:35:23.047392Z",
     "start_time": "2019-09-30T22:35:21.037408Z"
    }
   },
   "outputs": [
    {
     "data": {
      "text/plain": [
       "0.5860937403256764"
      ]
     },
     "execution_count": 103,
     "metadata": {},
     "output_type": "execute_result"
    }
   ],
   "source": [
    "# Check the test score\n",
    "clf_s.score(X_test_std, y_test)"
   ]
  },
  {
   "cell_type": "code",
   "execution_count": 104,
   "metadata": {
    "ExecuteTime": {
     "end_time": "2019-10-01T08:51:28.846394Z",
     "start_time": "2019-09-30T22:35:23.049124Z"
    }
   },
   "outputs": [
    {
     "data": {
      "text/plain": [
       "0.5856346749226006"
      ]
     },
     "execution_count": 104,
     "metadata": {},
     "output_type": "execute_result"
    }
   ],
   "source": [
    "# Check the cross-validation score\n",
    "cv_scores = cross_val_score(clf_s, X_train_std, y_train, cv=5).mean()\n",
    "cv_scores"
   ]
  },
  {
   "cell_type": "code",
   "execution_count": 117,
   "metadata": {
    "ExecuteTime": {
     "end_time": "2019-10-01T11:41:42.337986Z",
     "start_time": "2019-10-01T11:41:42.331950Z"
    }
   },
   "outputs": [
    {
     "data": {
      "text/plain": [
       "0.5860499674932664"
      ]
     },
     "execution_count": 117,
     "metadata": {},
     "output_type": "execute_result"
    }
   ],
   "source": [
    "baseline"
   ]
  },
  {
   "cell_type": "code",
   "execution_count": 105,
   "metadata": {
    "ExecuteTime": {
     "end_time": "2019-10-01T08:51:33.666775Z",
     "start_time": "2019-10-01T08:51:28.848502Z"
    }
   },
   "outputs": [
    {
     "name": "stdout",
     "output_type": "stream",
     "text": [
      "              precision    recall  f1-score   support\n",
      "\n",
      "         0.0       0.55      0.00      0.00      6686\n",
      "         1.0       0.59      1.00      0.74      9465\n",
      "\n",
      "   micro avg       0.59      0.59      0.59     16151\n",
      "   macro avg       0.57      0.50      0.37     16151\n",
      "weighted avg       0.57      0.59      0.43     16151\n",
      "\n"
     ]
    }
   ],
   "source": [
    "# Check the precision and recall scores\n",
    "yhat_clf_s = clf_s.predict(X_test_std)\n",
    "yhat_pp_clf_s = clf_s.predict_proba(X_test_std)\n",
    "print(classification_report(y_test, yhat_clf_s))"
   ]
  },
  {
   "cell_type": "code",
   "execution_count": 116,
   "metadata": {
    "ExecuteTime": {
     "end_time": "2019-10-01T11:41:28.920378Z",
     "start_time": "2019-10-01T11:41:24.387728Z"
    }
   },
   "outputs": [
    {
     "data": {
      "text/html": [
       "<div>\n",
       "<style scoped>\n",
       "    .dataframe tbody tr th:only-of-type {\n",
       "        vertical-align: middle;\n",
       "    }\n",
       "\n",
       "    .dataframe tbody tr th {\n",
       "        vertical-align: top;\n",
       "    }\n",
       "\n",
       "    .dataframe thead th {\n",
       "        text-align: right;\n",
       "    }\n",
       "</style>\n",
       "<table border=\"1\" class=\"dataframe\">\n",
       "  <thead>\n",
       "    <tr style=\"text-align: right;\">\n",
       "      <th></th>\n",
       "      <th>prediction_col</th>\n",
       "      <th>actual</th>\n",
       "      <th>0</th>\n",
       "      <th>1</th>\n",
       "      <th>difference</th>\n",
       "    </tr>\n",
       "  </thead>\n",
       "  <tbody>\n",
       "    <tr>\n",
       "      <th>8</th>\n",
       "      <td>0.0</td>\n",
       "      <td>1.0</td>\n",
       "      <td>0.413428</td>\n",
       "      <td>0.586572</td>\n",
       "      <td>-0.17</td>\n",
       "    </tr>\n",
       "    <tr>\n",
       "      <th>9</th>\n",
       "      <td>0.0</td>\n",
       "      <td>1.0</td>\n",
       "      <td>0.413465</td>\n",
       "      <td>0.586535</td>\n",
       "      <td>-0.17</td>\n",
       "    </tr>\n",
       "    <tr>\n",
       "      <th>11</th>\n",
       "      <td>0.0</td>\n",
       "      <td>1.0</td>\n",
       "      <td>0.413564</td>\n",
       "      <td>0.586436</td>\n",
       "      <td>-0.17</td>\n",
       "    </tr>\n",
       "    <tr>\n",
       "      <th>16</th>\n",
       "      <td>0.0</td>\n",
       "      <td>1.0</td>\n",
       "      <td>0.413441</td>\n",
       "      <td>0.586559</td>\n",
       "      <td>-0.17</td>\n",
       "    </tr>\n",
       "    <tr>\n",
       "      <th>17</th>\n",
       "      <td>0.0</td>\n",
       "      <td>1.0</td>\n",
       "      <td>0.413476</td>\n",
       "      <td>0.586524</td>\n",
       "      <td>-0.17</td>\n",
       "    </tr>\n",
       "  </tbody>\n",
       "</table>\n",
       "</div>"
      ],
      "text/plain": [
       "    prediction_col  actual         0         1  difference\n",
       "8              0.0     1.0  0.413428  0.586572       -0.17\n",
       "9              0.0     1.0  0.413465  0.586535       -0.17\n",
       "11             0.0     1.0  0.413564  0.586436       -0.17\n",
       "16             0.0     1.0  0.413441  0.586559       -0.17\n",
       "17             0.0     1.0  0.413476  0.586524       -0.17"
      ]
     },
     "execution_count": 116,
     "metadata": {},
     "output_type": "execute_result"
    }
   ],
   "source": [
    "# Check the misclassified items\n",
    "pred_list_clf_s = clf_s.predict_proba(X_train)\n",
    "pred_result_clf_s = pd.DataFrame(pred_list_clf_s, y_train)\n",
    "pred_result_clf_s['actual'] = clf_s.predict(X_train)\n",
    "pred_result_clf_s.reset_index(inplace=True)\n",
    "\n",
    "misclassified_clf_s = pred_result_clf_s[pred_result_clf_s.prediction_col != pred_result_clf_s.actual]\n",
    "misclassified_clf_s = misclassified_clf_s.reindex(columns=['prediction_col', 'actual', 0, 1])\n",
    "misclassified_clf_s['difference'] = (misclassified_clf_s[0] - misclassified_clf_s[1]).round(2)\n",
    "misclassified_clf_s[:5]"
   ]
  },
  {
   "cell_type": "markdown",
   "metadata": {},
   "source": [
    "# Use a Random Forest"
   ]
  },
  {
   "cell_type": "code",
   "execution_count": 107,
   "metadata": {
    "ExecuteTime": {
     "end_time": "2019-10-01T08:51:37.975461Z",
     "start_time": "2019-10-01T08:51:37.954204Z"
    }
   },
   "outputs": [],
   "source": [
    "# Prepare the datasets for modeling\n",
    "y_cgrid = y.copy()\n",
    "X_cgrid = X.copy()\n",
    "\n",
    "Xcgrid_train, Xcgrid_test, y_cgrid_train, y_cgrid_test = train_test_split(X_cgrid, y, test_size=0.5, random_state=8)\n",
    "\n",
    "\n",
    "Xcgrid_train = scaler.fit_transform(Xcgrid_train)\n",
    "Xcgrid_test = scaler.transform(Xcgrid_test)"
   ]
  },
  {
   "cell_type": "code",
   "execution_count": 109,
   "metadata": {
    "ExecuteTime": {
     "end_time": "2019-10-01T11:40:55.968181Z",
     "start_time": "2019-10-01T11:40:50.693349Z"
    }
   },
   "outputs": [
    {
     "name": "stdout",
     "output_type": "stream",
     "text": [
      "Fitting 5 folds for each of 10 candidates, totalling 50 fits\n"
     ]
    },
    {
     "name": "stderr",
     "output_type": "stream",
     "text": [
      "[Parallel(n_jobs=2)]: Using backend LokyBackend with 2 concurrent workers.\n",
      "[Parallel(n_jobs=2)]: Done  46 tasks      | elapsed:    4.8s\n",
      "[Parallel(n_jobs=2)]: Done  50 out of  50 | elapsed:    5.2s finished\n"
     ]
    },
    {
     "data": {
      "text/plain": [
       "GridSearchCV(cv=5, error_score='raise-deprecating',\n",
       "       estimator=DecisionTreeClassifier(class_weight=None, criterion='gini', max_depth=None,\n",
       "            max_features=None, max_leaf_nodes=None,\n",
       "            min_impurity_decrease=0.0, min_impurity_split=None,\n",
       "            min_samples_leaf=1, min_samples_split=2,\n",
       "            min_weight_fraction_leaf=0.0, presort=False, random_state=1,\n",
       "            splitter='best'),\n",
       "       fit_params=None, iid='warn', n_jobs=2,\n",
       "       param_grid={'max_depth': array([ 1, 11, 21, 31, 41, 51, 61, 71, 81, 91])},\n",
       "       pre_dispatch='2*n_jobs', refit=True, return_train_score='warn',\n",
       "       scoring=None, verbose=1)"
      ]
     },
     "execution_count": 109,
     "metadata": {},
     "output_type": "execute_result"
    }
   ],
   "source": [
    "# Fit the model\n",
    "tree_params = {'max_depth': np.arange(1, 100, 10)}\n",
    "\n",
    "dt_classifier = DecisionTreeClassifier(criterion='gini',\n",
    "                                    max_depth=None, \n",
    "                                    random_state=1)\n",
    "\n",
    "dt_gridsearch = GridSearchCV(dt_classifier,\n",
    "                              tree_params,\n",
    "                              n_jobs=2, \n",
    "                              cv=5, \n",
    "                              verbose=1)\n",
    "\n",
    "dt_gridsearch.fit(Xcgrid_train, y_cgrid_train)"
   ]
  },
  {
   "cell_type": "code",
   "execution_count": 110,
   "metadata": {
    "ExecuteTime": {
     "end_time": "2019-10-01T11:40:55.977708Z",
     "start_time": "2019-10-01T11:40:55.970861Z"
    }
   },
   "outputs": [
    {
     "data": {
      "text/plain": [
       "{'max_depth': array([ 1, 11, 21, 31, 41, 51, 61, 71, 81, 91])}"
      ]
     },
     "execution_count": 110,
     "metadata": {},
     "output_type": "execute_result"
    }
   ],
   "source": [
    "# Show the parameters\n",
    "dt_gridsearch.param_grid"
   ]
  },
  {
   "cell_type": "code",
   "execution_count": 111,
   "metadata": {
    "ExecuteTime": {
     "end_time": "2019-10-01T11:40:55.984300Z",
     "start_time": "2019-10-01T11:40:55.979991Z"
    }
   },
   "outputs": [
    {
     "data": {
      "text/plain": [
       "0.5888544891640867"
      ]
     },
     "execution_count": 111,
     "metadata": {},
     "output_type": "execute_result"
    }
   ],
   "source": [
    "# Show the best score\n",
    "dt_gridsearch.best_score_"
   ]
  },
  {
   "cell_type": "code",
   "execution_count": 112,
   "metadata": {
    "ExecuteTime": {
     "end_time": "2019-10-01T11:41:05.725922Z",
     "start_time": "2019-10-01T11:40:55.986711Z"
    },
    "scrolled": true
   },
   "outputs": [
    {
     "name": "stderr",
     "output_type": "stream",
     "text": [
      "[Parallel(n_jobs=2)]: Using backend LokyBackend with 2 concurrent workers.\n"
     ]
    },
    {
     "name": "stdout",
     "output_type": "stream",
     "text": [
      "0.5888544891640867\n",
      "0.583245619466287\n",
      "Fitting 5 folds for each of 10 candidates, totalling 50 fits\n"
     ]
    },
    {
     "name": "stderr",
     "output_type": "stream",
     "text": [
      "[Parallel(n_jobs=2)]: Done  50 out of  50 | elapsed:    2.0s finished\n",
      "[Parallel(n_jobs=2)]: Using backend LokyBackend with 2 concurrent workers.\n"
     ]
    },
    {
     "name": "stdout",
     "output_type": "stream",
     "text": [
      "Fitting 5 folds for each of 10 candidates, totalling 50 fits\n"
     ]
    },
    {
     "name": "stderr",
     "output_type": "stream",
     "text": [
      "[Parallel(n_jobs=2)]: Done  50 out of  50 | elapsed:    1.7s finished\n",
      "[Parallel(n_jobs=2)]: Using backend LokyBackend with 2 concurrent workers.\n"
     ]
    },
    {
     "name": "stdout",
     "output_type": "stream",
     "text": [
      "Fitting 5 folds for each of 10 candidates, totalling 50 fits\n"
     ]
    },
    {
     "name": "stderr",
     "output_type": "stream",
     "text": [
      "[Parallel(n_jobs=2)]: Done  50 out of  50 | elapsed:    2.3s finished\n",
      "[Parallel(n_jobs=2)]: Using backend LokyBackend with 2 concurrent workers.\n"
     ]
    },
    {
     "name": "stdout",
     "output_type": "stream",
     "text": [
      "Fitting 5 folds for each of 10 candidates, totalling 50 fits\n"
     ]
    },
    {
     "name": "stderr",
     "output_type": "stream",
     "text": [
      "[Parallel(n_jobs=2)]: Done  50 out of  50 | elapsed:    1.9s finished\n",
      "[Parallel(n_jobs=2)]: Using backend LokyBackend with 2 concurrent workers.\n"
     ]
    },
    {
     "name": "stdout",
     "output_type": "stream",
     "text": [
      "Fitting 5 folds for each of 10 candidates, totalling 50 fits\n",
      "0.5888544891640867\n"
     ]
    },
    {
     "name": "stderr",
     "output_type": "stream",
     "text": [
      "[Parallel(n_jobs=2)]: Done  50 out of  50 | elapsed:    1.7s finished\n"
     ]
    }
   ],
   "source": [
    "# Show evaluation scores\n",
    "print(dt_gridsearch.score(Xcgrid_train, y_cgrid_train))\n",
    "print(dt_gridsearch.score(Xcgrid_test, y_cgrid_test))\n",
    "print(cross_val_score(dt_gridsearch, Xcgrid_train, y_cgrid_train, cv=5).mean())"
   ]
  },
  {
   "cell_type": "code",
   "execution_count": 113,
   "metadata": {
    "ExecuteTime": {
     "end_time": "2019-10-01T11:41:05.762394Z",
     "start_time": "2019-10-01T11:41:05.727575Z"
    },
    "scrolled": true
   },
   "outputs": [
    {
     "name": "stdout",
     "output_type": "stream",
     "text": [
      "              precision    recall  f1-score   support\n",
      "\n",
      "         0.0       0.00      0.00      0.00      6731\n",
      "         1.0       0.58      1.00      0.74      9420\n",
      "\n",
      "   micro avg       0.58      0.58      0.58     16151\n",
      "   macro avg       0.29      0.50      0.37     16151\n",
      "weighted avg       0.34      0.58      0.43     16151\n",
      "\n"
     ]
    }
   ],
   "source": [
    "# Check precision and recall scores\n",
    "yhat_dt_gridsearch = dt_gridsearch.predict(Xcgrid_test)\n",
    "yhat_pp_dt_gridsearch = dt_gridsearch.predict_proba(Xcgrid_test)\n",
    "print(classification_report(y_cgrid_test, yhat_dt_gridsearch))"
   ]
  },
  {
   "cell_type": "code",
   "execution_count": 114,
   "metadata": {
    "ExecuteTime": {
     "end_time": "2019-10-01T11:41:05.808400Z",
     "start_time": "2019-10-01T11:41:05.766274Z"
    }
   },
   "outputs": [
    {
     "data": {
      "text/html": [
       "<div>\n",
       "<style scoped>\n",
       "    .dataframe tbody tr th:only-of-type {\n",
       "        vertical-align: middle;\n",
       "    }\n",
       "\n",
       "    .dataframe tbody tr th {\n",
       "        vertical-align: top;\n",
       "    }\n",
       "\n",
       "    .dataframe thead th {\n",
       "        text-align: right;\n",
       "    }\n",
       "</style>\n",
       "<table border=\"1\" class=\"dataframe\">\n",
       "  <thead>\n",
       "    <tr style=\"text-align: right;\">\n",
       "      <th></th>\n",
       "      <th>prediction_col</th>\n",
       "      <th>actual</th>\n",
       "      <th>0</th>\n",
       "      <th>1</th>\n",
       "      <th>difference</th>\n",
       "    </tr>\n",
       "  </thead>\n",
       "  <tbody>\n",
       "    <tr>\n",
       "      <th>8</th>\n",
       "      <td>0.0</td>\n",
       "      <td>1.0</td>\n",
       "      <td>0.47224</td>\n",
       "      <td>0.52776</td>\n",
       "      <td>-0.06</td>\n",
       "    </tr>\n",
       "    <tr>\n",
       "      <th>9</th>\n",
       "      <td>0.0</td>\n",
       "      <td>1.0</td>\n",
       "      <td>0.47224</td>\n",
       "      <td>0.52776</td>\n",
       "      <td>-0.06</td>\n",
       "    </tr>\n",
       "    <tr>\n",
       "      <th>11</th>\n",
       "      <td>0.0</td>\n",
       "      <td>1.0</td>\n",
       "      <td>0.47224</td>\n",
       "      <td>0.52776</td>\n",
       "      <td>-0.06</td>\n",
       "    </tr>\n",
       "    <tr>\n",
       "      <th>16</th>\n",
       "      <td>0.0</td>\n",
       "      <td>1.0</td>\n",
       "      <td>0.47224</td>\n",
       "      <td>0.52776</td>\n",
       "      <td>-0.06</td>\n",
       "    </tr>\n",
       "    <tr>\n",
       "      <th>17</th>\n",
       "      <td>0.0</td>\n",
       "      <td>1.0</td>\n",
       "      <td>0.47224</td>\n",
       "      <td>0.52776</td>\n",
       "      <td>-0.06</td>\n",
       "    </tr>\n",
       "  </tbody>\n",
       "</table>\n",
       "</div>"
      ],
      "text/plain": [
       "    prediction_col  actual        0        1  difference\n",
       "8              0.0     1.0  0.47224  0.52776       -0.06\n",
       "9              0.0     1.0  0.47224  0.52776       -0.06\n",
       "11             0.0     1.0  0.47224  0.52776       -0.06\n",
       "16             0.0     1.0  0.47224  0.52776       -0.06\n",
       "17             0.0     1.0  0.47224  0.52776       -0.06"
      ]
     },
     "execution_count": 114,
     "metadata": {},
     "output_type": "execute_result"
    }
   ],
   "source": [
    "# Check the misclassfied items\n",
    "pred_list_dt_gridsearch = dt_gridsearch.predict_proba(X_train)\n",
    "pred_result_dt_gridsearch = pd.DataFrame(pred_list_dt_gridsearch, y_train)\n",
    "pred_result_dt_gridsearch['actual'] = dt_gridsearch.predict(X_train)\n",
    "pred_result_dt_gridsearch.reset_index(inplace=True)\n",
    "\n",
    "misclassified_dt_gridsearch = pred_result_dt_gridsearch[pred_result_dt_gridsearch.prediction_col != pred_result_dt_gridsearch.actual]\n",
    "misclassified_dt_gridsearch = misclassified_dt_gridsearch.reindex(columns=['prediction_col', 'actual', 0, 1])\n",
    "misclassified_dt_gridsearch['difference'] = (misclassified_dt_gridsearch[0] - misclassified_dt_gridsearch[1]).round(2)\n",
    "misclassified_dt_gridsearch[:5]"
   ]
  },
  {
   "cell_type": "code",
   "execution_count": 115,
   "metadata": {
    "ExecuteTime": {
     "end_time": "2019-10-01T11:41:08.617482Z",
     "start_time": "2019-10-01T11:41:08.611752Z"
    }
   },
   "outputs": [],
   "source": [
    "feature_importances = dt_gridsearch.best_estimator_.feature_importances_"
   ]
  },
  {
   "cell_type": "code",
   "execution_count": 119,
   "metadata": {
    "ExecuteTime": {
     "end_time": "2019-10-01T11:42:10.832840Z",
     "start_time": "2019-10-01T11:42:10.830125Z"
    },
    "scrolled": true
   },
   "outputs": [],
   "source": [
    "# feature_importance_cgrid = pd.DataFrame(list(zip(X_cgrid.columns, dt_gridsearch.best_estimator_.feature_importances_)), \n",
    "#               columns=['Feature', 'Importance']\n",
    "#              ).sort_values(by='Importance', ascending=False)\n",
    "# feature_importance_cgrid"
   ]
  },
  {
   "cell_type": "markdown",
   "metadata": {},
   "source": [
    "# Plot scores for evaluation"
   ]
  },
  {
   "cell_type": "code",
   "execution_count": 424,
   "metadata": {
    "ExecuteTime": {
     "end_time": "2019-09-29T15:49:36.537931Z",
     "start_time": "2019-09-29T15:49:36.530480Z"
    }
   },
   "outputs": [],
   "source": [
    "# Load data\n",
    "Q1_result_df = pd.read_pickle('/Users/mai/Desktop/yelp_dataset/to_submit/Q1_result_df.pickle')"
   ]
  },
  {
   "cell_type": "code",
   "execution_count": 431,
   "metadata": {
    "ExecuteTime": {
     "end_time": "2019-09-29T15:51:47.435099Z",
     "start_time": "2019-09-29T15:51:47.418149Z"
    }
   },
   "outputs": [
    {
     "data": {
      "text/html": [
       "<div>\n",
       "<style scoped>\n",
       "    .dataframe tbody tr th:only-of-type {\n",
       "        vertical-align: middle;\n",
       "    }\n",
       "\n",
       "    .dataframe tbody tr th {\n",
       "        vertical-align: top;\n",
       "    }\n",
       "\n",
       "    .dataframe thead th {\n",
       "        text-align: right;\n",
       "    }\n",
       "</style>\n",
       "<table border=\"1\" class=\"dataframe\">\n",
       "  <thead>\n",
       "    <tr style=\"text-align: right;\">\n",
       "      <th></th>\n",
       "      <th>Model</th>\n",
       "      <th>Train_Score</th>\n",
       "      <th>Test_Score</th>\n",
       "      <th>CV_Score</th>\n",
       "      <th>Precision_Score</th>\n",
       "      <th>Recall_Score</th>\n",
       "      <th>Baseline</th>\n",
       "    </tr>\n",
       "  </thead>\n",
       "  <tbody>\n",
       "    <tr>\n",
       "      <th>0</th>\n",
       "      <td>Logistic_Regression</td>\n",
       "      <td>0.58</td>\n",
       "      <td>0.59</td>\n",
       "      <td>0.58</td>\n",
       "      <td>0.59</td>\n",
       "      <td>0.99</td>\n",
       "      <td>0.59</td>\n",
       "    </tr>\n",
       "    <tr>\n",
       "      <th>1</th>\n",
       "      <td>Logistic_RegressionCV_Ridge</td>\n",
       "      <td>0.59</td>\n",
       "      <td>0.59</td>\n",
       "      <td>0.58</td>\n",
       "      <td>0.59</td>\n",
       "      <td>1.00</td>\n",
       "      <td>0.59</td>\n",
       "    </tr>\n",
       "    <tr>\n",
       "      <th>2</th>\n",
       "      <td>Logistic_RegressionCV_Lasso</td>\n",
       "      <td>0.58</td>\n",
       "      <td>0.59</td>\n",
       "      <td>0.58</td>\n",
       "      <td>0.59</td>\n",
       "      <td>1.00</td>\n",
       "      <td>0.59</td>\n",
       "    </tr>\n",
       "    <tr>\n",
       "      <th>3</th>\n",
       "      <td>SVM_classifiers</td>\n",
       "      <td>0.59</td>\n",
       "      <td>0.59</td>\n",
       "      <td>0.59</td>\n",
       "      <td>0.59</td>\n",
       "      <td>1.00</td>\n",
       "      <td>0.59</td>\n",
       "    </tr>\n",
       "    <tr>\n",
       "      <th>4</th>\n",
       "      <td>GridsearchCV on Decision Tree</td>\n",
       "      <td>0.59</td>\n",
       "      <td>0.58</td>\n",
       "      <td>0.59</td>\n",
       "      <td>0.58</td>\n",
       "      <td>1.00</td>\n",
       "      <td>0.59</td>\n",
       "    </tr>\n",
       "  </tbody>\n",
       "</table>\n",
       "</div>"
      ],
      "text/plain": [
       "                           Model  Train_Score  Test_Score  CV_Score  \\\n",
       "0            Logistic_Regression         0.58        0.59      0.58   \n",
       "1    Logistic_RegressionCV_Ridge         0.59        0.59      0.58   \n",
       "2    Logistic_RegressionCV_Lasso         0.58        0.59      0.58   \n",
       "3                SVM_classifiers         0.59        0.59      0.59   \n",
       "4  GridsearchCV on Decision Tree         0.59        0.58      0.59   \n",
       "\n",
       "   Precision_Score  Recall_Score  Baseline  \n",
       "0             0.59          0.99      0.59  \n",
       "1             0.59          1.00      0.59  \n",
       "2             0.59          1.00      0.59  \n",
       "3             0.59          1.00      0.59  \n",
       "4             0.58          1.00      0.59  "
      ]
     },
     "execution_count": 431,
     "metadata": {},
     "output_type": "execute_result"
    }
   ],
   "source": [
    "# Show data\n",
    "Q1_result_df"
   ]
  },
  {
   "cell_type": "code",
   "execution_count": 440,
   "metadata": {
    "ExecuteTime": {
     "end_time": "2019-09-29T15:54:01.823475Z",
     "start_time": "2019-09-29T15:54:01.350584Z"
    }
   },
   "outputs": [
    {
     "data": {
      "image/png": "[encoded data removed]",
      "text/plain": [
       "<Figure size 432x288 with 1 Axes>"
      ]
     },
     "metadata": {
      "image/png": {
       "height": 408,
       "width": 552
      },
      "needs_background": "light"
     },
     "output_type": "display_data"
    }
   ],
   "source": [
    "# Plot results\n",
    "fig, ax = plt.subplots()\n",
    "\n",
    "plt.scatter(Q1_result_df['Model'], Q1_result_df['Train_Score'], \n",
    "                 color = 'blue', label = 'Train Score', marker = 'o')\n",
    "plt.scatter(Q1_result_df['Model'], Q1_result_df['Test_Score'], \n",
    "                  color = 'green', label = 'Test score', marker = 'o')\n",
    "plt.scatter(Q1_result_df['Model'], Q1_result_df['CV_Score'], \n",
    "                  color = 'red', label = 'CV score', marker = 'x')\n",
    "plt.scatter(Q1_result_df['Model'], Q1_result_df['Precision_Score'], \n",
    "                  color = 'yellow', label = 'Precision score', marker = 'x')\n",
    "plt.plot(Q1_result_df['Model'], Q1_result_df['Baseline'], \n",
    "               color = 'black', label = 'Baseline score', linewidth=0.5)\n",
    "\n",
    "plt.xticks(rotation = 90)\n",
    "plt.title('Q1 model performance')\n",
    "plt.legend(loc=(1.05,0))\n",
    "axes = plt.gca()\n",
    "axes.set_ylim([0.5700, 0.600])\n",
    "plt.savefig('Q1_model_performance.jpg', bbox_inches=\"tight\")\n",
    "plt.show();"
   ]
  },
  {
   "cell_type": "code",
   "execution_count": 487,
   "metadata": {
    "ExecuteTime": {
     "end_time": "2019-09-29T16:12:14.603723Z",
     "start_time": "2019-09-29T16:12:14.592598Z"
    }
   },
   "outputs": [],
   "source": [
    "# Check ROC Curve \n",
    "fpr, tpr, threshold = roc_curve(y_test, yhat_pp_ridge[:, 1])\n",
    "roc_auc = auc(fpr, tpr)"
   ]
  },
  {
   "cell_type": "code",
   "execution_count": 488,
   "metadata": {
    "ExecuteTime": {
     "end_time": "2019-09-29T16:12:15.416913Z",
     "start_time": "2019-09-29T16:12:15.125778Z"
    }
   },
   "outputs": [
    {
     "data": {
      "image/png": "[encoded data removed]",
      "text/plain": [
       "<Figure size 432x432 with 1 Axes>"
      ]
     },
     "metadata": {
      "image/png": {
       "height": 394,
       "width": 455
      },
      "needs_background": "light"
     },
     "output_type": "display_data"
    }
   ],
   "source": [
    "fig, ax = plt.subplots(figsize=(6, 6))\n",
    "\n",
    "ax.plot(fpr, tpr, label='Ridge (area = %0.3f)' % roc_auc, linewidth=4)\n",
    "ax.plot([0, 1], [0, 1], 'k--', linewidth=4)\n",
    "\n",
    "ax.set_xlim([-0.05, 1.0])\n",
    "ax.set_ylim([-0.05, 1.05])\n",
    "ax.set_xlabel('False Positive Rate', fontsize=18)\n",
    "ax.set_ylabel('True Positive Rate', fontsize=18)\n",
    "ax.set_title('Receiver operating characteristic: is successful', fontsize=18)\n",
    "ax.legend(loc=\"lower right\")\n",
    "\n",
    "plt.show()"
   ]
  },
  {
   "cell_type": "code",
   "execution_count": 489,
   "metadata": {
    "ExecuteTime": {
     "end_time": "2019-09-29T16:12:16.321665Z",
     "start_time": "2019-09-29T16:12:16.301747Z"
    }
   },
   "outputs": [],
   "source": [
    "fpr_lasso, tpr_lasso, threshold = roc_curve(y_test, yhat_pp_lasso[:, 1])\n",
    "roc_auc_lasso = auc(fpr_lasso, tpr_lasso)"
   ]
  },
  {
   "cell_type": "code",
   "execution_count": 490,
   "metadata": {
    "ExecuteTime": {
     "end_time": "2019-09-29T16:12:17.104666Z",
     "start_time": "2019-09-29T16:12:16.834080Z"
    }
   },
   "outputs": [
    {
     "data": {
      "image/png": "[encoded data removed]",
      "text/plain": [
       "<Figure size 432x432 with 1 Axes>"
      ]
     },
     "execution_count": 490,
     "metadata": {
      "image/png": {
       "height": 394,
       "width": 455
      }
     },
     "output_type": "execute_result"
    }
   ],
   "source": [
    "ax.plot(fpr_lasso, tpr_lasso, label='Lasso (area = %0.3f)' % roc_auc_lasso,\n",
    "        linewidth=4, color='orange')\n",
    "ax.legend(loc='lower right')\n",
    "fig"
   ]
  },
  {
   "cell_type": "code",
   "execution_count": 491,
   "metadata": {
    "ExecuteTime": {
     "end_time": "2019-09-29T16:12:17.733080Z",
     "start_time": "2019-09-29T16:12:17.724174Z"
    }
   },
   "outputs": [],
   "source": [
    "fpr_clf_s, tpr_clf_s, threshold = roc_curve(y_test, yhat_pp_clf_s[:, 1])\n",
    "roc_auc_clf_s = auc(fpr_clf_s, tpr_clf_s)"
   ]
  },
  {
   "cell_type": "code",
   "execution_count": 492,
   "metadata": {
    "ExecuteTime": {
     "end_time": "2019-09-29T16:12:18.433294Z",
     "start_time": "2019-09-29T16:12:18.163197Z"
    }
   },
   "outputs": [
    {
     "data": {
      "image/png": "[encoded data removed]",
      "text/plain": [
       "<Figure size 432x432 with 1 Axes>"
      ]
     },
     "execution_count": 492,
     "metadata": {
      "image/png": {
       "height": 394,
       "width": 455
      }
     },
     "output_type": "execute_result"
    }
   ],
   "source": [
    "ax.plot(fpr_clf_s, tpr_clf_s, label='SupportVectorMachine (area = %0.3f)' % roc_auc_clf_s,\n",
    "        linewidth=4, color='green')\n",
    "ax.legend(loc='lower right')\n",
    "fig"
   ]
  },
  {
   "cell_type": "code",
   "execution_count": 493,
   "metadata": {
    "ExecuteTime": {
     "end_time": "2019-09-29T16:12:19.041648Z",
     "start_time": "2019-09-29T16:12:19.034982Z"
    }
   },
   "outputs": [],
   "source": [
    "fpr_dt_gridsearch, tpr_dt_gridsearch, threshold = roc_curve(y_test, yhat_pp_dt_gridsearch[:, 1])\n",
    "roc_auc_dt_gridsearch = auc(fpr_dt_gridsearch, tpr_dt_gridsearch)"
   ]
  },
  {
   "cell_type": "code",
   "execution_count": 494,
   "metadata": {
    "ExecuteTime": {
     "end_time": "2019-09-29T16:12:19.741429Z",
     "start_time": "2019-09-29T16:12:19.480907Z"
    }
   },
   "outputs": [
    {
     "data": {
      "image/png": "[encoded data removed]",
      "text/plain": [
       "<Figure size 432x432 with 1 Axes>"
      ]
     },
     "execution_count": 494,
     "metadata": {
      "image/png": {
       "height": 394,
       "width": 455
      }
     },
     "output_type": "execute_result"
    }
   ],
   "source": [
    "ax.plot(fpr_dt_gridsearch, tpr_dt_gridsearch, label='Decision Tree (area = %0.3f)' % roc_auc_dt_gridsearch,\n",
    "        linewidth=4, color='purple')\n",
    "ax.legend(loc='lower right')\n",
    "fig"
   ]
  }
 ],
 "metadata": {
  "kernelspec": {
   "display_name": "Python 3",
   "language": "python",
   "name": "python3"
  },
  "language_info": {
   "codemirror_mode": {
    "name": "ipython",
    "version": 3
   },
   "file_extension": ".py",
   "mimetype": "text/x-python",
   "name": "python",
   "nbconvert_exporter": "python",
   "pygments_lexer": "ipython3",
   "version": "3.7.3"
  },
  "toc": {
   "base_numbering": 1,
   "nav_menu": {},
   "number_sections": true,
   "sideBar": true,
   "skip_h1_title": false,
   "title_cell": "Table of Contents",
   "title_sidebar": "Contents",
   "toc_cell": false,
   "toc_position": {},
   "toc_section_display": true,
   "toc_window_display": false
  }
 },
 "nbformat": 4,
 "nbformat_minor": 2
}

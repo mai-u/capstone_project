{
 "cells": [
  {
   "cell_type": "markdown",
   "metadata": {},
   "source": [
    "# Import packages"
   ]
  },
  {
   "cell_type": "code",
   "execution_count": 1,
   "metadata": {
    "ExecuteTime": {
     "end_time": "2019-09-29T21:31:13.762500Z",
     "start_time": "2019-09-29T21:31:13.096046Z"
    }
   },
   "outputs": [],
   "source": [
    "import warnings\n",
    "warnings.filterwarnings('ignore')\n",
    "from copy import deepcopy\n",
    "import pickle\n",
    "import pandas as pd\n",
    "import numpy as np"
   ]
  },
  {
   "cell_type": "markdown",
   "metadata": {},
   "source": [
    "# Load business data"
   ]
  },
  {
   "cell_type": "code",
   "execution_count": 2,
   "metadata": {
    "ExecuteTime": {
     "end_time": "2019-09-29T21:31:14.276371Z",
     "start_time": "2019-09-29T21:31:13.829102Z"
    }
   },
   "outputs": [
    {
     "data": {
      "text/html": [
       "<div>\n",
       "<style scoped>\n",
       "    .dataframe tbody tr th:only-of-type {\n",
       "        vertical-align: middle;\n",
       "    }\n",
       "\n",
       "    .dataframe tbody tr th {\n",
       "        vertical-align: top;\n",
       "    }\n",
       "\n",
       "    .dataframe thead th {\n",
       "        text-align: right;\n",
       "    }\n",
       "</style>\n",
       "<table border=\"1\" class=\"dataframe\">\n",
       "  <thead>\n",
       "    <tr style=\"text-align: right;\">\n",
       "      <th></th>\n",
       "      <th>business_id</th>\n",
       "      <th>categories</th>\n",
       "      <th>city</th>\n",
       "      <th>business_status</th>\n",
       "      <th>latitude</th>\n",
       "      <th>longitude</th>\n",
       "      <th>business_name</th>\n",
       "      <th>review_count_per_business</th>\n",
       "      <th>average_stars_per_business</th>\n",
       "      <th>US_state</th>\n",
       "      <th>...</th>\n",
       "      <th>meal_brunch</th>\n",
       "      <th>meal_dessert</th>\n",
       "      <th>meal_dinner</th>\n",
       "      <th>meal_latenight</th>\n",
       "      <th>meal_lunch</th>\n",
       "      <th>parking_garage</th>\n",
       "      <th>parking_lot</th>\n",
       "      <th>parking_street</th>\n",
       "      <th>parking_valet</th>\n",
       "      <th>parking_validated</th>\n",
       "    </tr>\n",
       "  </thead>\n",
       "  <tbody>\n",
       "    <tr>\n",
       "      <th>0</th>\n",
       "      <td>QXAEGFB4oINsVuTFxEYKFQ</td>\n",
       "      <td>Specialty Food, Restaurants, Dim Sum, Imported...</td>\n",
       "      <td>Mississauga</td>\n",
       "      <td>1</td>\n",
       "      <td>43.605499</td>\n",
       "      <td>-79.652289</td>\n",
       "      <td>Emerald Chinese Restaurant</td>\n",
       "      <td>128</td>\n",
       "      <td>2.5</td>\n",
       "      <td>ON</td>\n",
       "      <td>...</td>\n",
       "      <td>0.0</td>\n",
       "      <td>0.0</td>\n",
       "      <td>1.0</td>\n",
       "      <td>0.0</td>\n",
       "      <td>1.0</td>\n",
       "      <td>0.0</td>\n",
       "      <td>1.0</td>\n",
       "      <td>0.0</td>\n",
       "      <td>0.0</td>\n",
       "      <td>0.0</td>\n",
       "    </tr>\n",
       "    <tr>\n",
       "      <th>1</th>\n",
       "      <td>gnKjwL_1w79qoiV3IC_xQQ</td>\n",
       "      <td>Sushi Bars, Restaurants, Japanese</td>\n",
       "      <td>Charlotte</td>\n",
       "      <td>1</td>\n",
       "      <td>35.092564</td>\n",
       "      <td>-80.859132</td>\n",
       "      <td>Musashi Japanese Restaurant</td>\n",
       "      <td>170</td>\n",
       "      <td>4.0</td>\n",
       "      <td>NC</td>\n",
       "      <td>...</td>\n",
       "      <td>0.0</td>\n",
       "      <td>0.0</td>\n",
       "      <td>1.0</td>\n",
       "      <td>0.0</td>\n",
       "      <td>1.0</td>\n",
       "      <td>0.0</td>\n",
       "      <td>1.0</td>\n",
       "      <td>0.0</td>\n",
       "      <td>0.0</td>\n",
       "      <td>0.0</td>\n",
       "    </tr>\n",
       "    <tr>\n",
       "      <th>2</th>\n",
       "      <td>xvX2CttrVhyG2z1dFg_0xw</td>\n",
       "      <td>Insurance, Financial Services</td>\n",
       "      <td>Goodyear</td>\n",
       "      <td>1</td>\n",
       "      <td>33.455613</td>\n",
       "      <td>-112.395596</td>\n",
       "      <td>Farmers Insurance - Paul Lorenz</td>\n",
       "      <td>3</td>\n",
       "      <td>5.0</td>\n",
       "      <td>AZ</td>\n",
       "      <td>...</td>\n",
       "      <td>0.0</td>\n",
       "      <td>0.0</td>\n",
       "      <td>0.0</td>\n",
       "      <td>0.0</td>\n",
       "      <td>0.0</td>\n",
       "      <td>0.0</td>\n",
       "      <td>0.0</td>\n",
       "      <td>0.0</td>\n",
       "      <td>0.0</td>\n",
       "      <td>0.0</td>\n",
       "    </tr>\n",
       "    <tr>\n",
       "      <th>3</th>\n",
       "      <td>HhyxOkGAM07SRYtlQ4wMFQ</td>\n",
       "      <td>Plumbing, Shopping, Local Services, Home Servi...</td>\n",
       "      <td>Charlotte</td>\n",
       "      <td>1</td>\n",
       "      <td>35.190012</td>\n",
       "      <td>-80.887223</td>\n",
       "      <td>Queen City Plumbing</td>\n",
       "      <td>4</td>\n",
       "      <td>4.0</td>\n",
       "      <td>NC</td>\n",
       "      <td>...</td>\n",
       "      <td>0.0</td>\n",
       "      <td>0.0</td>\n",
       "      <td>0.0</td>\n",
       "      <td>0.0</td>\n",
       "      <td>0.0</td>\n",
       "      <td>0.0</td>\n",
       "      <td>0.0</td>\n",
       "      <td>0.0</td>\n",
       "      <td>0.0</td>\n",
       "      <td>0.0</td>\n",
       "    </tr>\n",
       "    <tr>\n",
       "      <th>4</th>\n",
       "      <td>68dUKd8_8liJ7in4aWOSEA</td>\n",
       "      <td>Shipping Centers, Couriers &amp; Delivery Services...</td>\n",
       "      <td>Mississauga</td>\n",
       "      <td>1</td>\n",
       "      <td>43.599475</td>\n",
       "      <td>-79.711584</td>\n",
       "      <td>The UPS Store</td>\n",
       "      <td>3</td>\n",
       "      <td>2.5</td>\n",
       "      <td>ON</td>\n",
       "      <td>...</td>\n",
       "      <td>0.0</td>\n",
       "      <td>0.0</td>\n",
       "      <td>0.0</td>\n",
       "      <td>0.0</td>\n",
       "      <td>0.0</td>\n",
       "      <td>0.0</td>\n",
       "      <td>0.0</td>\n",
       "      <td>0.0</td>\n",
       "      <td>0.0</td>\n",
       "      <td>0.0</td>\n",
       "    </tr>\n",
       "  </tbody>\n",
       "</table>\n",
       "<p>5 rows × 105 columns</p>\n",
       "</div>"
      ],
      "text/plain": [
       "              business_id                                         categories  \\\n",
       "0  QXAEGFB4oINsVuTFxEYKFQ  Specialty Food, Restaurants, Dim Sum, Imported...   \n",
       "1  gnKjwL_1w79qoiV3IC_xQQ                  Sushi Bars, Restaurants, Japanese   \n",
       "2  xvX2CttrVhyG2z1dFg_0xw                      Insurance, Financial Services   \n",
       "3  HhyxOkGAM07SRYtlQ4wMFQ  Plumbing, Shopping, Local Services, Home Servi...   \n",
       "4  68dUKd8_8liJ7in4aWOSEA  Shipping Centers, Couriers & Delivery Services...   \n",
       "\n",
       "          city  business_status   latitude   longitude  \\\n",
       "0  Mississauga                1  43.605499  -79.652289   \n",
       "1    Charlotte                1  35.092564  -80.859132   \n",
       "2     Goodyear                1  33.455613 -112.395596   \n",
       "3    Charlotte                1  35.190012  -80.887223   \n",
       "4  Mississauga                1  43.599475  -79.711584   \n",
       "\n",
       "                     business_name  review_count_per_business  \\\n",
       "0       Emerald Chinese Restaurant                        128   \n",
       "1      Musashi Japanese Restaurant                        170   \n",
       "2  Farmers Insurance - Paul Lorenz                          3   \n",
       "3              Queen City Plumbing                          4   \n",
       "4                    The UPS Store                          3   \n",
       "\n",
       "   average_stars_per_business US_state  ...  meal_brunch  meal_dessert  \\\n",
       "0                         2.5       ON  ...          0.0           0.0   \n",
       "1                         4.0       NC  ...          0.0           0.0   \n",
       "2                         5.0       AZ  ...          0.0           0.0   \n",
       "3                         4.0       NC  ...          0.0           0.0   \n",
       "4                         2.5       ON  ...          0.0           0.0   \n",
       "\n",
       "   meal_dinner  meal_latenight  meal_lunch  parking_garage  parking_lot  \\\n",
       "0          1.0             0.0         1.0             0.0          1.0   \n",
       "1          1.0             0.0         1.0             0.0          1.0   \n",
       "2          0.0             0.0         0.0             0.0          0.0   \n",
       "3          0.0             0.0         0.0             0.0          0.0   \n",
       "4          0.0             0.0         0.0             0.0          0.0   \n",
       "\n",
       "   parking_street  parking_valet  parking_validated  \n",
       "0             0.0            0.0                0.0  \n",
       "1             0.0            0.0                0.0  \n",
       "2             0.0            0.0                0.0  \n",
       "3             0.0            0.0                0.0  \n",
       "4             0.0            0.0                0.0  \n",
       "\n",
       "[5 rows x 105 columns]"
      ]
     },
     "execution_count": 2,
     "metadata": {},
     "output_type": "execute_result"
    }
   ],
   "source": [
    "df = pd.read_pickle('/Users/mai/Desktop/yelp_dataset/to_submit/businessdf.pickle')\n",
    "df.head()"
   ]
  },
  {
   "cell_type": "markdown",
   "metadata": {},
   "source": [
    "# Extract Restaurant or food store information"
   ]
  },
  {
   "cell_type": "code",
   "execution_count": 3,
   "metadata": {
    "ExecuteTime": {
     "end_time": "2019-09-29T21:31:17.071905Z",
     "start_time": "2019-09-29T21:31:16.854914Z"
    }
   },
   "outputs": [],
   "source": [
    "# Specify rows data that contains 'Restaurants' or 'Food' in the \n",
    "restaurants = df[df['categories'].str.contains('Restaurant|Food') == True]"
   ]
  },
  {
   "cell_type": "code",
   "execution_count": 4,
   "metadata": {
    "ExecuteTime": {
     "end_time": "2019-09-29T21:31:27.289682Z",
     "start_time": "2019-09-29T21:31:27.282224Z"
    }
   },
   "outputs": [
    {
     "data": {
      "text/plain": [
       "(74599, 105)"
      ]
     },
     "execution_count": 4,
     "metadata": {},
     "output_type": "execute_result"
    }
   ],
   "source": [
    "# Check the shape\n",
    "restaurants.shape"
   ]
  },
  {
   "cell_type": "code",
   "execution_count": 8,
   "metadata": {
    "ExecuteTime": {
     "end_time": "2019-09-22T19:29:54.168586Z",
     "start_time": "2019-09-22T19:29:54.162311Z"
    }
   },
   "outputs": [
    {
     "data": {
      "text/plain": [
       "0     Specialty Food, Restaurants, Dim Sum, Imported...\n",
       "1                     Sushi Bars, Restaurants, Japanese\n",
       "10    Restaurants, Breakfast & Brunch, Mexican, Taco...\n",
       "12           Italian, Restaurants, Pizza, Chicken Wings\n",
       "13                                       Bakeries, Food\n",
       "Name: categories, dtype: object"
      ]
     },
     "execution_count": 8,
     "metadata": {},
     "output_type": "execute_result"
    }
   ],
   "source": [
    "# Check if I extracted restaurant and food data successfully \n",
    "restaurants.categories[:5]"
   ]
  },
  {
   "cell_type": "code",
   "execution_count": 9,
   "metadata": {
    "ExecuteTime": {
     "end_time": "2019-09-22T19:29:54.989420Z",
     "start_time": "2019-09-22T19:29:54.673148Z"
    }
   },
   "outputs": [],
   "source": [
    "# Put labels to business information for future use\n",
    "Business_type = ['Restaurants', 'Food']\n",
    "for b in Business_type:\n",
    "    restaurants.loc[restaurants['categories'].str.contains(b),'business_type'] = b"
   ]
  },
  {
   "cell_type": "code",
   "execution_count": 10,
   "metadata": {
    "ExecuteTime": {
     "end_time": "2019-09-22T19:29:56.845606Z",
     "start_time": "2019-09-22T19:29:56.781160Z"
    }
   },
   "outputs": [],
   "source": [
    "# Those with NaN values after the above step are 'Restaurant Supplies', thus, I decided to drop the information\n",
    "restaurants['business_type'].dropna(inplace=True)"
   ]
  },
  {
   "cell_type": "markdown",
   "metadata": {},
   "source": [
    "# Create a column of couisine information"
   ]
  },
  {
   "cell_type": "code",
   "execution_count": 11,
   "metadata": {
    "ExecuteTime": {
     "end_time": "2019-09-22T19:29:57.565942Z",
     "start_time": "2019-09-22T19:29:57.560207Z"
    }
   },
   "outputs": [],
   "source": [
    "# Create a cuisine column based on a popular cuisine list\n",
    "cuisines = ['African', 'Algerian', 'American', 'Belgian', 'Brazilian', 'British', \\\n",
    "            'Cajun', 'Canadian', 'Chinese', 'Cuban', 'Egyptian', 'French', \\\n",
    "            'German', 'Greek', 'Haitian', 'Hawaiian', 'Indian', 'Irish', 'Italian', \n",
    "            'Japanese', 'Jewish', 'Kenyan', 'Korean', 'Latvian', \\\n",
    "            'Libyan', 'Mediterranean', 'Mexican', 'Middle Eastern', 'Mormon', \\\n",
    "            'Nigerian', 'Peruvian', 'Polish', 'Portuguese', 'Russian', \\\n",
    "            'Salvadorian', 'Scottish', 'Spanish', 'Swedish', \\\n",
    "            'Tahitian', 'Thai', 'Tibetan', 'Turkish', 'Vietnamese','Welsh'\\\n",
    "            'Venezuelan', 'Argentine', 'Cantonese', 'Salvadoran', 'Arabian',\\\n",
    "            'Moroccan', 'Russian', 'Uzbek', 'Armenian', 'Lebanese', 'Indonesian', \\\n",
    "            'Singaporean']"
   ]
  },
  {
   "cell_type": "code",
   "execution_count": 12,
   "metadata": {
    "ExecuteTime": {
     "end_time": "2019-09-22T19:30:02.255725Z",
     "start_time": "2019-09-22T19:29:57.949421Z"
    }
   },
   "outputs": [],
   "source": [
    "# Find a cuisine name in the 'categories' column and create a new colomn (or fill 1 in the relevant column)\n",
    "# E.g. When a cell contains 'American', it creates an 'American' column or fill 1 in the 'American' column if it exists already\n",
    "for c in cuisines:\n",
    "    restaurants.loc[restaurants['categories'].str.contains(c),'cuisine'] = c"
   ]
  },
  {
   "cell_type": "markdown",
   "metadata": {},
   "source": [
    "# Create a column of food type information"
   ]
  },
  {
   "cell_type": "code",
   "execution_count": 13,
   "metadata": {
    "ExecuteTime": {
     "end_time": "2019-09-22T19:30:02.262398Z",
     "start_time": "2019-09-22T19:30:02.257281Z"
    }
   },
   "outputs": [],
   "source": [
    "# Create a food type column based on a popular cuisine list\n",
    "Food_type = ['Arabian', 'Armenian', 'Asian Fusion', 'Barbeque', 'Basque', \n",
    "            'Breakfast & Brunch', 'Buffets', 'Burgers', 'Cafes', \\\n",
    "            'Cafeteria', 'Cajun', 'Cheesesteaks', 'Chicken Shops', \\\n",
    "            'Chicken Wings', 'Coffee & Tea', 'Comfort Food', 'Creperies', \\\n",
    "            'Delis', 'Dim Sum', 'Diners', 'Falafel', 'Fast Food', 'Fish & Chips', \\\n",
    "            'Fondue', 'Food Court', 'Food Stands', 'Gastropubs', 'Halal', \\\n",
    "            'Hot Dogs', 'Hot Pot', 'Kebab', 'Kosher', 'Moroccan', 'Noodles',\\\n",
    "            'Pizza', 'Ramen', 'Russian', 'Salad', 'Salvadoran', 'Sandwiches', \\\n",
    "            'Seafood', 'Soup', 'Steakhouses', 'Sushi Bars', 'Tacos', 'Tapas Bars', \\\n",
    "            'Tapas Bars', 'Uzbek', 'Waffles', 'Wraps', ]"
   ]
  },
  {
   "cell_type": "code",
   "execution_count": 14,
   "metadata": {
    "ExecuteTime": {
     "end_time": "2019-09-22T19:30:06.349749Z",
     "start_time": "2019-09-22T19:30:02.265170Z"
    }
   },
   "outputs": [],
   "source": [
    "# Do the same as 'cuisine' columns\n",
    "for f in Food_type:\n",
    "    restaurants.loc[restaurants['categories'].str.contains(f),'food_type'] = f"
   ]
  },
  {
   "cell_type": "markdown",
   "metadata": {},
   "source": [
    "# Dummify columns "
   ]
  },
  {
   "cell_type": "code",
   "execution_count": 15,
   "metadata": {
    "ExecuteTime": {
     "end_time": "2019-09-22T19:30:06.368915Z",
     "start_time": "2019-09-22T19:30:06.352011Z"
    }
   },
   "outputs": [],
   "source": [
    "dummy_business_type = pd.get_dummies(restaurants[['business_type']], drop_first=True)"
   ]
  },
  {
   "cell_type": "code",
   "execution_count": 16,
   "metadata": {
    "ExecuteTime": {
     "end_time": "2019-09-22T19:30:06.406330Z",
     "start_time": "2019-09-22T19:30:06.370769Z"
    }
   },
   "outputs": [],
   "source": [
    "dummy_cuisine_and_food = pd.get_dummies(restaurants[['cuisine', 'food_type']])"
   ]
  },
  {
   "cell_type": "code",
   "execution_count": 17,
   "metadata": {
    "ExecuteTime": {
     "end_time": "2019-09-22T19:30:06.456364Z",
     "start_time": "2019-09-22T19:30:06.407625Z"
    }
   },
   "outputs": [],
   "source": [
    "restaurants_ver2 = pd.concat([restaurants, dummy_business_type, dummy_cuisine_and_food], axis=1)"
   ]
  },
  {
   "cell_type": "code",
   "execution_count": 18,
   "metadata": {
    "ExecuteTime": {
     "end_time": "2019-09-22T19:30:06.597758Z",
     "start_time": "2019-09-22T19:30:06.457897Z"
    }
   },
   "outputs": [],
   "source": [
    "restaurants_ver2 = restaurants_ver2.drop(['business_type', 'categories', 'cuisine', 'food_type'], axis=1)"
   ]
  },
  {
   "cell_type": "markdown",
   "metadata": {},
   "source": [
    "# Feature generation "
   ]
  },
  {
   "cell_type": "markdown",
   "metadata": {},
   "source": [
    "## Create a column for total checkin counts"
   ]
  },
  {
   "cell_type": "code",
   "execution_count": 19,
   "metadata": {
    "ExecuteTime": {
     "end_time": "2019-09-22T19:30:07.007631Z",
     "start_time": "2019-09-22T19:30:06.600357Z"
    }
   },
   "outputs": [
    {
     "data": {
      "text/html": [
       "<div>\n",
       "<style scoped>\n",
       "    .dataframe tbody tr th:only-of-type {\n",
       "        vertical-align: middle;\n",
       "    }\n",
       "\n",
       "    .dataframe tbody tr th {\n",
       "        vertical-align: top;\n",
       "    }\n",
       "\n",
       "    .dataframe thead th {\n",
       "        text-align: right;\n",
       "    }\n",
       "</style>\n",
       "<table border=\"1\" class=\"dataframe\">\n",
       "  <thead>\n",
       "    <tr style=\"text-align: right;\">\n",
       "      <th></th>\n",
       "      <th>business_id</th>\n",
       "      <th>date</th>\n",
       "    </tr>\n",
       "  </thead>\n",
       "  <tbody>\n",
       "    <tr>\n",
       "      <th>0</th>\n",
       "      <td>--1UhMGODdWsrMastO9DZw</td>\n",
       "      <td>2016-04-26 19:49:16, 2016-08-30 18:36:57, 2016...</td>\n",
       "    </tr>\n",
       "    <tr>\n",
       "      <th>1</th>\n",
       "      <td>--6MefnULPED_I942VcFNA</td>\n",
       "      <td>2011-06-04 18:22:23, 2011-07-23 23:51:33, 2012...</td>\n",
       "    </tr>\n",
       "    <tr>\n",
       "      <th>2</th>\n",
       "      <td>--7zmmkVg-IMGaXbuVd0SQ</td>\n",
       "      <td>2014-12-29 19:25:50, 2015-01-17 01:49:14, 2015...</td>\n",
       "    </tr>\n",
       "    <tr>\n",
       "      <th>3</th>\n",
       "      <td>--8LPVSo5i0Oo61X01sV9A</td>\n",
       "      <td>2016-07-08 16:43:30</td>\n",
       "    </tr>\n",
       "    <tr>\n",
       "      <th>4</th>\n",
       "      <td>--9QQLMTbFzLJ_oT-ON3Xw</td>\n",
       "      <td>2010-06-26 17:39:07, 2010-08-01 20:06:21, 2010...</td>\n",
       "    </tr>\n",
       "  </tbody>\n",
       "</table>\n",
       "</div>"
      ],
      "text/plain": [
       "              business_id                                               date\n",
       "0  --1UhMGODdWsrMastO9DZw  2016-04-26 19:49:16, 2016-08-30 18:36:57, 2016...\n",
       "1  --6MefnULPED_I942VcFNA  2011-06-04 18:22:23, 2011-07-23 23:51:33, 2012...\n",
       "2  --7zmmkVg-IMGaXbuVd0SQ  2014-12-29 19:25:50, 2015-01-17 01:49:14, 2015...\n",
       "3  --8LPVSo5i0Oo61X01sV9A                                2016-07-08 16:43:30\n",
       "4  --9QQLMTbFzLJ_oT-ON3Xw  2010-06-26 17:39:07, 2010-08-01 20:06:21, 2010..."
      ]
     },
     "execution_count": 19,
     "metadata": {},
     "output_type": "execute_result"
    }
   ],
   "source": [
    "# Load check-in data\n",
    "checkins = pd.read_pickle('/Users/mai/Desktop/yelp_dataset/to_submit/checkindf.pickle')\n",
    "checkins.head()"
   ]
  },
  {
   "cell_type": "code",
   "execution_count": null,
   "metadata": {
    "ExecuteTime": {
     "end_time": "2019-09-22T19:30:07.140301Z",
     "start_time": "2019-09-22T19:30:07.012112Z"
    }
   },
   "outputs": [],
   "source": [
    "# Create a new DataFrame to hold the timeseries of the checkins\n",
    "df_checkins = pd.DataFrame()\n",
    "\n",
    "for id in range(len(checkins.date)):\n",
    "    \n",
    "    df_checkins_id = pd.DataFrame()\n",
    "    \n",
    "    split = checkins.date[id].split(',')\n",
    "    df_checkins_id['Checkin_date'] = pd.to_datetime(split)\n",
    "    df_checkins_id['Business_id'] = checkins.business_id[id]\n",
    "    df_checkins_id['Year'] = df_checkins_id['checkin_date'].dt.year\n",
    "    \n",
    "\n",
    "    df_checkins_id = df_checkins_id.groupby(['business_id','year']).agg(['count']).reset_index()\n",
    "#    print(df_checkins_id)\n",
    "\n",
    "    df_checkins = pd.concat([df_checkins, df_checkins_id])"
   ]
  },
  {
   "cell_type": "code",
   "execution_count": null,
   "metadata": {},
   "outputs": [],
   "source": [
    "# Pickle results to avoid running all the above code again - it took hours to finish running\n",
    "df_checkins.to_pickle('df_checkins.pickle')"
   ]
  },
  {
   "cell_type": "code",
   "execution_count": 6,
   "metadata": {
    "ExecuteTime": {
     "end_time": "2019-09-29T21:32:42.922274Z",
     "start_time": "2019-09-29T21:32:42.864855Z"
    },
    "scrolled": true
   },
   "outputs": [
    {
     "data": {
      "text/html": [
       "<div>\n",
       "<style scoped>\n",
       "    .dataframe tbody tr th:only-of-type {\n",
       "        vertical-align: middle;\n",
       "    }\n",
       "\n",
       "    .dataframe tbody tr th {\n",
       "        vertical-align: top;\n",
       "    }\n",
       "\n",
       "    .dataframe thead th {\n",
       "        text-align: right;\n",
       "    }\n",
       "</style>\n",
       "<table border=\"1\" class=\"dataframe\">\n",
       "  <thead>\n",
       "    <tr style=\"text-align: right;\">\n",
       "      <th></th>\n",
       "      <th>business_id</th>\n",
       "      <th>year</th>\n",
       "      <th>number_checkins</th>\n",
       "    </tr>\n",
       "  </thead>\n",
       "  <tbody>\n",
       "    <tr>\n",
       "      <th>0</th>\n",
       "      <td>--1UhMGODdWsrMastO9DZw</td>\n",
       "      <td>2016</td>\n",
       "      <td>4</td>\n",
       "    </tr>\n",
       "    <tr>\n",
       "      <th>1</th>\n",
       "      <td>--1UhMGODdWsrMastO9DZw</td>\n",
       "      <td>2017</td>\n",
       "      <td>2</td>\n",
       "    </tr>\n",
       "    <tr>\n",
       "      <th>2</th>\n",
       "      <td>--6MefnULPED_I942VcFNA</td>\n",
       "      <td>2011</td>\n",
       "      <td>2</td>\n",
       "    </tr>\n",
       "    <tr>\n",
       "      <th>3</th>\n",
       "      <td>--6MefnULPED_I942VcFNA</td>\n",
       "      <td>2012</td>\n",
       "      <td>5</td>\n",
       "    </tr>\n",
       "    <tr>\n",
       "      <th>4</th>\n",
       "      <td>--6MefnULPED_I942VcFNA</td>\n",
       "      <td>2013</td>\n",
       "      <td>20</td>\n",
       "    </tr>\n",
       "  </tbody>\n",
       "</table>\n",
       "</div>"
      ],
      "text/plain": [
       "              business_id  year  number_checkins\n",
       "0  --1UhMGODdWsrMastO9DZw  2016                4\n",
       "1  --1UhMGODdWsrMastO9DZw  2017                2\n",
       "2  --6MefnULPED_I942VcFNA  2011                2\n",
       "3  --6MefnULPED_I942VcFNA  2012                5\n",
       "4  --6MefnULPED_I942VcFNA  2013               20"
      ]
     },
     "execution_count": 6,
     "metadata": {},
     "output_type": "execute_result"
    }
   ],
   "source": [
    "# Load data\n",
    "df_checkins = pd.read_pickle('/Users/mai/Desktop/yelp_dataset/to_submit/df_checkins.pickle')\n",
    "df_checkins.head()"
   ]
  },
  {
   "cell_type": "code",
   "execution_count": 7,
   "metadata": {
    "ExecuteTime": {
     "end_time": "2019-09-29T21:32:48.635396Z",
     "start_time": "2019-09-29T21:32:48.630466Z"
    }
   },
   "outputs": [
    {
     "data": {
      "text/plain": [
       "(713088, 3)"
      ]
     },
     "execution_count": 7,
     "metadata": {},
     "output_type": "execute_result"
    }
   ],
   "source": [
    "# Check the DataFrame shape\n",
    "df_checkins.shape"
   ]
  },
  {
   "cell_type": "code",
   "execution_count": 23,
   "metadata": {
    "ExecuteTime": {
     "end_time": "2019-09-22T19:30:42.232380Z",
     "start_time": "2019-09-22T19:30:42.207769Z"
    },
    "scrolled": true
   },
   "outputs": [],
   "source": [
    "# Rename the column to make it more clear\n",
    "df_checkins.rename(columns={'number_checkins': 'checkins_peryear'}, inplace=True)"
   ]
  },
  {
   "cell_type": "code",
   "execution_count": 24,
   "metadata": {
    "ExecuteTime": {
     "end_time": "2019-09-22T19:30:42.778651Z",
     "start_time": "2019-09-22T19:30:42.610266Z"
    }
   },
   "outputs": [],
   "source": [
    "# Current DataFrame structure: one check-in information per row\n",
    "# Group the checkin information by business_id\n",
    "total_checkins = pd.DataFrame(df_checkins.groupby('business_id')['checkins_peryear'].sum()).reset_index()"
   ]
  },
  {
   "cell_type": "code",
   "execution_count": 25,
   "metadata": {
    "ExecuteTime": {
     "end_time": "2019-09-22T19:30:43.015081Z",
     "start_time": "2019-09-22T19:30:42.867301Z"
    }
   },
   "outputs": [],
   "source": [
    "# Estimate the number of years the business is listed on Yelp\n",
    "total_checkins_yearcount = pd.DataFrame(df_checkins.groupby('business_id')['year'].count()).reset_index()"
   ]
  },
  {
   "cell_type": "code",
   "execution_count": 26,
   "metadata": {
    "ExecuteTime": {
     "end_time": "2019-09-22T19:30:43.203329Z",
     "start_time": "2019-09-22T19:30:43.080461Z"
    },
    "scrolled": true
   },
   "outputs": [
    {
     "data": {
      "text/html": [
       "<div>\n",
       "<style scoped>\n",
       "    .dataframe tbody tr th:only-of-type {\n",
       "        vertical-align: middle;\n",
       "    }\n",
       "\n",
       "    .dataframe tbody tr th {\n",
       "        vertical-align: top;\n",
       "    }\n",
       "\n",
       "    .dataframe thead th {\n",
       "        text-align: right;\n",
       "    }\n",
       "</style>\n",
       "<table border=\"1\" class=\"dataframe\">\n",
       "  <thead>\n",
       "    <tr style=\"text-align: right;\">\n",
       "      <th></th>\n",
       "      <th>business_id</th>\n",
       "      <th>total_checkins</th>\n",
       "      <th>total_checkinyear_count</th>\n",
       "    </tr>\n",
       "  </thead>\n",
       "  <tbody>\n",
       "    <tr>\n",
       "      <th>0</th>\n",
       "      <td>--1UhMGODdWsrMastO9DZw</td>\n",
       "      <td>6</td>\n",
       "      <td>2</td>\n",
       "    </tr>\n",
       "    <tr>\n",
       "      <th>1</th>\n",
       "      <td>--6MefnULPED_I942VcFNA</td>\n",
       "      <td>167</td>\n",
       "      <td>8</td>\n",
       "    </tr>\n",
       "    <tr>\n",
       "      <th>2</th>\n",
       "      <td>--7zmmkVg-IMGaXbuVd0SQ</td>\n",
       "      <td>180</td>\n",
       "      <td>5</td>\n",
       "    </tr>\n",
       "    <tr>\n",
       "      <th>3</th>\n",
       "      <td>--8LPVSo5i0Oo61X01sV9A</td>\n",
       "      <td>1</td>\n",
       "      <td>1</td>\n",
       "    </tr>\n",
       "    <tr>\n",
       "      <th>4</th>\n",
       "      <td>--9QQLMTbFzLJ_oT-ON3Xw</td>\n",
       "      <td>37</td>\n",
       "      <td>9</td>\n",
       "    </tr>\n",
       "  </tbody>\n",
       "</table>\n",
       "</div>"
      ],
      "text/plain": [
       "              business_id  total_checkins  total_checkinyear_count\n",
       "0  --1UhMGODdWsrMastO9DZw               6                        2\n",
       "1  --6MefnULPED_I942VcFNA             167                        8\n",
       "2  --7zmmkVg-IMGaXbuVd0SQ             180                        5\n",
       "3  --8LPVSo5i0Oo61X01sV9A               1                        1\n",
       "4  --9QQLMTbFzLJ_oT-ON3Xw              37                        9"
      ]
     },
     "execution_count": 26,
     "metadata": {},
     "output_type": "execute_result"
    }
   ],
   "source": [
    "# Put all data in a DataFrame\n",
    "df_checkins_ver2 = total_checkins.merge(total_checkins_yearcount, on='business_id')\n",
    "df_checkins_ver2.columns=['business_id', 'total_checkins', 'total_checkinyear_count']\n",
    "df_checkins_ver2.head()"
   ]
  },
  {
   "cell_type": "code",
   "execution_count": 27,
   "metadata": {
    "ExecuteTime": {
     "end_time": "2019-09-22T19:30:43.658868Z",
     "start_time": "2019-09-22T19:30:43.304556Z"
    },
    "scrolled": true
   },
   "outputs": [],
   "source": [
    "# Put all data in a DataFrame\n",
    "restaurants_ver3 = df_checkins_ver2.merge(restaurants_ver2, on='business_id')"
   ]
  },
  {
   "cell_type": "markdown",
   "metadata": {},
   "source": [
    "## Create a column for estimated operating years"
   ]
  },
  {
   "cell_type": "code",
   "execution_count": 28,
   "metadata": {
    "ExecuteTime": {
     "end_time": "2019-09-22T19:30:47.255446Z",
     "start_time": "2019-09-22T19:30:47.238122Z"
    }
   },
   "outputs": [],
   "source": [
    "# Create a copy to avoid overwrting\n",
    "df_operatingyears = checkins.copy()"
   ]
  },
  {
   "cell_type": "code",
   "execution_count": 29,
   "metadata": {
    "ExecuteTime": {
     "end_time": "2019-09-22T19:30:47.510607Z",
     "start_time": "2019-09-22T19:30:47.494371Z"
    }
   },
   "outputs": [
    {
     "data": {
      "text/html": [
       "<div>\n",
       "<style scoped>\n",
       "    .dataframe tbody tr th:only-of-type {\n",
       "        vertical-align: middle;\n",
       "    }\n",
       "\n",
       "    .dataframe tbody tr th {\n",
       "        vertical-align: top;\n",
       "    }\n",
       "\n",
       "    .dataframe thead th {\n",
       "        text-align: right;\n",
       "    }\n",
       "</style>\n",
       "<table border=\"1\" class=\"dataframe\">\n",
       "  <thead>\n",
       "    <tr style=\"text-align: right;\">\n",
       "      <th></th>\n",
       "      <th>business_id</th>\n",
       "      <th>date</th>\n",
       "    </tr>\n",
       "  </thead>\n",
       "  <tbody>\n",
       "    <tr>\n",
       "      <th>0</th>\n",
       "      <td>--1UhMGODdWsrMastO9DZw</td>\n",
       "      <td>2016-04-26 19:49:16, 2016-08-30 18:36:57, 2016...</td>\n",
       "    </tr>\n",
       "    <tr>\n",
       "      <th>1</th>\n",
       "      <td>--6MefnULPED_I942VcFNA</td>\n",
       "      <td>2011-06-04 18:22:23, 2011-07-23 23:51:33, 2012...</td>\n",
       "    </tr>\n",
       "    <tr>\n",
       "      <th>2</th>\n",
       "      <td>--7zmmkVg-IMGaXbuVd0SQ</td>\n",
       "      <td>2014-12-29 19:25:50, 2015-01-17 01:49:14, 2015...</td>\n",
       "    </tr>\n",
       "    <tr>\n",
       "      <th>3</th>\n",
       "      <td>--8LPVSo5i0Oo61X01sV9A</td>\n",
       "      <td>2016-07-08 16:43:30</td>\n",
       "    </tr>\n",
       "    <tr>\n",
       "      <th>4</th>\n",
       "      <td>--9QQLMTbFzLJ_oT-ON3Xw</td>\n",
       "      <td>2010-06-26 17:39:07, 2010-08-01 20:06:21, 2010...</td>\n",
       "    </tr>\n",
       "  </tbody>\n",
       "</table>\n",
       "</div>"
      ],
      "text/plain": [
       "              business_id                                               date\n",
       "0  --1UhMGODdWsrMastO9DZw  2016-04-26 19:49:16, 2016-08-30 18:36:57, 2016...\n",
       "1  --6MefnULPED_I942VcFNA  2011-06-04 18:22:23, 2011-07-23 23:51:33, 2012...\n",
       "2  --7zmmkVg-IMGaXbuVd0SQ  2014-12-29 19:25:50, 2015-01-17 01:49:14, 2015...\n",
       "3  --8LPVSo5i0Oo61X01sV9A                                2016-07-08 16:43:30\n",
       "4  --9QQLMTbFzLJ_oT-ON3Xw  2010-06-26 17:39:07, 2010-08-01 20:06:21, 2010..."
      ]
     },
     "execution_count": 29,
     "metadata": {},
     "output_type": "execute_result"
    }
   ],
   "source": [
    "# Check how the DataFrame looks like\n",
    "df_operatingyears[['business_id', 'date']].head()"
   ]
  },
  {
   "cell_type": "code",
   "execution_count": 30,
   "metadata": {
    "ExecuteTime": {
     "end_time": "2019-09-22T19:30:48.126842Z",
     "start_time": "2019-09-22T19:30:48.122390Z"
    }
   },
   "outputs": [],
   "source": [
    "# Find the first review year\n",
    "\n",
    "minyear = []\n",
    "\n",
    "def minyear_extract(x):\n",
    "    data = x.split(',')\n",
    "    data = [int(x.strip()[:4]) for x in data]\n",
    "    minyear.append(min(data))\n",
    "    return min(data)"
   ]
  },
  {
   "cell_type": "code",
   "execution_count": 31,
   "metadata": {
    "ExecuteTime": {
     "end_time": "2019-09-22T19:30:57.925906Z",
     "start_time": "2019-09-22T19:30:50.166487Z"
    },
    "scrolled": true
   },
   "outputs": [],
   "source": [
    "# Create a column that contains first review year information\n",
    "df_operatingyears['minyear'] = df_operatingyears.date.apply(minyear_extract)"
   ]
  },
  {
   "cell_type": "code",
   "execution_count": 32,
   "metadata": {
    "ExecuteTime": {
     "end_time": "2019-09-22T19:30:57.935313Z",
     "start_time": "2019-09-22T19:30:57.927921Z"
    }
   },
   "outputs": [],
   "source": [
    "# Find the latest review year\n",
    "\n",
    "maxyear = []\n",
    "\n",
    "def maxyear_extract(x):\n",
    "    data = x.split(',')\n",
    "    data = [int(x.strip()[:4]) for x in data]\n",
    "    maxyear.append(max(data))\n",
    "    return max(data)"
   ]
  },
  {
   "cell_type": "code",
   "execution_count": 33,
   "metadata": {
    "ExecuteTime": {
     "end_time": "2019-09-22T19:31:05.881913Z",
     "start_time": "2019-09-22T19:30:57.937392Z"
    }
   },
   "outputs": [],
   "source": [
    "# Create a column that contains latest review year information\n",
    "df_operatingyears['maxyear'] = df_operatingyears.date.apply(maxyear_extract)"
   ]
  },
  {
   "cell_type": "code",
   "execution_count": 34,
   "metadata": {
    "ExecuteTime": {
     "end_time": "2019-09-22T19:31:05.911973Z",
     "start_time": "2019-09-22T19:31:05.883805Z"
    }
   },
   "outputs": [],
   "source": [
    "# Estimate the operating years \n",
    "df_operatingyears['estimated_opearating_years'] = df_operatingyears['maxyear'] - df_operatingyears['minyear']"
   ]
  },
  {
   "cell_type": "code",
   "execution_count": null,
   "metadata": {
    "ExecuteTime": {
     "end_time": "2019-09-22T19:31:05.922865Z",
     "start_time": "2019-09-22T19:31:05.913897Z"
    }
   },
   "outputs": [],
   "source": [
    "# Put all data in a DataFrame\n",
    "restaurants_ver4 = df_operatingyears.merge(p_restaurants_ver3, on='business_id')"
   ]
  },
  {
   "cell_type": "code",
   "execution_count": null,
   "metadata": {
    "ExecuteTime": {
     "end_time": "2019-09-22T19:31:05.926443Z",
     "start_time": "2019-09-22T19:30:52.448Z"
    }
   },
   "outputs": [],
   "source": [
    "# Drop the date column since I don't need to use it again\n",
    "restaurants_ver4.drop(columns='date', inplace=True)"
   ]
  },
  {
   "cell_type": "markdown",
   "metadata": {},
   "source": [
    "## Create a column for total review count"
   ]
  },
  {
   "cell_type": "code",
   "execution_count": 8,
   "metadata": {
    "ExecuteTime": {
     "end_time": "2019-09-29T21:33:35.615941Z",
     "start_time": "2019-09-29T21:33:14.809311Z"
    }
   },
   "outputs": [
    {
     "data": {
      "text/html": [
       "<div>\n",
       "<style scoped>\n",
       "    .dataframe tbody tr th:only-of-type {\n",
       "        vertical-align: middle;\n",
       "    }\n",
       "\n",
       "    .dataframe tbody tr th {\n",
       "        vertical-align: top;\n",
       "    }\n",
       "\n",
       "    .dataframe thead th {\n",
       "        text-align: right;\n",
       "    }\n",
       "</style>\n",
       "<table border=\"1\" class=\"dataframe\">\n",
       "  <thead>\n",
       "    <tr style=\"text-align: right;\">\n",
       "      <th></th>\n",
       "      <th>business_id</th>\n",
       "      <th>cool</th>\n",
       "      <th>date</th>\n",
       "      <th>funny</th>\n",
       "      <th>review_id</th>\n",
       "      <th>stars</th>\n",
       "      <th>text</th>\n",
       "      <th>useful</th>\n",
       "      <th>user_id</th>\n",
       "    </tr>\n",
       "  </thead>\n",
       "  <tbody>\n",
       "    <tr>\n",
       "      <th>0</th>\n",
       "      <td>ujmEBvifdJM6h6RLv4wQIg</td>\n",
       "      <td>0</td>\n",
       "      <td>2013-05-07 04:34:36</td>\n",
       "      <td>1.0</td>\n",
       "      <td>Q1sbwvVQXV2734tPgoKj4Q</td>\n",
       "      <td>1.0</td>\n",
       "      <td>Total bill for this horrible service? Over $8G...</td>\n",
       "      <td>6.0</td>\n",
       "      <td>hG7b0MtEbXx5QzbzE6C_VA</td>\n",
       "    </tr>\n",
       "    <tr>\n",
       "      <th>1</th>\n",
       "      <td>NZnhc2sEQy3RmzKTZnqtwQ</td>\n",
       "      <td>0</td>\n",
       "      <td>2017-01-14 21:30:33</td>\n",
       "      <td>0.0</td>\n",
       "      <td>GJXCdrto3ASJOqKeVWPi6Q</td>\n",
       "      <td>5.0</td>\n",
       "      <td>I *adore* Travis at the Hard Rock's new Kelly ...</td>\n",
       "      <td>0.0</td>\n",
       "      <td>yXQM5uF2jS6es16SJzNHfg</td>\n",
       "    </tr>\n",
       "  </tbody>\n",
       "</table>\n",
       "</div>"
      ],
      "text/plain": [
       "              business_id  cool                 date  funny  \\\n",
       "0  ujmEBvifdJM6h6RLv4wQIg     0  2013-05-07 04:34:36    1.0   \n",
       "1  NZnhc2sEQy3RmzKTZnqtwQ     0  2017-01-14 21:30:33    0.0   \n",
       "\n",
       "                review_id  stars  \\\n",
       "0  Q1sbwvVQXV2734tPgoKj4Q    1.0   \n",
       "1  GJXCdrto3ASJOqKeVWPi6Q    5.0   \n",
       "\n",
       "                                                text  useful  \\\n",
       "0  Total bill for this horrible service? Over $8G...     6.0   \n",
       "1  I *adore* Travis at the Hard Rock's new Kelly ...     0.0   \n",
       "\n",
       "                  user_id  \n",
       "0  hG7b0MtEbXx5QzbzE6C_VA  \n",
       "1  yXQM5uF2jS6es16SJzNHfg  "
      ]
     },
     "execution_count": 8,
     "metadata": {},
     "output_type": "execute_result"
    }
   ],
   "source": [
    "# Load review data\n",
    "reviewdf = pd.read_pickle('/Users/mai/Desktop/yelp_dataset/to_submit/reviewdf.pickle')\n",
    "reviewdf.head(2)"
   ]
  },
  {
   "cell_type": "code",
   "execution_count": 9,
   "metadata": {
    "ExecuteTime": {
     "end_time": "2019-09-29T21:33:58.465498Z",
     "start_time": "2019-09-29T21:33:54.718977Z"
    }
   },
   "outputs": [],
   "source": [
    "# Group reviews by business_id\n",
    "total_reviews = pd.DataFrame(reviewdf.groupby('business_id').count()['review_id'])\n",
    "total_reviews = total_reviews.reset_index()"
   ]
  },
  {
   "cell_type": "code",
   "execution_count": null,
   "metadata": {
    "ExecuteTime": {
     "end_time": "2019-09-29T21:33:58.721586Z",
     "start_time": "2019-09-29T21:33:58.470979Z"
    }
   },
   "outputs": [],
   "source": [
    "# Put all data in a DataFrame\n",
    "restaurants_ver5 = total_reviews.merge(restaurants_ver4, on='business_id')"
   ]
  },
  {
   "cell_type": "markdown",
   "metadata": {},
   "source": [
    "# Create predictor variables"
   ]
  },
  {
   "cell_type": "code",
   "execution_count": null,
   "metadata": {
    "ExecuteTime": {
     "end_time": "2019-09-22T19:31:05.932377Z",
     "start_time": "2019-09-22T19:30:59.447Z"
    }
   },
   "outputs": [],
   "source": [
    "# Create categories per business type\n",
    "# Businesses that is active and run for 3+ years: Successful\n",
    "# Businesses that is active but run for less than 3 years: Active for less than three years\n",
    "# Busienss that is closed: Failed\n",
    "predictions = []\n",
    "\n",
    "for o in range(len(restaurants_ver5)):\n",
    "    if (restaurants_ver5['estimated_opearating_years'][o] >= 3) & (restaurants_ver5['business_status'][o] == 1):\n",
    "        predictions.append('successful')\n",
    "    elif (restaurants_ver5['estimated_opearating_years'][o] < 3) & (restaurants_ver5['business_status'][o] == 1):\n",
    "        predictions.append('active for less than three years')\n",
    "    else:\n",
    "        predictions.append('failed')"
   ]
  },
  {
   "cell_type": "code",
   "execution_count": null,
   "metadata": {
    "ExecuteTime": {
     "end_time": "2019-09-22T19:31:05.933357Z",
     "start_time": "2019-09-22T19:30:59.715Z"
    }
   },
   "outputs": [],
   "source": [
    "# Create a new column\n",
    "restaurants_ver5['prediction_col'] = predictions"
   ]
  },
  {
   "cell_type": "code",
   "execution_count": null,
   "metadata": {
    "ExecuteTime": {
     "end_time": "2019-09-22T19:31:05.935247Z",
     "start_time": "2019-09-22T19:31:00.399Z"
    }
   },
   "outputs": [],
   "source": [
    "# Check the distribution\n",
    "total = len(restaurants_ver5['prediction_col'])\n",
    "successful_count = len(restaurants_ver5[restaurants_ver5['prediction_col'] == 'successful'])\n",
    "active_count = len(restaurants_ver5[restaurants_ver5['prediction_col'] == 'active for less than three years'])\n",
    "failed_count = len(restaurants_ver5[restaurants_ver5['prediction_col'] == 'failed'])"
   ]
  },
  {
   "cell_type": "code",
   "execution_count": null,
   "metadata": {
    "ExecuteTime": {
     "end_time": "2019-09-22T19:31:05.940749Z",
     "start_time": "2019-09-22T19:31:01.299Z"
    }
   },
   "outputs": [],
   "source": [
    "# Remove data that are not necessary for this capstone\n",
    "# This capstone predicts 'successful' or 'failed', thus other information need to be removed\n",
    "restaurants_clean = restaurants_ver5[restaurants_ver5['prediction_col'] != 'active for less than three years']"
   ]
  },
  {
   "cell_type": "code",
   "execution_count": null,
   "metadata": {
    "ExecuteTime": {
     "end_time": "2019-09-22T19:37:18.645851Z",
     "start_time": "2019-09-22T19:37:18.635902Z"
    }
   },
   "outputs": [],
   "source": [
    "# Pickle results to avoid running all cells \n",
    "restaurants_clean.to_pickle('restaurants_clean.pickle')"
   ]
  },
  {
   "cell_type": "code",
   "execution_count": 46,
   "metadata": {
    "ExecuteTime": {
     "end_time": "2019-09-22T19:37:45.435211Z",
     "start_time": "2019-09-22T19:37:45.331023Z"
    }
   },
   "outputs": [
    {
     "data": {
      "text/html": [
       "<div>\n",
       "<style scoped>\n",
       "    .dataframe tbody tr th:only-of-type {\n",
       "        vertical-align: middle;\n",
       "    }\n",
       "\n",
       "    .dataframe tbody tr th {\n",
       "        vertical-align: top;\n",
       "    }\n",
       "\n",
       "    .dataframe thead th {\n",
       "        text-align: right;\n",
       "    }\n",
       "</style>\n",
       "<table border=\"1\" class=\"dataframe\">\n",
       "  <thead>\n",
       "    <tr style=\"text-align: right;\">\n",
       "      <th></th>\n",
       "      <th>business_id</th>\n",
       "      <th>review_id</th>\n",
       "      <th>minyear</th>\n",
       "      <th>maxyear</th>\n",
       "      <th>estimated_opearating_years</th>\n",
       "      <th>total_checkins</th>\n",
       "      <th>total_checkinyear_count</th>\n",
       "      <th>city</th>\n",
       "      <th>business_status</th>\n",
       "      <th>latitude</th>\n",
       "      <th>...</th>\n",
       "      <th>food_type_Seafood</th>\n",
       "      <th>food_type_Soup</th>\n",
       "      <th>food_type_Steakhouses</th>\n",
       "      <th>food_type_Sushi Bars</th>\n",
       "      <th>food_type_Tacos</th>\n",
       "      <th>food_type_Tapas Bars</th>\n",
       "      <th>food_type_Uzbek</th>\n",
       "      <th>food_type_Waffles</th>\n",
       "      <th>food_type_Wraps</th>\n",
       "      <th>predictor_col</th>\n",
       "    </tr>\n",
       "  </thead>\n",
       "  <tbody>\n",
       "    <tr>\n",
       "      <th>1</th>\n",
       "      <td>--6MefnULPED_I942VcFNA</td>\n",
       "      <td>46</td>\n",
       "      <td>2011</td>\n",
       "      <td>2018</td>\n",
       "      <td>7</td>\n",
       "      <td>167</td>\n",
       "      <td>8</td>\n",
       "      <td>Richmond Hill</td>\n",
       "      <td>1</td>\n",
       "      <td>43.841694</td>\n",
       "      <td>...</td>\n",
       "      <td>0</td>\n",
       "      <td>0</td>\n",
       "      <td>0</td>\n",
       "      <td>0</td>\n",
       "      <td>0</td>\n",
       "      <td>0</td>\n",
       "      <td>0</td>\n",
       "      <td>0</td>\n",
       "      <td>0</td>\n",
       "      <td>successful</td>\n",
       "    </tr>\n",
       "    <tr>\n",
       "      <th>2</th>\n",
       "      <td>--7zmmkVg-IMGaXbuVd0SQ</td>\n",
       "      <td>59</td>\n",
       "      <td>2014</td>\n",
       "      <td>2018</td>\n",
       "      <td>4</td>\n",
       "      <td>180</td>\n",
       "      <td>5</td>\n",
       "      <td>Huntersville</td>\n",
       "      <td>1</td>\n",
       "      <td>35.437106</td>\n",
       "      <td>...</td>\n",
       "      <td>0</td>\n",
       "      <td>0</td>\n",
       "      <td>0</td>\n",
       "      <td>0</td>\n",
       "      <td>0</td>\n",
       "      <td>0</td>\n",
       "      <td>0</td>\n",
       "      <td>0</td>\n",
       "      <td>0</td>\n",
       "      <td>successful</td>\n",
       "    </tr>\n",
       "    <tr>\n",
       "      <th>3</th>\n",
       "      <td>--9e1ONYQuAa-CB_Rrw7Tw</td>\n",
       "      <td>1661</td>\n",
       "      <td>2010</td>\n",
       "      <td>2018</td>\n",
       "      <td>8</td>\n",
       "      <td>2770</td>\n",
       "      <td>9</td>\n",
       "      <td>Las Vegas</td>\n",
       "      <td>1</td>\n",
       "      <td>36.123183</td>\n",
       "      <td>...</td>\n",
       "      <td>0</td>\n",
       "      <td>0</td>\n",
       "      <td>1</td>\n",
       "      <td>0</td>\n",
       "      <td>0</td>\n",
       "      <td>0</td>\n",
       "      <td>0</td>\n",
       "      <td>0</td>\n",
       "      <td>0</td>\n",
       "      <td>successful</td>\n",
       "    </tr>\n",
       "    <tr>\n",
       "      <th>4</th>\n",
       "      <td>--DaPTJW3-tB1vP-PfdTEg</td>\n",
       "      <td>49</td>\n",
       "      <td>2012</td>\n",
       "      <td>2018</td>\n",
       "      <td>6</td>\n",
       "      <td>95</td>\n",
       "      <td>7</td>\n",
       "      <td>Toronto</td>\n",
       "      <td>1</td>\n",
       "      <td>43.677807</td>\n",
       "      <td>...</td>\n",
       "      <td>0</td>\n",
       "      <td>0</td>\n",
       "      <td>0</td>\n",
       "      <td>0</td>\n",
       "      <td>0</td>\n",
       "      <td>0</td>\n",
       "      <td>0</td>\n",
       "      <td>0</td>\n",
       "      <td>0</td>\n",
       "      <td>successful</td>\n",
       "    </tr>\n",
       "    <tr>\n",
       "      <th>5</th>\n",
       "      <td>--FBCX-N37CMYDfs790Bnw</td>\n",
       "      <td>142</td>\n",
       "      <td>2010</td>\n",
       "      <td>2018</td>\n",
       "      <td>8</td>\n",
       "      <td>528</td>\n",
       "      <td>9</td>\n",
       "      <td>Henderson</td>\n",
       "      <td>1</td>\n",
       "      <td>35.978679</td>\n",
       "      <td>...</td>\n",
       "      <td>0</td>\n",
       "      <td>0</td>\n",
       "      <td>0</td>\n",
       "      <td>0</td>\n",
       "      <td>0</td>\n",
       "      <td>0</td>\n",
       "      <td>0</td>\n",
       "      <td>0</td>\n",
       "      <td>0</td>\n",
       "      <td>successful</td>\n",
       "    </tr>\n",
       "  </tbody>\n",
       "</table>\n",
       "<p>5 rows × 201 columns</p>\n",
       "</div>"
      ],
      "text/plain": [
       "              business_id  review_id  minyear  maxyear  \\\n",
       "1  --6MefnULPED_I942VcFNA         46     2011     2018   \n",
       "2  --7zmmkVg-IMGaXbuVd0SQ         59     2014     2018   \n",
       "3  --9e1ONYQuAa-CB_Rrw7Tw       1661     2010     2018   \n",
       "4  --DaPTJW3-tB1vP-PfdTEg         49     2012     2018   \n",
       "5  --FBCX-N37CMYDfs790Bnw        142     2010     2018   \n",
       "\n",
       "   estimated_opearating_years  total_checkins  total_checkinyear_count  \\\n",
       "1                           7             167                        8   \n",
       "2                           4             180                        5   \n",
       "3                           8            2770                        9   \n",
       "4                           6              95                        7   \n",
       "5                           8             528                        9   \n",
       "\n",
       "            city  business_status   latitude  ...  food_type_Seafood  \\\n",
       "1  Richmond Hill                1  43.841694  ...                  0   \n",
       "2   Huntersville                1  35.437106  ...                  0   \n",
       "3      Las Vegas                1  36.123183  ...                  0   \n",
       "4        Toronto                1  43.677807  ...                  0   \n",
       "5      Henderson                1  35.978679  ...                  0   \n",
       "\n",
       "  food_type_Soup  food_type_Steakhouses  food_type_Sushi Bars food_type_Tacos  \\\n",
       "1              0                      0                     0               0   \n",
       "2              0                      0                     0               0   \n",
       "3              0                      1                     0               0   \n",
       "4              0                      0                     0               0   \n",
       "5              0                      0                     0               0   \n",
       "\n",
       "   food_type_Tapas Bars  food_type_Uzbek  food_type_Waffles  food_type_Wraps  \\\n",
       "1                     0                0                  0                0   \n",
       "2                     0                0                  0                0   \n",
       "3                     0                0                  0                0   \n",
       "4                     0                0                  0                0   \n",
       "5                     0                0                  0                0   \n",
       "\n",
       "   predictor_col  \n",
       "1     successful  \n",
       "2     successful  \n",
       "3     successful  \n",
       "4     successful  \n",
       "5     successful  \n",
       "\n",
       "[5 rows x 201 columns]"
      ]
     },
     "execution_count": 46,
     "metadata": {},
     "output_type": "execute_result"
    }
   ],
   "source": [
    "# Load data\n",
    "p_restaurants_clean = pd.read_pickle('/Users/mai/Desktop/yelp_dataset/to_submit/restaurants_clean.pickle')\n",
    "p_restaurants_clean.head()"
   ]
  }
 ],
 "metadata": {
  "kernelspec": {
   "display_name": "Python 3",
   "language": "python",
   "name": "python3"
  },
  "language_info": {
   "codemirror_mode": {
    "name": "ipython",
    "version": 3
   },
   "file_extension": ".py",
   "mimetype": "text/x-python",
   "name": "python",
   "nbconvert_exporter": "python",
   "pygments_lexer": "ipython3",
   "version": "3.7.3"
  },
  "toc": {
   "base_numbering": 1,
   "nav_menu": {},
   "number_sections": true,
   "sideBar": true,
   "skip_h1_title": false,
   "title_cell": "Table of Contents",
   "title_sidebar": "Contents",
   "toc_cell": false,
   "toc_position": {
    "height": "calc(100% - 180px)",
    "left": "10px",
    "top": "150px",
    "width": "165px"
   },
   "toc_section_display": true,
   "toc_window_display": true
  }
 },
 "nbformat": 4,
 "nbformat_minor": 2
}

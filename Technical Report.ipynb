{
 "cells": [
  {
   "cell_type": "code",
   "execution_count": null,
   "metadata": {},
   "outputs": [],
   "source": [
    "# Index\n",
    "- Overview\n",
    "- Motivation\n",
    "- Problem Statement\n",
    "- Objectives\n",
    "- Literature Review\n",
    "- Hypotheses\n",
    "- Research Questions\n",
    "Research Steps\n",
    "Dataset\n",
    "Data Cleaning and Feature Engineering\n",
    "Exploratory Data Analysis\n",
    "Model Selection\n",
    "Evaluation methods\n",
    "Findings\n",
    "    - Summary\n",
    "    - Question 1\n",
    "    - Question 2\n",
    "    - Question 3\n",
    "Conclusions\n",
    "Limitation\n",
    "Future recommendation\n",
    "Files in this repository \n",
    "    - Technical Reports\n",
    "    - Presentation slides for non-technical audience\n",
    "    - Technical report \n",
    "    - Github\n",
    "    - PDF\n",
    "    - Data dictionary\n",
    "    - Jupyter Notebook files (.ipynb)\n",
    "        - Step 1\n",
    "        - Step 2\n",
    "        - Step 3\n",
    "        - Step 4\n",
    "            - Question 1\n",
    "            - Question 2\n",
    "            - Question 3"
   ]
  }
 ],
 "metadata": {
  "kernelspec": {
   "display_name": "Python 3",
   "language": "python",
   "name": "python3"
  },
  "language_info": {
   "codemirror_mode": {
    "name": "ipython",
    "version": 3
   },
   "file_extension": ".py",
   "mimetype": "text/x-python",
   "name": "python",
   "nbconvert_exporter": "python",
   "pygments_lexer": "ipython3",
   "version": "3.7.3"
  },
  "toc": {
   "base_numbering": 1,
   "nav_menu": {},
   "number_sections": true,
   "sideBar": true,
   "skip_h1_title": false,
   "title_cell": "Table of Contents",
   "title_sidebar": "Contents",
   "toc_cell": false,
   "toc_position": {},
   "toc_section_display": true,
   "toc_window_display": false
  }
 },
 "nbformat": 4,
 "nbformat_minor": 2
}

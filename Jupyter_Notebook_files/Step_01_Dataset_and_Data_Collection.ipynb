{
 "cells": [
  {
   "cell_type": "markdown",
   "metadata": {
    "ExecuteTime": {
     "end_time": "2019-09-30T15:21:16.252031Z",
     "start_time": "2019-09-30T15:21:16.249769Z"
    }
   },
   "source": [
    "# Download data"
   ]
  },
  {
   "cell_type": "markdown",
   "metadata": {},
   "source": [
    "For my captone project, I downloaded the dataset from Yelp (https://www.yelp.com/dataset) in August 2019. The datasets were prepared by Yelp in JSON format to let students use their data for their projects (https://www.yelp.com/dataset/challenge). The dataset is stored in 5 files of JSON format. Each file was composed of a single object type - one-JSON-object per line."
   ]
  },
  {
   "cell_type": "markdown",
   "metadata": {},
   "source": [
    "# About files"
   ]
  },
  {
   "cell_type": "markdown",
   "metadata": {},
   "source": [
    "I loaded and transformed Yelp data challenge datasets into Pandas DataFrames:\n",
    "- **Users** include user information from registered users on Yelp. It contains reviews per user, number of useful reviews they posted, type of reviews, etc.\n",
    "- **Review** include reviews submitted by customers about the business\n",
    "- **Checkin** include check-in times of customers at given business store\n",
    "- **Tip** include tips per business id\n",
    "- **Business** contain attributes of business listed on Yelp such as categories (e.g. good for lunch), city info, hours, location and Yelp stars. These columns are consistent with Yelp.com. "
   ]
  },
  {
   "cell_type": "markdown",
   "metadata": {},
   "source": [
    "# Import packages"
   ]
  },
  {
   "cell_type": "code",
   "execution_count": 2,
   "metadata": {
    "ExecuteTime": {
     "end_time": "2019-09-30T16:04:51.849490Z",
     "start_time": "2019-09-30T16:04:49.344826Z"
    }
   },
   "outputs": [],
   "source": [
    "import json\n",
    "import warnings\n",
    "warnings.filterwarnings('ignore')\n",
    "from copy import deepcopy\n",
    "import pickle\n",
    "import pandas as pd\n",
    "import numpy as np\n",
    "from sklearn.feature_extraction import DictVectorizer"
   ]
  },
  {
   "cell_type": "markdown",
   "metadata": {
    "ExecuteTime": {
     "end_time": "2019-09-21T21:07:06.805324Z",
     "start_time": "2019-09-21T21:07:06.791806Z"
    }
   },
   "source": [
    "# Turn business.json to a Pandas Dataframe"
   ]
  },
  {
   "cell_type": "code",
   "execution_count": 3,
   "metadata": {
    "ExecuteTime": {
     "end_time": "2019-09-30T16:04:52.812199Z",
     "start_time": "2019-09-30T16:04:52.809056Z"
    }
   },
   "outputs": [],
   "source": [
    "file = '/Users/mai/Desktop/yelp_dataset/yelp_business.json'"
   ]
  },
  {
   "cell_type": "code",
   "execution_count": 4,
   "metadata": {
    "ExecuteTime": {
     "end_time": "2019-09-30T16:04:57.104767Z",
     "start_time": "2019-09-30T16:04:53.595900Z"
    }
   },
   "outputs": [],
   "source": [
    "# Decode JSON\n",
    "with open(file) as f:\n",
    "    data = [json.loads(line) for line in f]\n",
    "df = pd.DataFrame(data)"
   ]
  },
  {
   "cell_type": "code",
   "execution_count": 4,
   "metadata": {
    "ExecuteTime": {
     "end_time": "2019-09-22T15:51:32.834240Z",
     "start_time": "2019-09-22T15:51:32.802691Z"
    }
   },
   "outputs": [
    {
     "data": {
      "text/html": [
       "<div>\n",
       "<style scoped>\n",
       "    .dataframe tbody tr th:only-of-type {\n",
       "        vertical-align: middle;\n",
       "    }\n",
       "\n",
       "    .dataframe tbody tr th {\n",
       "        vertical-align: top;\n",
       "    }\n",
       "\n",
       "    .dataframe thead th {\n",
       "        text-align: right;\n",
       "    }\n",
       "</style>\n",
       "<table border=\"1\" class=\"dataframe\">\n",
       "  <thead>\n",
       "    <tr style=\"text-align: right;\">\n",
       "      <th></th>\n",
       "      <th>address</th>\n",
       "      <th>attributes</th>\n",
       "      <th>business_id</th>\n",
       "      <th>categories</th>\n",
       "      <th>city</th>\n",
       "      <th>hours</th>\n",
       "      <th>is_open</th>\n",
       "      <th>latitude</th>\n",
       "      <th>longitude</th>\n",
       "      <th>name</th>\n",
       "      <th>postal_code</th>\n",
       "      <th>review_count</th>\n",
       "      <th>stars</th>\n",
       "      <th>state</th>\n",
       "    </tr>\n",
       "  </thead>\n",
       "  <tbody>\n",
       "    <tr>\n",
       "      <th>0</th>\n",
       "      <td>30 Eglinton Avenue W</td>\n",
       "      <td>{'RestaurantsReservations': 'True', 'GoodForMe...</td>\n",
       "      <td>QXAEGFB4oINsVuTFxEYKFQ</td>\n",
       "      <td>Specialty Food, Restaurants, Dim Sum, Imported...</td>\n",
       "      <td>Mississauga</td>\n",
       "      <td>{'Monday': '9:0-0:0', 'Tuesday': '9:0-0:0', 'W...</td>\n",
       "      <td>1</td>\n",
       "      <td>43.605499</td>\n",
       "      <td>-79.652289</td>\n",
       "      <td>Emerald Chinese Restaurant</td>\n",
       "      <td>L5R 3E7</td>\n",
       "      <td>128</td>\n",
       "      <td>2.5</td>\n",
       "      <td>ON</td>\n",
       "    </tr>\n",
       "    <tr>\n",
       "      <th>1</th>\n",
       "      <td>10110 Johnston Rd, Ste 15</td>\n",
       "      <td>{'GoodForKids': 'True', 'NoiseLevel': 'u'avera...</td>\n",
       "      <td>gnKjwL_1w79qoiV3IC_xQQ</td>\n",
       "      <td>Sushi Bars, Restaurants, Japanese</td>\n",
       "      <td>Charlotte</td>\n",
       "      <td>{'Monday': '17:30-21:30', 'Wednesday': '17:30-...</td>\n",
       "      <td>1</td>\n",
       "      <td>35.092564</td>\n",
       "      <td>-80.859132</td>\n",
       "      <td>Musashi Japanese Restaurant</td>\n",
       "      <td>28210</td>\n",
       "      <td>170</td>\n",
       "      <td>4.0</td>\n",
       "      <td>NC</td>\n",
       "    </tr>\n",
       "    <tr>\n",
       "      <th>2</th>\n",
       "      <td>15655 W Roosevelt St, Ste 237</td>\n",
       "      <td>None</td>\n",
       "      <td>xvX2CttrVhyG2z1dFg_0xw</td>\n",
       "      <td>Insurance, Financial Services</td>\n",
       "      <td>Goodyear</td>\n",
       "      <td>{'Monday': '8:0-17:0', 'Tuesday': '8:0-17:0', ...</td>\n",
       "      <td>1</td>\n",
       "      <td>33.455613</td>\n",
       "      <td>-112.395596</td>\n",
       "      <td>Farmers Insurance - Paul Lorenz</td>\n",
       "      <td>85338</td>\n",
       "      <td>3</td>\n",
       "      <td>5.0</td>\n",
       "      <td>AZ</td>\n",
       "    </tr>\n",
       "    <tr>\n",
       "      <th>3</th>\n",
       "      <td>4209 Stuart Andrew Blvd, Ste F</td>\n",
       "      <td>{'BusinessAcceptsBitcoin': 'False', 'ByAppoint...</td>\n",
       "      <td>HhyxOkGAM07SRYtlQ4wMFQ</td>\n",
       "      <td>Plumbing, Shopping, Local Services, Home Servi...</td>\n",
       "      <td>Charlotte</td>\n",
       "      <td>{'Monday': '7:0-23:0', 'Tuesday': '7:0-23:0', ...</td>\n",
       "      <td>1</td>\n",
       "      <td>35.190012</td>\n",
       "      <td>-80.887223</td>\n",
       "      <td>Queen City Plumbing</td>\n",
       "      <td>28217</td>\n",
       "      <td>4</td>\n",
       "      <td>4.0</td>\n",
       "      <td>NC</td>\n",
       "    </tr>\n",
       "    <tr>\n",
       "      <th>4</th>\n",
       "      <td>Credit Valley Town Plaza, F2 - 6045 Creditview Rd</td>\n",
       "      <td>{'BusinessParking': '{'garage': False, 'street...</td>\n",
       "      <td>68dUKd8_8liJ7in4aWOSEA</td>\n",
       "      <td>Shipping Centers, Couriers &amp; Delivery Services...</td>\n",
       "      <td>Mississauga</td>\n",
       "      <td>{'Monday': '9:0-19:0', 'Tuesday': '9:0-20:0', ...</td>\n",
       "      <td>1</td>\n",
       "      <td>43.599475</td>\n",
       "      <td>-79.711584</td>\n",
       "      <td>The UPS Store</td>\n",
       "      <td>L5V 0B1</td>\n",
       "      <td>3</td>\n",
       "      <td>2.5</td>\n",
       "      <td>ON</td>\n",
       "    </tr>\n",
       "  </tbody>\n",
       "</table>\n",
       "</div>"
      ],
      "text/plain": [
       "                                             address  \\\n",
       "0                               30 Eglinton Avenue W   \n",
       "1                          10110 Johnston Rd, Ste 15   \n",
       "2                      15655 W Roosevelt St, Ste 237   \n",
       "3                     4209 Stuart Andrew Blvd, Ste F   \n",
       "4  Credit Valley Town Plaza, F2 - 6045 Creditview Rd   \n",
       "\n",
       "                                          attributes             business_id  \\\n",
       "0  {'RestaurantsReservations': 'True', 'GoodForMe...  QXAEGFB4oINsVuTFxEYKFQ   \n",
       "1  {'GoodForKids': 'True', 'NoiseLevel': 'u'avera...  gnKjwL_1w79qoiV3IC_xQQ   \n",
       "2                                               None  xvX2CttrVhyG2z1dFg_0xw   \n",
       "3  {'BusinessAcceptsBitcoin': 'False', 'ByAppoint...  HhyxOkGAM07SRYtlQ4wMFQ   \n",
       "4  {'BusinessParking': '{'garage': False, 'street...  68dUKd8_8liJ7in4aWOSEA   \n",
       "\n",
       "                                          categories         city  \\\n",
       "0  Specialty Food, Restaurants, Dim Sum, Imported...  Mississauga   \n",
       "1                  Sushi Bars, Restaurants, Japanese    Charlotte   \n",
       "2                      Insurance, Financial Services     Goodyear   \n",
       "3  Plumbing, Shopping, Local Services, Home Servi...    Charlotte   \n",
       "4  Shipping Centers, Couriers & Delivery Services...  Mississauga   \n",
       "\n",
       "                                               hours  is_open   latitude  \\\n",
       "0  {'Monday': '9:0-0:0', 'Tuesday': '9:0-0:0', 'W...        1  43.605499   \n",
       "1  {'Monday': '17:30-21:30', 'Wednesday': '17:30-...        1  35.092564   \n",
       "2  {'Monday': '8:0-17:0', 'Tuesday': '8:0-17:0', ...        1  33.455613   \n",
       "3  {'Monday': '7:0-23:0', 'Tuesday': '7:0-23:0', ...        1  35.190012   \n",
       "4  {'Monday': '9:0-19:0', 'Tuesday': '9:0-20:0', ...        1  43.599475   \n",
       "\n",
       "    longitude                             name postal_code  review_count  \\\n",
       "0  -79.652289       Emerald Chinese Restaurant     L5R 3E7           128   \n",
       "1  -80.859132      Musashi Japanese Restaurant       28210           170   \n",
       "2 -112.395596  Farmers Insurance - Paul Lorenz       85338             3   \n",
       "3  -80.887223              Queen City Plumbing       28217             4   \n",
       "4  -79.711584                    The UPS Store     L5V 0B1             3   \n",
       "\n",
       "   stars state  \n",
       "0    2.5    ON  \n",
       "1    4.0    NC  \n",
       "2    5.0    AZ  \n",
       "3    4.0    NC  \n",
       "4    2.5    ON  "
      ]
     },
     "execution_count": 4,
     "metadata": {},
     "output_type": "execute_result"
    }
   ],
   "source": [
    "# Check how the dataframe looks like\n",
    "df.head()"
   ]
  },
  {
   "cell_type": "code",
   "execution_count": 5,
   "metadata": {
    "ExecuteTime": {
     "end_time": "2019-09-30T16:05:00.905064Z",
     "start_time": "2019-09-30T16:05:00.844692Z"
    }
   },
   "outputs": [],
   "source": [
    "# Drop unnecessary columns for this project\n",
    "df.drop(columns=['address', 'hours', 'postal_code'], inplace=True)"
   ]
  },
  {
   "cell_type": "code",
   "execution_count": 6,
   "metadata": {
    "ExecuteTime": {
     "end_time": "2019-09-30T16:05:01.532155Z",
     "start_time": "2019-09-30T16:05:01.514242Z"
    }
   },
   "outputs": [
    {
     "data": {
      "text/plain": [
       "{'RestaurantsReservations': 'True',\n",
       " 'GoodForMeal': \"{'dessert': False, 'latenight': False, 'lunch': True, 'dinner': True, 'brunch': False, 'breakfast': False}\",\n",
       " 'BusinessParking': \"{'garage': False, 'street': False, 'validated': False, 'lot': True, 'valet': False}\",\n",
       " 'Caters': 'True',\n",
       " 'NoiseLevel': \"u'loud'\",\n",
       " 'RestaurantsTableService': 'True',\n",
       " 'RestaurantsTakeOut': 'True',\n",
       " 'RestaurantsPriceRange2': '2',\n",
       " 'OutdoorSeating': 'False',\n",
       " 'BikeParking': 'False',\n",
       " 'Ambience': \"{'romantic': False, 'intimate': False, 'classy': False, 'hipster': False, 'divey': False, 'touristy': False, 'trendy': False, 'upscale': False, 'casual': True}\",\n",
       " 'HasTV': 'False',\n",
       " 'WiFi': \"u'no'\",\n",
       " 'GoodForKids': 'True',\n",
       " 'Alcohol': \"u'full_bar'\",\n",
       " 'RestaurantsAttire': \"u'casual'\",\n",
       " 'RestaurantsGoodForGroups': 'True',\n",
       " 'RestaurantsDelivery': 'False'}"
      ]
     },
     "execution_count": 6,
     "metadata": {},
     "output_type": "execute_result"
    }
   ],
   "source": [
    "# Check how the nested dictionary in 'attributes' column looks like\n",
    "# Check the first item\n",
    "df['attributes'][0]"
   ]
  },
  {
   "cell_type": "code",
   "execution_count": 7,
   "metadata": {
    "ExecuteTime": {
     "end_time": "2019-09-22T15:51:32.888888Z",
     "start_time": "2019-09-22T15:51:32.882414Z"
    }
   },
   "outputs": [
    {
     "data": {
      "text/plain": [
       "\"{'dessert': False, 'latenight': False, 'lunch': True, 'dinner': True, 'brunch': False, 'breakfast': False}\""
      ]
     },
     "execution_count": 7,
     "metadata": {},
     "output_type": "execute_result"
    }
   ],
   "source": [
    "# Check the inside of nested dictionary - GoodForMeal\n",
    "df['attributes'][0]['GoodForMeal']"
   ]
  },
  {
   "cell_type": "code",
   "execution_count": 8,
   "metadata": {
    "ExecuteTime": {
     "end_time": "2019-09-22T15:51:32.908288Z",
     "start_time": "2019-09-22T15:51:32.894542Z"
    }
   },
   "outputs": [
    {
     "data": {
      "text/plain": [
       "\"{'garage': False, 'street': False, 'validated': False, 'lot': True, 'valet': False}\""
      ]
     },
     "execution_count": 8,
     "metadata": {},
     "output_type": "execute_result"
    }
   ],
   "source": [
    "# Check the inside of nested dictionary - BusinessParking\n",
    "df['attributes'][0]['BusinessParking']"
   ]
  },
  {
   "cell_type": "code",
   "execution_count": 9,
   "metadata": {
    "ExecuteTime": {
     "end_time": "2019-09-22T15:51:32.919968Z",
     "start_time": "2019-09-22T15:51:32.911402Z"
    }
   },
   "outputs": [
    {
     "name": "stdout",
     "output_type": "stream",
     "text": [
      "Example #1 {'BusinessParking': \"{'garage': False, 'street': False, 'validated': False, 'lot': False, 'valet': False}\", 'RestaurantsPriceRange2': '2'}\n",
      "----------\n",
      "Example #2 {'RestaurantsPriceRange2': '2', 'RestaurantsAttire': \"u'casual'\", 'GoodForMeal': \"{'dessert': False, 'latenight': True, 'lunch': True, 'dinner': True, 'brunch': False, 'breakfast': False}\", 'RestaurantsGoodForGroups': 'True', 'GoodForKids': 'True', 'RestaurantsReservations': 'False', 'Alcohol': \"'beer_and_wine'\", 'BusinessParking': \"{'garage': False, 'street': True, 'validated': False, 'lot': False, 'valet': False}\", 'Caters': 'False', 'NoiseLevel': \"u'loud'\", 'HasTV': 'True', 'BikeParking': 'True', 'RestaurantsDelivery': 'False', 'WiFi': \"u'no'\", 'Ambience': \"{'romantic': False, 'intimate': False, 'classy': False, 'hipster': False, 'divey': False, 'touristy': False, 'trendy': False, 'upscale': False, 'casual': True}\", 'OutdoorSeating': 'False', 'RestaurantsTakeOut': 'True'}\n"
     ]
    }
   ],
   "source": [
    "# Compare the df['attributes'][1] with others\n",
    "# Each business_id contains different information in the attributes column\n",
    "print('Example #1', df['attributes'][4])\n",
    "print('----------')\n",
    "print('Example #2', df['attributes'][1000])"
   ]
  },
  {
   "cell_type": "markdown",
   "metadata": {},
   "source": [
    "#  Expand the attributes and category columns by using DictVectorizer()"
   ]
  },
  {
   "cell_type": "markdown",
   "metadata": {},
   "source": [
    "Since each business contains different amount of attribute information in the 'attribute' column, I decided to expand the columns by using  DictVectorizer(). However, the following columns needs to be manually expanded due to the dictionary type for these keys: Ambience, Business Parking, Good For Meal. I set DictVectorizer() for each keys to avoid memory errors and overwriting information. I also made the data to a list since .fit() and .transform() which only accepts a lit of dictionaries."
   ]
  },
  {
   "cell_type": "code",
   "execution_count": 7,
   "metadata": {
    "ExecuteTime": {
     "end_time": "2019-09-30T16:05:06.430659Z",
     "start_time": "2019-09-30T16:05:06.390380Z"
    }
   },
   "outputs": [],
   "source": [
    "# Remove empty cells in 'attributes' column in df\n",
    "my_dict = df[['attributes']].dropna()"
   ]
  },
  {
   "cell_type": "code",
   "execution_count": 8,
   "metadata": {
    "ExecuteTime": {
     "end_time": "2019-09-30T16:05:07.192600Z",
     "start_time": "2019-09-30T16:05:06.972252Z"
    }
   },
   "outputs": [],
   "source": [
    "# Remove empty cells in my_dict\n",
    "my_dict.dropna(inplace=True)"
   ]
  },
  {
   "cell_type": "code",
   "execution_count": 9,
   "metadata": {
    "ExecuteTime": {
     "end_time": "2019-09-30T16:05:07.558498Z",
     "start_time": "2019-09-30T16:05:07.544736Z"
    }
   },
   "outputs": [
    {
     "name": "stdout",
     "output_type": "stream",
     "text": [
      "(163772, 1)\n"
     ]
    },
    {
     "data": {
      "text/html": [
       "<div>\n",
       "<style scoped>\n",
       "    .dataframe tbody tr th:only-of-type {\n",
       "        vertical-align: middle;\n",
       "    }\n",
       "\n",
       "    .dataframe tbody tr th {\n",
       "        vertical-align: top;\n",
       "    }\n",
       "\n",
       "    .dataframe thead th {\n",
       "        text-align: right;\n",
       "    }\n",
       "</style>\n",
       "<table border=\"1\" class=\"dataframe\">\n",
       "  <thead>\n",
       "    <tr style=\"text-align: right;\">\n",
       "      <th></th>\n",
       "      <th>attributes</th>\n",
       "    </tr>\n",
       "  </thead>\n",
       "  <tbody>\n",
       "    <tr>\n",
       "      <th>0</th>\n",
       "      <td>{'RestaurantsReservations': 'True', 'GoodForMe...</td>\n",
       "    </tr>\n",
       "    <tr>\n",
       "      <th>1</th>\n",
       "      <td>{'GoodForKids': 'True', 'NoiseLevel': 'u'avera...</td>\n",
       "    </tr>\n",
       "    <tr>\n",
       "      <th>3</th>\n",
       "      <td>{'BusinessAcceptsBitcoin': 'False', 'ByAppoint...</td>\n",
       "    </tr>\n",
       "    <tr>\n",
       "      <th>4</th>\n",
       "      <td>{'BusinessParking': '{'garage': False, 'street...</td>\n",
       "    </tr>\n",
       "    <tr>\n",
       "      <th>5</th>\n",
       "      <td>{'RestaurantsPriceRange2': '2', 'BusinessParki...</td>\n",
       "    </tr>\n",
       "  </tbody>\n",
       "</table>\n",
       "</div>"
      ],
      "text/plain": [
       "                                          attributes\n",
       "0  {'RestaurantsReservations': 'True', 'GoodForMe...\n",
       "1  {'GoodForKids': 'True', 'NoiseLevel': 'u'avera...\n",
       "3  {'BusinessAcceptsBitcoin': 'False', 'ByAppoint...\n",
       "4  {'BusinessParking': '{'garage': False, 'street...\n",
       "5  {'RestaurantsPriceRange2': '2', 'BusinessParki..."
      ]
     },
     "execution_count": 9,
     "metadata": {},
     "output_type": "execute_result"
    }
   ],
   "source": [
    "# Check shape\n",
    "print(my_dict.shape)\n",
    "\n",
    "# Check how the attribute column looks like\n",
    "my_dict.head()"
   ]
  },
  {
   "cell_type": "code",
   "execution_count": 10,
   "metadata": {
    "ExecuteTime": {
     "end_time": "2019-09-30T16:05:12.420264Z",
     "start_time": "2019-09-30T16:05:10.651575Z"
    }
   },
   "outputs": [
    {
     "data": {
      "text/plain": [
       "(163772, 915)"
      ]
     },
     "execution_count": 10,
     "metadata": {},
     "output_type": "execute_result"
    }
   ],
   "source": [
    "# Create extra columns indicating the presence or absence of a category with a value of 1 or 0\n",
    "dvec_attributes = DictVectorizer()\n",
    "dmat_attributes = dvec_attributes.fit_transform(my_dict['attributes'])\n",
    "df_attributes = pd.DataFrame(dmat_attributes.toarray(), columns=dvec_attributes.get_feature_names(), index=my_dict['attributes'].index)\n",
    "df_attributes.shape"
   ]
  },
  {
   "cell_type": "code",
   "execution_count": 14,
   "metadata": {
    "ExecuteTime": {
     "end_time": "2019-09-30T16:05:53.636929Z",
     "start_time": "2019-09-30T16:05:53.628994Z"
    }
   },
   "outputs": [
    {
     "name": "stdout",
     "output_type": "stream",
     "text": [
      "BusinessParking={'garage': False, 'street': False, 'lot': False, 'valet': False}\n",
      "816\n"
     ]
    }
   ],
   "source": [
    "# Drop unnecessary columns\n",
    "# 'BusinessParking', 'GoodForMeal', 'Ambience': I will apply DictVectorizer() separately thus this dataframe doesn't need to keep the columns here\n",
    "# DietaryRestrictions / BestNights: I found this does not contain insightful data\n",
    "# HairSpecializesIn: I focus on restaurants thus this has to be removed\n",
    "# =u: Original Business.JSON has duplicated keys in the nested dictionary. These contain =u\n",
    "\n",
    "remove_keys = ['BusinessParking', 'GoodForMeal', 'Ambience', 'Music',\\\n",
    "               'DietaryRestrictions', 'BestNights', 'HairSpecializesIn', '=u']\n",
    "remove_col_list = []\n",
    "i = 0\n",
    "for i in range(len(remove_keys)):\n",
    "    for col in df_attributes.columns:\n",
    "        if remove_keys[i] in col:\n",
    "            remove_col_list.append(col)\n",
    "            i + 1\n",
    "print(remove_col_list[1])\n",
    "print(len(remove_col_list))"
   ]
  },
  {
   "cell_type": "code",
   "execution_count": 15,
   "metadata": {
    "ExecuteTime": {
     "end_time": "2019-09-22T15:51:35.423553Z",
     "start_time": "2019-09-22T15:51:35.156330Z"
    }
   },
   "outputs": [
    {
     "data": {
      "text/plain": [
       "(163772, 99)"
      ]
     },
     "execution_count": 15,
     "metadata": {},
     "output_type": "execute_result"
    }
   ],
   "source": [
    "# Remove all the columns listed in remove_col_list from the DataFrame\n",
    "df_attributes.drop(columns=remove_col_list, inplace=True)\n",
    "df_attributes.shape"
   ]
  },
  {
   "cell_type": "code",
   "execution_count": 16,
   "metadata": {
    "ExecuteTime": {
     "end_time": "2019-09-22T15:51:35.523112Z",
     "start_time": "2019-09-22T15:51:35.425381Z"
    }
   },
   "outputs": [],
   "source": [
    "# Create columns per ambience feature\n",
    "# Fill NaN in the empty cells\n",
    "my_dict['ambience'] = my_dict['attributes'].map(lambda x: (x['Ambience']) if 'Ambience' in x else np.nan)"
   ]
  },
  {
   "cell_type": "code",
   "execution_count": 17,
   "metadata": {
    "ExecuteTime": {
     "end_time": "2019-09-22T15:51:35.530368Z",
     "start_time": "2019-09-22T15:51:35.525162Z"
    }
   },
   "outputs": [],
   "source": [
    "# Delete keys from 'attributes' column to avoid duplicates\n",
    "selected_key = 'Ambience'\n",
    "def dropkey(x, key=selected_key):\n",
    "    y = deepcopy(x)\n",
    "    if key in y:\n",
    "         del y[key]\n",
    "    return y"
   ]
  },
  {
   "cell_type": "code",
   "execution_count": 18,
   "metadata": {
    "ExecuteTime": {
     "end_time": "2019-09-22T15:51:38.397595Z",
     "start_time": "2019-09-22T15:51:35.532242Z"
    }
   },
   "outputs": [],
   "source": [
    "# Apply a function to all the items in the list\n",
    "my_dict['attributes'] = my_dict['attributes'].map(dropkey)\n",
    "\n",
    "# Replace 'None' with NaN in the column\n",
    "my_dict['ambience'][my_dict['ambience'] == 'None'] = np.nan\n",
    "\n",
    "# Apply a function to all the items in the list\n",
    "my_dict['ambience'] = my_dict['ambience'].map(lambda x: eval(x) if type(x)==str else x)"
   ]
  },
  {
   "cell_type": "code",
   "execution_count": 19,
   "metadata": {
    "ExecuteTime": {
     "end_time": "2019-09-22T15:51:38.429671Z",
     "start_time": "2019-09-22T15:51:38.399528Z"
    }
   },
   "outputs": [],
   "source": [
    "# Remove all NaN values before using DictVectorizer()\n",
    "my_dict.dropna(inplace=True)"
   ]
  },
  {
   "cell_type": "code",
   "execution_count": 20,
   "metadata": {
    "ExecuteTime": {
     "end_time": "2019-09-22T15:51:38.438317Z",
     "start_time": "2019-09-22T15:51:38.432697Z"
    }
   },
   "outputs": [
    {
     "data": {
      "text/plain": [
       "(47547, 2)"
      ]
     },
     "execution_count": 20,
     "metadata": {},
     "output_type": "execute_result"
    }
   ],
   "source": [
    "# Check the shape\n",
    "my_dict.shape"
   ]
  },
  {
   "cell_type": "code",
   "execution_count": 21,
   "metadata": {
    "ExecuteTime": {
     "end_time": "2019-09-22T15:51:38.735146Z",
     "start_time": "2019-09-22T15:51:38.440428Z"
    }
   },
   "outputs": [],
   "source": [
    "# Apply DictVectorizer to extract features and put them into a Pandas DataFrame\n",
    "dvec_ambience = DictVectorizer()\n",
    "dmat_ambience = dvec_ambience.fit_transform(my_dict['ambience'])\n",
    "\n",
    "# Create a DataFrame\n",
    "df_ambience = pd.DataFrame(dmat_ambience.toarray(), columns=dvec_ambience.get_feature_names(), index=my_dict['ambience'].index)"
   ]
  },
  {
   "cell_type": "code",
   "execution_count": 22,
   "metadata": {
    "ExecuteTime": {
     "end_time": "2019-09-22T15:51:38.741450Z",
     "start_time": "2019-09-22T15:51:38.736876Z"
    }
   },
   "outputs": [
    {
     "data": {
      "text/plain": [
       "Index(['casual', 'classy', 'divey', 'hipster', 'intimate', 'romantic',\n",
       "       'touristy', 'trendy', 'upscale'],\n",
       "      dtype='object')"
      ]
     },
     "execution_count": 22,
     "metadata": {},
     "output_type": "execute_result"
    }
   ],
   "source": [
    "# Check how the ambience features were expanded to columns\n",
    "df_ambience.columns"
   ]
  },
  {
   "cell_type": "code",
   "execution_count": 23,
   "metadata": {
    "ExecuteTime": {
     "end_time": "2019-09-22T15:51:38.756994Z",
     "start_time": "2019-09-22T15:51:38.745981Z"
    }
   },
   "outputs": [],
   "source": [
    "# Change column names for future use\n",
    "df_ambience.columns = [\n",
    "                        'ambience_Casual',\n",
    "                        'ambience_Classy',\n",
    "                        'ambience_Divey',\n",
    "                        'ambience_Hipster',\n",
    "                        'ambience_Intimate',\n",
    "                        'ambience_Romantic',\n",
    "                        'ambience_Touristy',\n",
    "                        'ambience_Trendy',\n",
    "                        'ambience_Upscale',\n",
    "                      ]"
   ]
  },
  {
   "cell_type": "code",
   "execution_count": 24,
   "metadata": {
    "ExecuteTime": {
     "end_time": "2019-09-22T15:51:38.780263Z",
     "start_time": "2019-09-22T15:51:38.762651Z"
    }
   },
   "outputs": [
    {
     "data": {
      "text/html": [
       "<div>\n",
       "<style scoped>\n",
       "    .dataframe tbody tr th:only-of-type {\n",
       "        vertical-align: middle;\n",
       "    }\n",
       "\n",
       "    .dataframe tbody tr th {\n",
       "        vertical-align: top;\n",
       "    }\n",
       "\n",
       "    .dataframe thead th {\n",
       "        text-align: right;\n",
       "    }\n",
       "</style>\n",
       "<table border=\"1\" class=\"dataframe\">\n",
       "  <thead>\n",
       "    <tr style=\"text-align: right;\">\n",
       "      <th></th>\n",
       "      <th>ambience_Casual</th>\n",
       "      <th>ambience_Classy</th>\n",
       "      <th>ambience_Divey</th>\n",
       "      <th>ambience_Hipster</th>\n",
       "      <th>ambience_Intimate</th>\n",
       "      <th>ambience_Romantic</th>\n",
       "      <th>ambience_Touristy</th>\n",
       "      <th>ambience_Trendy</th>\n",
       "      <th>ambience_Upscale</th>\n",
       "    </tr>\n",
       "  </thead>\n",
       "  <tbody>\n",
       "    <tr>\n",
       "      <th>0</th>\n",
       "      <td>1.0</td>\n",
       "      <td>0.0</td>\n",
       "      <td>0.0</td>\n",
       "      <td>0.0</td>\n",
       "      <td>0.0</td>\n",
       "      <td>0.0</td>\n",
       "      <td>0.0</td>\n",
       "      <td>0.0</td>\n",
       "      <td>0.0</td>\n",
       "    </tr>\n",
       "    <tr>\n",
       "      <th>1</th>\n",
       "      <td>1.0</td>\n",
       "      <td>0.0</td>\n",
       "      <td>0.0</td>\n",
       "      <td>0.0</td>\n",
       "      <td>0.0</td>\n",
       "      <td>0.0</td>\n",
       "      <td>0.0</td>\n",
       "      <td>0.0</td>\n",
       "      <td>0.0</td>\n",
       "    </tr>\n",
       "    <tr>\n",
       "      <th>10</th>\n",
       "      <td>0.0</td>\n",
       "      <td>0.0</td>\n",
       "      <td>0.0</td>\n",
       "      <td>0.0</td>\n",
       "      <td>0.0</td>\n",
       "      <td>0.0</td>\n",
       "      <td>0.0</td>\n",
       "      <td>0.0</td>\n",
       "      <td>0.0</td>\n",
       "    </tr>\n",
       "    <tr>\n",
       "      <th>11</th>\n",
       "      <td>0.0</td>\n",
       "      <td>0.0</td>\n",
       "      <td>0.0</td>\n",
       "      <td>0.0</td>\n",
       "      <td>0.0</td>\n",
       "      <td>0.0</td>\n",
       "      <td>0.0</td>\n",
       "      <td>0.0</td>\n",
       "      <td>0.0</td>\n",
       "    </tr>\n",
       "    <tr>\n",
       "      <th>16</th>\n",
       "      <td>0.0</td>\n",
       "      <td>1.0</td>\n",
       "      <td>0.0</td>\n",
       "      <td>0.0</td>\n",
       "      <td>0.0</td>\n",
       "      <td>1.0</td>\n",
       "      <td>0.0</td>\n",
       "      <td>0.0</td>\n",
       "      <td>0.0</td>\n",
       "    </tr>\n",
       "  </tbody>\n",
       "</table>\n",
       "</div>"
      ],
      "text/plain": [
       "    ambience_Casual  ambience_Classy  ambience_Divey  ambience_Hipster  \\\n",
       "0               1.0              0.0             0.0               0.0   \n",
       "1               1.0              0.0             0.0               0.0   \n",
       "10              0.0              0.0             0.0               0.0   \n",
       "11              0.0              0.0             0.0               0.0   \n",
       "16              0.0              1.0             0.0               0.0   \n",
       "\n",
       "    ambience_Intimate  ambience_Romantic  ambience_Touristy  ambience_Trendy  \\\n",
       "0                 0.0                0.0                0.0              0.0   \n",
       "1                 0.0                0.0                0.0              0.0   \n",
       "10                0.0                0.0                0.0              0.0   \n",
       "11                0.0                0.0                0.0              0.0   \n",
       "16                0.0                1.0                0.0              0.0   \n",
       "\n",
       "    ambience_Upscale  \n",
       "0                0.0  \n",
       "1                0.0  \n",
       "10               0.0  \n",
       "11               0.0  \n",
       "16               0.0  "
      ]
     },
     "execution_count": 24,
     "metadata": {},
     "output_type": "execute_result"
    }
   ],
   "source": [
    "# Check how the DataFrame looks like\n",
    "df_ambience.head()"
   ]
  },
  {
   "cell_type": "code",
   "execution_count": 25,
   "metadata": {
    "ExecuteTime": {
     "end_time": "2019-09-22T15:51:38.786471Z",
     "start_time": "2019-09-22T15:51:38.782925Z"
    }
   },
   "outputs": [
    {
     "data": {
      "text/plain": [
       "(47547, 9)"
      ]
     },
     "execution_count": 25,
     "metadata": {},
     "output_type": "execute_result"
    }
   ],
   "source": [
    "# Check the shape\n",
    "df_ambience.shape"
   ]
  },
  {
   "cell_type": "markdown",
   "metadata": {},
   "source": [
    "## Create columns per Business Parking features"
   ]
  },
  {
   "cell_type": "code",
   "execution_count": 26,
   "metadata": {
    "ExecuteTime": {
     "end_time": "2019-09-22T15:51:38.837276Z",
     "start_time": "2019-09-22T15:51:38.788470Z"
    }
   },
   "outputs": [
    {
     "data": {
      "text/plain": [
       "0     {'garage': False, 'street': False, 'validated'...\n",
       "1     {'garage': False, 'street': False, 'validated'...\n",
       "10    {'garage': False, 'street': False, 'validated'...\n",
       "11    {'garage': False, 'street': False, 'validated'...\n",
       "16    {'garage': False, 'street': False, 'validated'...\n",
       "Name: businessparking, dtype: object"
      ]
     },
     "execution_count": 26,
     "metadata": {},
     "output_type": "execute_result"
    }
   ],
   "source": [
    "# Create columns per Business Parking features\n",
    "# Fill NaN in the empty cells\n",
    "my_dict['businessparking'] = my_dict['attributes'].map(lambda x: (x['BusinessParking']) if 'BusinessParking' in x else np.nan)\n",
    "my_dict['businessparking'].head()"
   ]
  },
  {
   "cell_type": "code",
   "execution_count": 27,
   "metadata": {
    "ExecuteTime": {
     "end_time": "2019-09-22T15:51:40.442318Z",
     "start_time": "2019-09-22T15:51:38.839069Z"
    }
   },
   "outputs": [],
   "source": [
    "# Follow the same step as Ambience features\n",
    "my_dict['attributes'] = my_dict['attributes'].map(dropkey)\n",
    "my_dict['businessparking'][my_dict['businessparking'] == 'None'] = np.nan\n",
    "my_dict['businessparking'] = my_dict['businessparking'].map(lambda x: eval(x) if type(x)==str else x)"
   ]
  },
  {
   "cell_type": "code",
   "execution_count": 28,
   "metadata": {
    "ExecuteTime": {
     "end_time": "2019-09-22T15:51:40.632426Z",
     "start_time": "2019-09-22T15:51:40.444375Z"
    }
   },
   "outputs": [],
   "source": [
    "# Apply DictVectorizer to extract features and put them into a Pandas dataframe\n",
    "dvec_parking = DictVectorizer()\n",
    "dmat_parking = dvec_parking.fit_transform(my_dict['businessparking'].fillna(method='ffill'))\n",
    "df_parking = pd.DataFrame(dmat_parking.toarray(), columns=dvec_parking.get_feature_names(), index=my_dict['businessparking'].index)"
   ]
  },
  {
   "cell_type": "code",
   "execution_count": 29,
   "metadata": {
    "ExecuteTime": {
     "end_time": "2019-09-22T15:51:40.638629Z",
     "start_time": "2019-09-22T15:51:40.634208Z"
    }
   },
   "outputs": [],
   "source": [
    "# Change column names for modelling and analysis\n",
    "df_parking.columns = [\n",
    "                        'parking_Garage',\n",
    "                        'parking_Lot',\n",
    "                        'parking_Street',\n",
    "                        'parking_Valet',\n",
    "                        'parking_Validated'\n",
    "                      ]"
   ]
  },
  {
   "cell_type": "code",
   "execution_count": 30,
   "metadata": {
    "ExecuteTime": {
     "end_time": "2019-09-22T15:51:40.658631Z",
     "start_time": "2019-09-22T15:51:40.641701Z"
    }
   },
   "outputs": [
    {
     "data": {
      "text/html": [
       "<div>\n",
       "<style scoped>\n",
       "    .dataframe tbody tr th:only-of-type {\n",
       "        vertical-align: middle;\n",
       "    }\n",
       "\n",
       "    .dataframe tbody tr th {\n",
       "        vertical-align: top;\n",
       "    }\n",
       "\n",
       "    .dataframe thead th {\n",
       "        text-align: right;\n",
       "    }\n",
       "</style>\n",
       "<table border=\"1\" class=\"dataframe\">\n",
       "  <thead>\n",
       "    <tr style=\"text-align: right;\">\n",
       "      <th></th>\n",
       "      <th>parking_Garage</th>\n",
       "      <th>parking_Lot</th>\n",
       "      <th>parking_Street</th>\n",
       "      <th>parking_Valet</th>\n",
       "      <th>parking_Validated</th>\n",
       "    </tr>\n",
       "  </thead>\n",
       "  <tbody>\n",
       "    <tr>\n",
       "      <th>0</th>\n",
       "      <td>0.0</td>\n",
       "      <td>1.0</td>\n",
       "      <td>0.0</td>\n",
       "      <td>0.0</td>\n",
       "      <td>0.0</td>\n",
       "    </tr>\n",
       "    <tr>\n",
       "      <th>1</th>\n",
       "      <td>0.0</td>\n",
       "      <td>1.0</td>\n",
       "      <td>0.0</td>\n",
       "      <td>0.0</td>\n",
       "      <td>0.0</td>\n",
       "    </tr>\n",
       "    <tr>\n",
       "      <th>10</th>\n",
       "      <td>0.0</td>\n",
       "      <td>0.0</td>\n",
       "      <td>0.0</td>\n",
       "      <td>0.0</td>\n",
       "      <td>0.0</td>\n",
       "    </tr>\n",
       "    <tr>\n",
       "      <th>11</th>\n",
       "      <td>0.0</td>\n",
       "      <td>0.0</td>\n",
       "      <td>0.0</td>\n",
       "      <td>0.0</td>\n",
       "      <td>0.0</td>\n",
       "    </tr>\n",
       "    <tr>\n",
       "      <th>16</th>\n",
       "      <td>0.0</td>\n",
       "      <td>1.0</td>\n",
       "      <td>0.0</td>\n",
       "      <td>0.0</td>\n",
       "      <td>0.0</td>\n",
       "    </tr>\n",
       "  </tbody>\n",
       "</table>\n",
       "</div>"
      ],
      "text/plain": [
       "    parking_Garage  parking_Lot  parking_Street  parking_Valet  \\\n",
       "0              0.0          1.0             0.0            0.0   \n",
       "1              0.0          1.0             0.0            0.0   \n",
       "10             0.0          0.0             0.0            0.0   \n",
       "11             0.0          0.0             0.0            0.0   \n",
       "16             0.0          1.0             0.0            0.0   \n",
       "\n",
       "    parking_Validated  \n",
       "0                 0.0  \n",
       "1                 0.0  \n",
       "10                0.0  \n",
       "11                0.0  \n",
       "16                0.0  "
      ]
     },
     "execution_count": 30,
     "metadata": {},
     "output_type": "execute_result"
    }
   ],
   "source": [
    "df_parking.head()"
   ]
  },
  {
   "cell_type": "markdown",
   "metadata": {},
   "source": [
    "## Create columns per GoodForMeal features"
   ]
  },
  {
   "cell_type": "code",
   "execution_count": 31,
   "metadata": {
    "ExecuteTime": {
     "end_time": "2019-09-22T15:51:40.687997Z",
     "start_time": "2019-09-22T15:51:40.661292Z"
    }
   },
   "outputs": [],
   "source": [
    "# Fill NaN in the empty cells\n",
    "my_dict['goodformeal'] = my_dict['attributes'].map(lambda x: (x['GoodForMeal']) if 'GoodForMeal' in x else np.nan)"
   ]
  },
  {
   "cell_type": "code",
   "execution_count": 32,
   "metadata": {
    "ExecuteTime": {
     "end_time": "2019-09-22T15:51:42.057646Z",
     "start_time": "2019-09-22T15:51:40.689933Z"
    }
   },
   "outputs": [],
   "source": [
    "# Follow the same step as Ambience features\n",
    "my_dict['attributes'] = my_dict['attributes'].map(dropkey)\n",
    "my_dict['goodformeal'][my_dict['goodformeal'] == 'None'] = np.nan\n",
    "my_dict['goodformeal'] = my_dict['goodformeal'].map(lambda x: eval(x) if type(x)==str else x)\n",
    "#my_dict['GoodForMeal'].dropna(inplace=True)"
   ]
  },
  {
   "cell_type": "code",
   "execution_count": 33,
   "metadata": {
    "ExecuteTime": {
     "end_time": "2019-09-22T15:51:42.278689Z",
     "start_time": "2019-09-22T15:51:42.059577Z"
    }
   },
   "outputs": [],
   "source": [
    "# Apply DictVectorizer to extract features and put them into a Pandas dataframe\n",
    "dvec_meal = DictVectorizer()\n",
    "dmat_meal = dmat_meal = dvec_meal.fit_transform(my_dict['goodformeal'].fillna(method='ffill'))\n",
    "df_meal = pd.DataFrame(dmat_meal.toarray(), columns=dvec_meal.get_feature_names(), index=my_dict['goodformeal'].index)"
   ]
  },
  {
   "cell_type": "code",
   "execution_count": 34,
   "metadata": {
    "ExecuteTime": {
     "end_time": "2019-09-22T15:51:42.283544Z",
     "start_time": "2019-09-22T15:51:42.280402Z"
    }
   },
   "outputs": [],
   "source": [
    "# Change column names for modelling and analysis\n",
    "df_meal.columns = [\n",
    "                        'meal_Breakfast',\n",
    "                        'meal_Brunch',\n",
    "                        'meal_Dessert',\n",
    "                        'meal_Dinner',\n",
    "                        'meal_Latenight',\n",
    "                        'meal_Lunch'\n",
    "                      ]"
   ]
  },
  {
   "cell_type": "code",
   "execution_count": 35,
   "metadata": {
    "ExecuteTime": {
     "end_time": "2019-09-22T15:51:42.297345Z",
     "start_time": "2019-09-22T15:51:42.286276Z"
    }
   },
   "outputs": [
    {
     "data": {
      "text/html": [
       "<div>\n",
       "<style scoped>\n",
       "    .dataframe tbody tr th:only-of-type {\n",
       "        vertical-align: middle;\n",
       "    }\n",
       "\n",
       "    .dataframe tbody tr th {\n",
       "        vertical-align: top;\n",
       "    }\n",
       "\n",
       "    .dataframe thead th {\n",
       "        text-align: right;\n",
       "    }\n",
       "</style>\n",
       "<table border=\"1\" class=\"dataframe\">\n",
       "  <thead>\n",
       "    <tr style=\"text-align: right;\">\n",
       "      <th></th>\n",
       "      <th>meal_Breakfast</th>\n",
       "      <th>meal_Brunch</th>\n",
       "      <th>meal_Dessert</th>\n",
       "      <th>meal_Dinner</th>\n",
       "      <th>meal_Latenight</th>\n",
       "      <th>meal_Lunch</th>\n",
       "    </tr>\n",
       "  </thead>\n",
       "  <tbody>\n",
       "    <tr>\n",
       "      <th>0</th>\n",
       "      <td>0.0</td>\n",
       "      <td>0.0</td>\n",
       "      <td>0.0</td>\n",
       "      <td>1.0</td>\n",
       "      <td>0.0</td>\n",
       "      <td>1.0</td>\n",
       "    </tr>\n",
       "    <tr>\n",
       "      <th>1</th>\n",
       "      <td>0.0</td>\n",
       "      <td>0.0</td>\n",
       "      <td>0.0</td>\n",
       "      <td>1.0</td>\n",
       "      <td>0.0</td>\n",
       "      <td>1.0</td>\n",
       "    </tr>\n",
       "    <tr>\n",
       "      <th>10</th>\n",
       "      <td>0.0</td>\n",
       "      <td>0.0</td>\n",
       "      <td>0.0</td>\n",
       "      <td>1.0</td>\n",
       "      <td>0.0</td>\n",
       "      <td>1.0</td>\n",
       "    </tr>\n",
       "    <tr>\n",
       "      <th>11</th>\n",
       "      <td>0.0</td>\n",
       "      <td>0.0</td>\n",
       "      <td>0.0</td>\n",
       "      <td>1.0</td>\n",
       "      <td>0.0</td>\n",
       "      <td>1.0</td>\n",
       "    </tr>\n",
       "    <tr>\n",
       "      <th>16</th>\n",
       "      <td>0.0</td>\n",
       "      <td>0.0</td>\n",
       "      <td>0.0</td>\n",
       "      <td>1.0</td>\n",
       "      <td>0.0</td>\n",
       "      <td>1.0</td>\n",
       "    </tr>\n",
       "  </tbody>\n",
       "</table>\n",
       "</div>"
      ],
      "text/plain": [
       "    meal_Breakfast  meal_Brunch  meal_Dessert  meal_Dinner  meal_Latenight  \\\n",
       "0              0.0          0.0           0.0          1.0             0.0   \n",
       "1              0.0          0.0           0.0          1.0             0.0   \n",
       "10             0.0          0.0           0.0          1.0             0.0   \n",
       "11             0.0          0.0           0.0          1.0             0.0   \n",
       "16             0.0          0.0           0.0          1.0             0.0   \n",
       "\n",
       "    meal_Lunch  \n",
       "0          1.0  \n",
       "1          1.0  \n",
       "10         1.0  \n",
       "11         1.0  \n",
       "16         1.0  "
      ]
     },
     "execution_count": 35,
     "metadata": {},
     "output_type": "execute_result"
    }
   ],
   "source": [
    "df_meal.head()"
   ]
  },
  {
   "cell_type": "code",
   "execution_count": 36,
   "metadata": {
    "ExecuteTime": {
     "end_time": "2019-09-22T15:51:42.311476Z",
     "start_time": "2019-09-22T15:51:42.301188Z"
    }
   },
   "outputs": [
    {
     "data": {
      "text/plain": [
       "(47547, 6)"
      ]
     },
     "execution_count": 36,
     "metadata": {},
     "output_type": "execute_result"
    }
   ],
   "source": [
    "# Check the DataFrame shape\n",
    "df_meal.shape"
   ]
  },
  {
   "cell_type": "markdown",
   "metadata": {},
   "source": [
    "## Merge all dataframes created from business.json"
   ]
  },
  {
   "cell_type": "code",
   "execution_count": 37,
   "metadata": {
    "ExecuteTime": {
     "end_time": "2019-09-22T15:51:43.417521Z",
     "start_time": "2019-09-22T15:51:42.313356Z"
    }
   },
   "outputs": [
    {
     "data": {
      "text/html": [
       "<div>\n",
       "<style scoped>\n",
       "    .dataframe tbody tr th:only-of-type {\n",
       "        vertical-align: middle;\n",
       "    }\n",
       "\n",
       "    .dataframe tbody tr th {\n",
       "        vertical-align: top;\n",
       "    }\n",
       "\n",
       "    .dataframe thead th {\n",
       "        text-align: right;\n",
       "    }\n",
       "</style>\n",
       "<table border=\"1\" class=\"dataframe\">\n",
       "  <thead>\n",
       "    <tr style=\"text-align: right;\">\n",
       "      <th></th>\n",
       "      <th>business_id</th>\n",
       "      <th>categories</th>\n",
       "      <th>city</th>\n",
       "      <th>is_open</th>\n",
       "      <th>latitude</th>\n",
       "      <th>longitude</th>\n",
       "      <th>name</th>\n",
       "      <th>review_count</th>\n",
       "      <th>stars</th>\n",
       "      <th>state</th>\n",
       "      <th>...</th>\n",
       "      <th>meal_Brunch</th>\n",
       "      <th>meal_Dessert</th>\n",
       "      <th>meal_Dinner</th>\n",
       "      <th>meal_Latenight</th>\n",
       "      <th>meal_Lunch</th>\n",
       "      <th>parking_Garage</th>\n",
       "      <th>parking_Lot</th>\n",
       "      <th>parking_Street</th>\n",
       "      <th>parking_Valet</th>\n",
       "      <th>parking_Validated</th>\n",
       "    </tr>\n",
       "  </thead>\n",
       "  <tbody>\n",
       "    <tr>\n",
       "      <th>0</th>\n",
       "      <td>QXAEGFB4oINsVuTFxEYKFQ</td>\n",
       "      <td>Specialty Food, Restaurants, Dim Sum, Imported...</td>\n",
       "      <td>Mississauga</td>\n",
       "      <td>1</td>\n",
       "      <td>43.605499</td>\n",
       "      <td>-79.652289</td>\n",
       "      <td>Emerald Chinese Restaurant</td>\n",
       "      <td>128</td>\n",
       "      <td>2.5</td>\n",
       "      <td>ON</td>\n",
       "      <td>...</td>\n",
       "      <td>0.0</td>\n",
       "      <td>0.0</td>\n",
       "      <td>1.0</td>\n",
       "      <td>0.0</td>\n",
       "      <td>1.0</td>\n",
       "      <td>0.0</td>\n",
       "      <td>1.0</td>\n",
       "      <td>0.0</td>\n",
       "      <td>0.0</td>\n",
       "      <td>0.0</td>\n",
       "    </tr>\n",
       "    <tr>\n",
       "      <th>1</th>\n",
       "      <td>gnKjwL_1w79qoiV3IC_xQQ</td>\n",
       "      <td>Sushi Bars, Restaurants, Japanese</td>\n",
       "      <td>Charlotte</td>\n",
       "      <td>1</td>\n",
       "      <td>35.092564</td>\n",
       "      <td>-80.859132</td>\n",
       "      <td>Musashi Japanese Restaurant</td>\n",
       "      <td>170</td>\n",
       "      <td>4.0</td>\n",
       "      <td>NC</td>\n",
       "      <td>...</td>\n",
       "      <td>0.0</td>\n",
       "      <td>0.0</td>\n",
       "      <td>1.0</td>\n",
       "      <td>0.0</td>\n",
       "      <td>1.0</td>\n",
       "      <td>0.0</td>\n",
       "      <td>1.0</td>\n",
       "      <td>0.0</td>\n",
       "      <td>0.0</td>\n",
       "      <td>0.0</td>\n",
       "    </tr>\n",
       "  </tbody>\n",
       "</table>\n",
       "<p>2 rows × 129 columns</p>\n",
       "</div>"
      ],
      "text/plain": [
       "              business_id                                         categories  \\\n",
       "0  QXAEGFB4oINsVuTFxEYKFQ  Specialty Food, Restaurants, Dim Sum, Imported...   \n",
       "1  gnKjwL_1w79qoiV3IC_xQQ                  Sushi Bars, Restaurants, Japanese   \n",
       "\n",
       "          city  is_open   latitude  longitude                         name  \\\n",
       "0  Mississauga        1  43.605499 -79.652289   Emerald Chinese Restaurant   \n",
       "1    Charlotte        1  35.092564 -80.859132  Musashi Japanese Restaurant   \n",
       "\n",
       "   review_count  stars state  ...  meal_Brunch  meal_Dessert  meal_Dinner  \\\n",
       "0           128    2.5    ON  ...          0.0           0.0          1.0   \n",
       "1           170    4.0    NC  ...          0.0           0.0          1.0   \n",
       "\n",
       "   meal_Latenight  meal_Lunch  parking_Garage  parking_Lot  parking_Street  \\\n",
       "0             0.0         1.0             0.0          1.0             0.0   \n",
       "1             0.0         1.0             0.0          1.0             0.0   \n",
       "\n",
       "   parking_Valet  parking_Validated  \n",
       "0            0.0                0.0  \n",
       "1            0.0                0.0  \n",
       "\n",
       "[2 rows x 129 columns]"
      ]
     },
     "execution_count": 37,
     "metadata": {},
     "output_type": "execute_result"
    }
   ],
   "source": [
    "businessdf = pd.concat([df, df_attributes, df_ambience, df_meal, df_parking], axis=1)\n",
    "\n",
    "# Drop the original column\n",
    "businessdf.drop(columns='attributes', inplace=True) \n",
    "businessdf.head(2)"
   ]
  },
  {
   "cell_type": "code",
   "execution_count": 38,
   "metadata": {
    "ExecuteTime": {
     "end_time": "2019-09-22T15:51:43.877428Z",
     "start_time": "2019-09-22T15:51:43.421342Z"
    }
   },
   "outputs": [],
   "source": [
    "# Replace NaN values in the dataframe\n",
    "businessdf = businessdf.fillna(0)"
   ]
  },
  {
   "cell_type": "markdown",
   "metadata": {},
   "source": [
    "## Clean up the column names before I save the dataframe"
   ]
  },
  {
   "cell_type": "markdown",
   "metadata": {},
   "source": [
    "The business.json file did not have clear dictionary keys, thus I decided to rename the column keys for future use."
   ]
  },
  {
   "cell_type": "code",
   "execution_count": 39,
   "metadata": {
    "ExecuteTime": {
     "end_time": "2019-09-22T15:51:43.887347Z",
     "start_time": "2019-09-22T15:51:43.879225Z"
    },
    "scrolled": true
   },
   "outputs": [],
   "source": [
    "# Rename columns since these include {}, =, ' in the name (e.g. NoiseLevel='average')\n",
    "businessdf.columns = businessdf.columns.str.replace(\"{\", \"\")\n",
    "businessdf.columns = businessdf.columns.str.replace(\"}\", \"\")\n",
    "businessdf.columns = businessdf.columns.str.replace(\"=\", \"_\")\n",
    "businessdf.columns = businessdf.columns.str.replace(\"'\", \"_\")\n",
    "\n",
    "# Replace none to Unknown\n",
    "businessdf.columns = businessdf.columns.str.replace('none', 'unknown')\n",
    "businessdf.columns = businessdf.columns.str.replace('byob', 'bring_your_own_bottle')\n",
    "\n",
    "# Lowercase column names\n",
    "businessdf.columns = businessdf.columns.map(lambda x: x.lower())\n",
    "\n",
    "# Remove 'restaurants' from column names\n",
    "businessdf.columns = businessdf.columns.map(lambda x: x.replace('restaurants', ''))"
   ]
  },
  {
   "cell_type": "code",
   "execution_count": 40,
   "metadata": {
    "ExecuteTime": {
     "end_time": "2019-09-22T15:51:44.044912Z",
     "start_time": "2019-09-22T15:51:43.889199Z"
    }
   },
   "outputs": [],
   "source": [
    " # Rename column name clearly\n",
    "businessdf.rename(columns={\n",
    "     'is_open': 'business_status','name': 'business_name',\n",
    "     'review_count': 'review_count_per_business', 'stars': 'average_stars_per_business', 'state': 'US_state',\n",
    "     'alcohol__beer_and_wine_': 'alcohol_beer_and_wine', 'alcohol__full_bar_': 'alcohol_full_bar', 'alcohol__unknown_': 'alcohol_not_available',\n",
    "     'bring_your_own_bottlecorkage__no_': 'bring_your_own_bottle_corkage_no',\n",
    "     'bring_your_own_bottlecorkage__yes_corkage_': 'bring_your_own_bottle_corkage_yes_corkage',\n",
    "     'bring_your_own_bottlecorkage__yes_free_': 'bring_your_own_bottle_corkage_yes_free',\n",
    "     'bring_your_own_bottlecorkage_unknown': 'bring_your_own_bottle_corkage_unknown',\n",
    "     'hastv_false': 'hasTV_false', 'hastv_unknown': 'hasTV_unknown', 'hastv_true': 'hasTV_true',\n",
    "     'noiselevel__average_': 'noiselevel_average', 'noiselevel__loud_': 'noiselevel_loud',\n",
    "     'noiselevel__quiet_': 'noiselevel_quiet', 'noiselevel__very_loud_': 'noiselevel_very_loud',    \n",
    "     'attire__casual_': 'dresscode_casual', 'attire__dressy_': 'dresscode_dressy',\n",
    "     'attire__formal_': 'dresscode_formal', 'attire_unknown': 'dresscode_unknown',\n",
    "     'pricerange2_1': 'spricerange_1',\n",
    "     'pricerange2_2': 'pricerange_2', 'pricerange2_3': 'pricerange_3',\n",
    "     'pricerange2_4': 'pricerange_4', 'pricerange2_unknown': 'pricerange_unknown',\n",
    "     'smoking__no_': 'smoking_no', 'smoking__outdoor_': 'smoking_outdoor', 'smoking__yes_': 'smoking_yes',\n",
    "     'wifi__free_': 'wifi_free', 'Wifi__no_': 'wifi_no',\n",
    "     'wifi__paid_': 'wifi_paid'}, inplace=True)"
   ]
  },
  {
   "cell_type": "code",
   "execution_count": 41,
   "metadata": {
    "ExecuteTime": {
     "end_time": "2019-09-22T15:51:44.067431Z",
     "start_time": "2019-09-22T15:51:44.046517Z"
    }
   },
   "outputs": [
    {
     "data": {
      "text/html": [
       "<div>\n",
       "<style scoped>\n",
       "    .dataframe tbody tr th:only-of-type {\n",
       "        vertical-align: middle;\n",
       "    }\n",
       "\n",
       "    .dataframe tbody tr th {\n",
       "        vertical-align: top;\n",
       "    }\n",
       "\n",
       "    .dataframe thead th {\n",
       "        text-align: right;\n",
       "    }\n",
       "</style>\n",
       "<table border=\"1\" class=\"dataframe\">\n",
       "  <thead>\n",
       "    <tr style=\"text-align: right;\">\n",
       "      <th></th>\n",
       "      <th>business_id</th>\n",
       "      <th>categories</th>\n",
       "      <th>city</th>\n",
       "      <th>business_status</th>\n",
       "      <th>latitude</th>\n",
       "      <th>longitude</th>\n",
       "      <th>business_name</th>\n",
       "      <th>review_count_per_business</th>\n",
       "      <th>average_stars_per_business</th>\n",
       "      <th>US_state</th>\n",
       "      <th>...</th>\n",
       "      <th>meal_brunch</th>\n",
       "      <th>meal_dessert</th>\n",
       "      <th>meal_dinner</th>\n",
       "      <th>meal_latenight</th>\n",
       "      <th>meal_lunch</th>\n",
       "      <th>parking_garage</th>\n",
       "      <th>parking_lot</th>\n",
       "      <th>parking_street</th>\n",
       "      <th>parking_valet</th>\n",
       "      <th>parking_validated</th>\n",
       "    </tr>\n",
       "  </thead>\n",
       "  <tbody>\n",
       "    <tr>\n",
       "      <th>0</th>\n",
       "      <td>QXAEGFB4oINsVuTFxEYKFQ</td>\n",
       "      <td>Specialty Food, Restaurants, Dim Sum, Imported...</td>\n",
       "      <td>Mississauga</td>\n",
       "      <td>1</td>\n",
       "      <td>43.605499</td>\n",
       "      <td>-79.652289</td>\n",
       "      <td>Emerald Chinese Restaurant</td>\n",
       "      <td>128</td>\n",
       "      <td>2.5</td>\n",
       "      <td>ON</td>\n",
       "      <td>...</td>\n",
       "      <td>0.0</td>\n",
       "      <td>0.0</td>\n",
       "      <td>1.0</td>\n",
       "      <td>0.0</td>\n",
       "      <td>1.0</td>\n",
       "      <td>0.0</td>\n",
       "      <td>1.0</td>\n",
       "      <td>0.0</td>\n",
       "      <td>0.0</td>\n",
       "      <td>0.0</td>\n",
       "    </tr>\n",
       "    <tr>\n",
       "      <th>1</th>\n",
       "      <td>gnKjwL_1w79qoiV3IC_xQQ</td>\n",
       "      <td>Sushi Bars, Restaurants, Japanese</td>\n",
       "      <td>Charlotte</td>\n",
       "      <td>1</td>\n",
       "      <td>35.092564</td>\n",
       "      <td>-80.859132</td>\n",
       "      <td>Musashi Japanese Restaurant</td>\n",
       "      <td>170</td>\n",
       "      <td>4.0</td>\n",
       "      <td>NC</td>\n",
       "      <td>...</td>\n",
       "      <td>0.0</td>\n",
       "      <td>0.0</td>\n",
       "      <td>1.0</td>\n",
       "      <td>0.0</td>\n",
       "      <td>1.0</td>\n",
       "      <td>0.0</td>\n",
       "      <td>1.0</td>\n",
       "      <td>0.0</td>\n",
       "      <td>0.0</td>\n",
       "      <td>0.0</td>\n",
       "    </tr>\n",
       "    <tr>\n",
       "      <th>2</th>\n",
       "      <td>xvX2CttrVhyG2z1dFg_0xw</td>\n",
       "      <td>Insurance, Financial Services</td>\n",
       "      <td>Goodyear</td>\n",
       "      <td>1</td>\n",
       "      <td>33.455613</td>\n",
       "      <td>-112.395596</td>\n",
       "      <td>Farmers Insurance - Paul Lorenz</td>\n",
       "      <td>3</td>\n",
       "      <td>5.0</td>\n",
       "      <td>AZ</td>\n",
       "      <td>...</td>\n",
       "      <td>0.0</td>\n",
       "      <td>0.0</td>\n",
       "      <td>0.0</td>\n",
       "      <td>0.0</td>\n",
       "      <td>0.0</td>\n",
       "      <td>0.0</td>\n",
       "      <td>0.0</td>\n",
       "      <td>0.0</td>\n",
       "      <td>0.0</td>\n",
       "      <td>0.0</td>\n",
       "    </tr>\n",
       "    <tr>\n",
       "      <th>3</th>\n",
       "      <td>HhyxOkGAM07SRYtlQ4wMFQ</td>\n",
       "      <td>Plumbing, Shopping, Local Services, Home Servi...</td>\n",
       "      <td>Charlotte</td>\n",
       "      <td>1</td>\n",
       "      <td>35.190012</td>\n",
       "      <td>-80.887223</td>\n",
       "      <td>Queen City Plumbing</td>\n",
       "      <td>4</td>\n",
       "      <td>4.0</td>\n",
       "      <td>NC</td>\n",
       "      <td>...</td>\n",
       "      <td>0.0</td>\n",
       "      <td>0.0</td>\n",
       "      <td>0.0</td>\n",
       "      <td>0.0</td>\n",
       "      <td>0.0</td>\n",
       "      <td>0.0</td>\n",
       "      <td>0.0</td>\n",
       "      <td>0.0</td>\n",
       "      <td>0.0</td>\n",
       "      <td>0.0</td>\n",
       "    </tr>\n",
       "    <tr>\n",
       "      <th>4</th>\n",
       "      <td>68dUKd8_8liJ7in4aWOSEA</td>\n",
       "      <td>Shipping Centers, Couriers &amp; Delivery Services...</td>\n",
       "      <td>Mississauga</td>\n",
       "      <td>1</td>\n",
       "      <td>43.599475</td>\n",
       "      <td>-79.711584</td>\n",
       "      <td>The UPS Store</td>\n",
       "      <td>3</td>\n",
       "      <td>2.5</td>\n",
       "      <td>ON</td>\n",
       "      <td>...</td>\n",
       "      <td>0.0</td>\n",
       "      <td>0.0</td>\n",
       "      <td>0.0</td>\n",
       "      <td>0.0</td>\n",
       "      <td>0.0</td>\n",
       "      <td>0.0</td>\n",
       "      <td>0.0</td>\n",
       "      <td>0.0</td>\n",
       "      <td>0.0</td>\n",
       "      <td>0.0</td>\n",
       "    </tr>\n",
       "  </tbody>\n",
       "</table>\n",
       "<p>5 rows × 129 columns</p>\n",
       "</div>"
      ],
      "text/plain": [
       "              business_id                                         categories  \\\n",
       "0  QXAEGFB4oINsVuTFxEYKFQ  Specialty Food, Restaurants, Dim Sum, Imported...   \n",
       "1  gnKjwL_1w79qoiV3IC_xQQ                  Sushi Bars, Restaurants, Japanese   \n",
       "2  xvX2CttrVhyG2z1dFg_0xw                      Insurance, Financial Services   \n",
       "3  HhyxOkGAM07SRYtlQ4wMFQ  Plumbing, Shopping, Local Services, Home Servi...   \n",
       "4  68dUKd8_8liJ7in4aWOSEA  Shipping Centers, Couriers & Delivery Services...   \n",
       "\n",
       "          city  business_status   latitude   longitude  \\\n",
       "0  Mississauga                1  43.605499  -79.652289   \n",
       "1    Charlotte                1  35.092564  -80.859132   \n",
       "2     Goodyear                1  33.455613 -112.395596   \n",
       "3    Charlotte                1  35.190012  -80.887223   \n",
       "4  Mississauga                1  43.599475  -79.711584   \n",
       "\n",
       "                     business_name  review_count_per_business  \\\n",
       "0       Emerald Chinese Restaurant                        128   \n",
       "1      Musashi Japanese Restaurant                        170   \n",
       "2  Farmers Insurance - Paul Lorenz                          3   \n",
       "3              Queen City Plumbing                          4   \n",
       "4                    The UPS Store                          3   \n",
       "\n",
       "   average_stars_per_business US_state  ...  meal_brunch  meal_dessert  \\\n",
       "0                         2.5       ON  ...          0.0           0.0   \n",
       "1                         4.0       NC  ...          0.0           0.0   \n",
       "2                         5.0       AZ  ...          0.0           0.0   \n",
       "3                         4.0       NC  ...          0.0           0.0   \n",
       "4                         2.5       ON  ...          0.0           0.0   \n",
       "\n",
       "   meal_dinner  meal_latenight  meal_lunch  parking_garage  parking_lot  \\\n",
       "0          1.0             0.0         1.0             0.0          1.0   \n",
       "1          1.0             0.0         1.0             0.0          1.0   \n",
       "2          0.0             0.0         0.0             0.0          0.0   \n",
       "3          0.0             0.0         0.0             0.0          0.0   \n",
       "4          0.0             0.0         0.0             0.0          0.0   \n",
       "\n",
       "   parking_street  parking_valet  parking_validated  \n",
       "0             0.0            0.0                0.0  \n",
       "1             0.0            0.0                0.0  \n",
       "2             0.0            0.0                0.0  \n",
       "3             0.0            0.0                0.0  \n",
       "4             0.0            0.0                0.0  \n",
       "\n",
       "[5 rows x 129 columns]"
      ]
     },
     "execution_count": 41,
     "metadata": {},
     "output_type": "execute_result"
    }
   ],
   "source": [
    "# Check how the DataFrame looks like\n",
    "businessdf.head()"
   ]
  },
  {
   "cell_type": "markdown",
   "metadata": {},
   "source": [
    "## Drop one column per attribute group "
   ]
  },
  {
   "cell_type": "markdown",
   "metadata": {},
   "source": [
    " To maximize the performance of models, I decided to drop a column. \n",
    " For example, There were 'BikeParking = True/False/None'. I removed 'BikeParking=False' because when 'BikeParking=True' has 1, 'Bikeparking=True'=0 means 'BikeParking=False'"
   ]
  },
  {
   "cell_type": "code",
   "execution_count": 42,
   "metadata": {
    "ExecuteTime": {
     "end_time": "2019-09-22T15:51:44.075219Z",
     "start_time": "2019-09-22T15:51:44.069679Z"
    }
   },
   "outputs": [
    {
     "name": "stdout",
     "output_type": "stream",
     "text": [
      "['acceptsinsurance_false', 'byob_false', 'bikeparking_false', 'businessacceptsbitcoin_false', 'businessacceptscreditcards_false', 'byappointmentonly_false', 'caters_false', 'coatcheck_false', 'corkage_false', 'dogsallowed_false', 'drivethru_false', 'goodfordancing_false', 'goodforkids_false', 'happyhour_false', 'hasTV_false', 'open24hours_false', 'outdoorseating_false', 'counterservice_false', 'delivery_false', 'goodforgroups_false', 'reservations_false', 'tableservice_false', 'takeout_false', 'wheelchairaccessible_false']\n"
     ]
    }
   ],
   "source": [
    "# List up columns to drop\n",
    "drop_col_list = []\n",
    "\n",
    "for col in businessdf.columns:\n",
    "    if 'false' in col:\n",
    "        drop_col_list.append(col)\n",
    "print(drop_col_list)"
   ]
  },
  {
   "cell_type": "code",
   "execution_count": 43,
   "metadata": {
    "ExecuteTime": {
     "end_time": "2019-09-22T15:51:44.213339Z",
     "start_time": "2019-09-22T15:51:44.076964Z"
    }
   },
   "outputs": [],
   "source": [
    "# Drop the listed columns from the DataFrame\n",
    "businessdf.drop(columns=drop_col_list, inplace=True)"
   ]
  },
  {
   "cell_type": "code",
   "execution_count": 44,
   "metadata": {
    "ExecuteTime": {
     "end_time": "2019-09-22T15:51:44.782529Z",
     "start_time": "2019-09-22T15:51:44.215694Z"
    }
   },
   "outputs": [],
   "source": [
    "# Pickle results \n",
    "businessdf.to_pickle('businessdf.pickle')"
   ]
  },
  {
   "cell_type": "code",
   "execution_count": 45,
   "metadata": {
    "ExecuteTime": {
     "end_time": "2019-09-22T15:52:02.717176Z",
     "start_time": "2019-09-22T15:52:02.361076Z"
    }
   },
   "outputs": [
    {
     "data": {
      "text/html": [
       "<div>\n",
       "<style scoped>\n",
       "    .dataframe tbody tr th:only-of-type {\n",
       "        vertical-align: middle;\n",
       "    }\n",
       "\n",
       "    .dataframe tbody tr th {\n",
       "        vertical-align: top;\n",
       "    }\n",
       "\n",
       "    .dataframe thead th {\n",
       "        text-align: right;\n",
       "    }\n",
       "</style>\n",
       "<table border=\"1\" class=\"dataframe\">\n",
       "  <thead>\n",
       "    <tr style=\"text-align: right;\">\n",
       "      <th></th>\n",
       "      <th>business_id</th>\n",
       "      <th>categories</th>\n",
       "      <th>city</th>\n",
       "      <th>business_status</th>\n",
       "      <th>latitude</th>\n",
       "      <th>longitude</th>\n",
       "      <th>business_name</th>\n",
       "      <th>review_count_per_business</th>\n",
       "      <th>average_stars_per_business</th>\n",
       "      <th>US_state</th>\n",
       "      <th>...</th>\n",
       "      <th>meal_brunch</th>\n",
       "      <th>meal_dessert</th>\n",
       "      <th>meal_dinner</th>\n",
       "      <th>meal_latenight</th>\n",
       "      <th>meal_lunch</th>\n",
       "      <th>parking_garage</th>\n",
       "      <th>parking_lot</th>\n",
       "      <th>parking_street</th>\n",
       "      <th>parking_valet</th>\n",
       "      <th>parking_validated</th>\n",
       "    </tr>\n",
       "  </thead>\n",
       "  <tbody>\n",
       "    <tr>\n",
       "      <th>0</th>\n",
       "      <td>QXAEGFB4oINsVuTFxEYKFQ</td>\n",
       "      <td>Specialty Food, Restaurants, Dim Sum, Imported...</td>\n",
       "      <td>Mississauga</td>\n",
       "      <td>1</td>\n",
       "      <td>43.605499</td>\n",
       "      <td>-79.652289</td>\n",
       "      <td>Emerald Chinese Restaurant</td>\n",
       "      <td>128</td>\n",
       "      <td>2.5</td>\n",
       "      <td>ON</td>\n",
       "      <td>...</td>\n",
       "      <td>0.0</td>\n",
       "      <td>0.0</td>\n",
       "      <td>1.0</td>\n",
       "      <td>0.0</td>\n",
       "      <td>1.0</td>\n",
       "      <td>0.0</td>\n",
       "      <td>1.0</td>\n",
       "      <td>0.0</td>\n",
       "      <td>0.0</td>\n",
       "      <td>0.0</td>\n",
       "    </tr>\n",
       "    <tr>\n",
       "      <th>1</th>\n",
       "      <td>gnKjwL_1w79qoiV3IC_xQQ</td>\n",
       "      <td>Sushi Bars, Restaurants, Japanese</td>\n",
       "      <td>Charlotte</td>\n",
       "      <td>1</td>\n",
       "      <td>35.092564</td>\n",
       "      <td>-80.859132</td>\n",
       "      <td>Musashi Japanese Restaurant</td>\n",
       "      <td>170</td>\n",
       "      <td>4.0</td>\n",
       "      <td>NC</td>\n",
       "      <td>...</td>\n",
       "      <td>0.0</td>\n",
       "      <td>0.0</td>\n",
       "      <td>1.0</td>\n",
       "      <td>0.0</td>\n",
       "      <td>1.0</td>\n",
       "      <td>0.0</td>\n",
       "      <td>1.0</td>\n",
       "      <td>0.0</td>\n",
       "      <td>0.0</td>\n",
       "      <td>0.0</td>\n",
       "    </tr>\n",
       "    <tr>\n",
       "      <th>2</th>\n",
       "      <td>xvX2CttrVhyG2z1dFg_0xw</td>\n",
       "      <td>Insurance, Financial Services</td>\n",
       "      <td>Goodyear</td>\n",
       "      <td>1</td>\n",
       "      <td>33.455613</td>\n",
       "      <td>-112.395596</td>\n",
       "      <td>Farmers Insurance - Paul Lorenz</td>\n",
       "      <td>3</td>\n",
       "      <td>5.0</td>\n",
       "      <td>AZ</td>\n",
       "      <td>...</td>\n",
       "      <td>0.0</td>\n",
       "      <td>0.0</td>\n",
       "      <td>0.0</td>\n",
       "      <td>0.0</td>\n",
       "      <td>0.0</td>\n",
       "      <td>0.0</td>\n",
       "      <td>0.0</td>\n",
       "      <td>0.0</td>\n",
       "      <td>0.0</td>\n",
       "      <td>0.0</td>\n",
       "    </tr>\n",
       "    <tr>\n",
       "      <th>3</th>\n",
       "      <td>HhyxOkGAM07SRYtlQ4wMFQ</td>\n",
       "      <td>Plumbing, Shopping, Local Services, Home Servi...</td>\n",
       "      <td>Charlotte</td>\n",
       "      <td>1</td>\n",
       "      <td>35.190012</td>\n",
       "      <td>-80.887223</td>\n",
       "      <td>Queen City Plumbing</td>\n",
       "      <td>4</td>\n",
       "      <td>4.0</td>\n",
       "      <td>NC</td>\n",
       "      <td>...</td>\n",
       "      <td>0.0</td>\n",
       "      <td>0.0</td>\n",
       "      <td>0.0</td>\n",
       "      <td>0.0</td>\n",
       "      <td>0.0</td>\n",
       "      <td>0.0</td>\n",
       "      <td>0.0</td>\n",
       "      <td>0.0</td>\n",
       "      <td>0.0</td>\n",
       "      <td>0.0</td>\n",
       "    </tr>\n",
       "    <tr>\n",
       "      <th>4</th>\n",
       "      <td>68dUKd8_8liJ7in4aWOSEA</td>\n",
       "      <td>Shipping Centers, Couriers &amp; Delivery Services...</td>\n",
       "      <td>Mississauga</td>\n",
       "      <td>1</td>\n",
       "      <td>43.599475</td>\n",
       "      <td>-79.711584</td>\n",
       "      <td>The UPS Store</td>\n",
       "      <td>3</td>\n",
       "      <td>2.5</td>\n",
       "      <td>ON</td>\n",
       "      <td>...</td>\n",
       "      <td>0.0</td>\n",
       "      <td>0.0</td>\n",
       "      <td>0.0</td>\n",
       "      <td>0.0</td>\n",
       "      <td>0.0</td>\n",
       "      <td>0.0</td>\n",
       "      <td>0.0</td>\n",
       "      <td>0.0</td>\n",
       "      <td>0.0</td>\n",
       "      <td>0.0</td>\n",
       "    </tr>\n",
       "  </tbody>\n",
       "</table>\n",
       "<p>5 rows × 105 columns</p>\n",
       "</div>"
      ],
      "text/plain": [
       "              business_id                                         categories  \\\n",
       "0  QXAEGFB4oINsVuTFxEYKFQ  Specialty Food, Restaurants, Dim Sum, Imported...   \n",
       "1  gnKjwL_1w79qoiV3IC_xQQ                  Sushi Bars, Restaurants, Japanese   \n",
       "2  xvX2CttrVhyG2z1dFg_0xw                      Insurance, Financial Services   \n",
       "3  HhyxOkGAM07SRYtlQ4wMFQ  Plumbing, Shopping, Local Services, Home Servi...   \n",
       "4  68dUKd8_8liJ7in4aWOSEA  Shipping Centers, Couriers & Delivery Services...   \n",
       "\n",
       "          city  business_status   latitude   longitude  \\\n",
       "0  Mississauga                1  43.605499  -79.652289   \n",
       "1    Charlotte                1  35.092564  -80.859132   \n",
       "2     Goodyear                1  33.455613 -112.395596   \n",
       "3    Charlotte                1  35.190012  -80.887223   \n",
       "4  Mississauga                1  43.599475  -79.711584   \n",
       "\n",
       "                     business_name  review_count_per_business  \\\n",
       "0       Emerald Chinese Restaurant                        128   \n",
       "1      Musashi Japanese Restaurant                        170   \n",
       "2  Farmers Insurance - Paul Lorenz                          3   \n",
       "3              Queen City Plumbing                          4   \n",
       "4                    The UPS Store                          3   \n",
       "\n",
       "   average_stars_per_business US_state  ...  meal_brunch  meal_dessert  \\\n",
       "0                         2.5       ON  ...          0.0           0.0   \n",
       "1                         4.0       NC  ...          0.0           0.0   \n",
       "2                         5.0       AZ  ...          0.0           0.0   \n",
       "3                         4.0       NC  ...          0.0           0.0   \n",
       "4                         2.5       ON  ...          0.0           0.0   \n",
       "\n",
       "   meal_dinner  meal_latenight  meal_lunch  parking_garage  parking_lot  \\\n",
       "0          1.0             0.0         1.0             0.0          1.0   \n",
       "1          1.0             0.0         1.0             0.0          1.0   \n",
       "2          0.0             0.0         0.0             0.0          0.0   \n",
       "3          0.0             0.0         0.0             0.0          0.0   \n",
       "4          0.0             0.0         0.0             0.0          0.0   \n",
       "\n",
       "   parking_street  parking_valet  parking_validated  \n",
       "0             0.0            0.0                0.0  \n",
       "1             0.0            0.0                0.0  \n",
       "2             0.0            0.0                0.0  \n",
       "3             0.0            0.0                0.0  \n",
       "4             0.0            0.0                0.0  \n",
       "\n",
       "[5 rows x 105 columns]"
      ]
     },
     "execution_count": 45,
     "metadata": {},
     "output_type": "execute_result"
    }
   ],
   "source": [
    "# Check if I successfully pickled the data\n",
    "pickled_businessdf = pd.read_pickle('/Users/mai/Desktop/yelp_dataset/to_submit/businessdf.pickle')\n",
    "pickled_businessdf.head()"
   ]
  },
  {
   "cell_type": "markdown",
   "metadata": {},
   "source": [
    "# Check the review file looks like"
   ]
  },
  {
   "cell_type": "code",
   "execution_count": 150,
   "metadata": {
    "ExecuteTime": {
     "end_time": "2019-09-22T11:19:26.248410Z",
     "start_time": "2019-09-22T11:19:26.242387Z"
    }
   },
   "outputs": [],
   "source": [
    "reviewjson = '/Users/mai/Desktop/yelp_dataset/review.json'"
   ]
  },
  {
   "cell_type": "code",
   "execution_count": null,
   "metadata": {
    "ExecuteTime": {
     "end_time": "2019-09-22T11:19:26.612771Z",
     "start_time": "2019-09-22T11:19:26.599950Z"
    }
   },
   "outputs": [],
   "source": [
    "# Decode JSON\n",
    "with open(reviewjson) as f:\n",
    "    reviewdata = [json.loads(line) for line in f]\n",
    "reviewdf = pd.DataFrame(reviewdata)"
   ]
  },
  {
   "cell_type": "code",
   "execution_count": 156,
   "metadata": {
    "ExecuteTime": {
     "end_time": "2019-09-22T11:23:12.271176Z",
     "start_time": "2019-09-22T11:22:02.991602Z"
    }
   },
   "outputs": [],
   "source": [
    "# Pickle results \n",
    "reviewdf.to_pickle('reviewdf.pickle')"
   ]
  },
  {
   "cell_type": "code",
   "execution_count": 157,
   "metadata": {
    "ExecuteTime": {
     "end_time": "2019-09-22T11:23:35.148852Z",
     "start_time": "2019-09-22T11:23:12.290631Z"
    }
   },
   "outputs": [
    {
     "data": {
      "text/html": [
       "<div>\n",
       "<style scoped>\n",
       "    .dataframe tbody tr th:only-of-type {\n",
       "        vertical-align: middle;\n",
       "    }\n",
       "\n",
       "    .dataframe tbody tr th {\n",
       "        vertical-align: top;\n",
       "    }\n",
       "\n",
       "    .dataframe thead th {\n",
       "        text-align: right;\n",
       "    }\n",
       "</style>\n",
       "<table border=\"1\" class=\"dataframe\">\n",
       "  <thead>\n",
       "    <tr style=\"text-align: right;\">\n",
       "      <th></th>\n",
       "      <th>business_id</th>\n",
       "      <th>cool</th>\n",
       "      <th>date</th>\n",
       "      <th>funny</th>\n",
       "      <th>review_id</th>\n",
       "      <th>stars</th>\n",
       "      <th>text</th>\n",
       "      <th>useful</th>\n",
       "      <th>user_id</th>\n",
       "    </tr>\n",
       "  </thead>\n",
       "  <tbody>\n",
       "    <tr>\n",
       "      <th>0</th>\n",
       "      <td>ujmEBvifdJM6h6RLv4wQIg</td>\n",
       "      <td>0</td>\n",
       "      <td>2013-05-07 04:34:36</td>\n",
       "      <td>1.0</td>\n",
       "      <td>Q1sbwvVQXV2734tPgoKj4Q</td>\n",
       "      <td>1.0</td>\n",
       "      <td>Total bill for this horrible service? Over $8G...</td>\n",
       "      <td>6.0</td>\n",
       "      <td>hG7b0MtEbXx5QzbzE6C_VA</td>\n",
       "    </tr>\n",
       "    <tr>\n",
       "      <th>1</th>\n",
       "      <td>NZnhc2sEQy3RmzKTZnqtwQ</td>\n",
       "      <td>0</td>\n",
       "      <td>2017-01-14 21:30:33</td>\n",
       "      <td>0.0</td>\n",
       "      <td>GJXCdrto3ASJOqKeVWPi6Q</td>\n",
       "      <td>5.0</td>\n",
       "      <td>I *adore* Travis at the Hard Rock's new Kelly ...</td>\n",
       "      <td>0.0</td>\n",
       "      <td>yXQM5uF2jS6es16SJzNHfg</td>\n",
       "    </tr>\n",
       "    <tr>\n",
       "      <th>2</th>\n",
       "      <td>WTqjgwHlXbSFevF32_DJVw</td>\n",
       "      <td>0</td>\n",
       "      <td>2016-11-09 20:09:03</td>\n",
       "      <td>0.0</td>\n",
       "      <td>2TzJjDVDEuAW6MR5Vuc1ug</td>\n",
       "      <td>5.0</td>\n",
       "      <td>I have to say that this office really has it t...</td>\n",
       "      <td>3.0</td>\n",
       "      <td>n6-Gk65cPZL6Uz8qRm3NYw</td>\n",
       "    </tr>\n",
       "    <tr>\n",
       "      <th>3</th>\n",
       "      <td>ikCg8xy5JIg_NGPx-MSIDA</td>\n",
       "      <td>0</td>\n",
       "      <td>2018-01-09 20:56:38</td>\n",
       "      <td>0.0</td>\n",
       "      <td>yi0R0Ugj_xUx_Nek0-_Qig</td>\n",
       "      <td>5.0</td>\n",
       "      <td>Went in for a lunch. Steak sandwich was delici...</td>\n",
       "      <td>0.0</td>\n",
       "      <td>dacAIZ6fTM6mqwW5uxkskg</td>\n",
       "    </tr>\n",
       "    <tr>\n",
       "      <th>4</th>\n",
       "      <td>b1b1eb3uo-w561D0ZfCEiQ</td>\n",
       "      <td>0</td>\n",
       "      <td>2018-01-30 23:07:38</td>\n",
       "      <td>0.0</td>\n",
       "      <td>11a8sVPMUFtaC7_ABRkmtw</td>\n",
       "      <td>1.0</td>\n",
       "      <td>Today was my second out of three sessions I ha...</td>\n",
       "      <td>7.0</td>\n",
       "      <td>ssoyf2_x0EQMed6fgHeMyQ</td>\n",
       "    </tr>\n",
       "  </tbody>\n",
       "</table>\n",
       "</div>"
      ],
      "text/plain": [
       "              business_id  cool                 date  funny  \\\n",
       "0  ujmEBvifdJM6h6RLv4wQIg     0  2013-05-07 04:34:36    1.0   \n",
       "1  NZnhc2sEQy3RmzKTZnqtwQ     0  2017-01-14 21:30:33    0.0   \n",
       "2  WTqjgwHlXbSFevF32_DJVw     0  2016-11-09 20:09:03    0.0   \n",
       "3  ikCg8xy5JIg_NGPx-MSIDA     0  2018-01-09 20:56:38    0.0   \n",
       "4  b1b1eb3uo-w561D0ZfCEiQ     0  2018-01-30 23:07:38    0.0   \n",
       "\n",
       "                review_id  stars  \\\n",
       "0  Q1sbwvVQXV2734tPgoKj4Q    1.0   \n",
       "1  GJXCdrto3ASJOqKeVWPi6Q    5.0   \n",
       "2  2TzJjDVDEuAW6MR5Vuc1ug    5.0   \n",
       "3  yi0R0Ugj_xUx_Nek0-_Qig    5.0   \n",
       "4  11a8sVPMUFtaC7_ABRkmtw    1.0   \n",
       "\n",
       "                                                text  useful  \\\n",
       "0  Total bill for this horrible service? Over $8G...     6.0   \n",
       "1  I *adore* Travis at the Hard Rock's new Kelly ...     0.0   \n",
       "2  I have to say that this office really has it t...     3.0   \n",
       "3  Went in for a lunch. Steak sandwich was delici...     0.0   \n",
       "4  Today was my second out of three sessions I ha...     7.0   \n",
       "\n",
       "                  user_id  \n",
       "0  hG7b0MtEbXx5QzbzE6C_VA  \n",
       "1  yXQM5uF2jS6es16SJzNHfg  \n",
       "2  n6-Gk65cPZL6Uz8qRm3NYw  \n",
       "3  dacAIZ6fTM6mqwW5uxkskg  \n",
       "4  ssoyf2_x0EQMed6fgHeMyQ  "
      ]
     },
     "execution_count": 157,
     "metadata": {},
     "output_type": "execute_result"
    }
   ],
   "source": [
    "# Check if I successfully pickled the data\n",
    "pickled_reviewdf = pd.read_pickle('/Users/mai/Desktop/yelp_dataset/to_submit/reviewdf.pickle')\n",
    "pickled_reviewdf.head()"
   ]
  },
  {
   "cell_type": "markdown",
   "metadata": {
    "ExecuteTime": {
     "end_time": "2019-08-22T18:21:46.346653Z",
     "start_time": "2019-08-22T18:21:46.339813Z"
    }
   },
   "source": [
    "# Check the user file looks like"
   ]
  },
  {
   "cell_type": "code",
   "execution_count": 65,
   "metadata": {
    "ExecuteTime": {
     "end_time": "2019-08-29T16:50:10.359583Z",
     "start_time": "2019-08-29T16:50:10.330908Z"
    }
   },
   "outputs": [],
   "source": [
    "userjson = '/Users/mai/Desktop/yelp_dataset/user.json'"
   ]
  },
  {
   "cell_type": "code",
   "execution_count": 66,
   "metadata": {
    "ExecuteTime": {
     "end_time": "2019-08-29T16:51:19.725117Z",
     "start_time": "2019-08-29T16:50:10.367643Z"
    }
   },
   "outputs": [],
   "source": [
    "# Decode JSON\n",
    "with open(userjson) as f:\n",
    "    userdata = [json.loads(line) for line in f]\n",
    "userdf = pd.DataFrame(userdata)"
   ]
  },
  {
   "cell_type": "code",
   "execution_count": 160,
   "metadata": {
    "ExecuteTime": {
     "end_time": "2019-09-22T11:25:10.843613Z",
     "start_time": "2019-09-22T11:25:02.534738Z"
    }
   },
   "outputs": [],
   "source": [
    "# Pickle results \n",
    "userdf.to_pickle('userdf.pickle')"
   ]
  },
  {
   "cell_type": "code",
   "execution_count": 162,
   "metadata": {
    "ExecuteTime": {
     "end_time": "2019-09-22T11:25:42.547305Z",
     "start_time": "2019-09-22T11:25:34.497752Z"
    }
   },
   "outputs": [
    {
     "data": {
      "text/html": [
       "<div>\n",
       "<style scoped>\n",
       "    .dataframe tbody tr th:only-of-type {\n",
       "        vertical-align: middle;\n",
       "    }\n",
       "\n",
       "    .dataframe tbody tr th {\n",
       "        vertical-align: top;\n",
       "    }\n",
       "\n",
       "    .dataframe thead th {\n",
       "        text-align: right;\n",
       "    }\n",
       "</style>\n",
       "<table border=\"1\" class=\"dataframe\">\n",
       "  <thead>\n",
       "    <tr style=\"text-align: right;\">\n",
       "      <th></th>\n",
       "      <th>average_stars</th>\n",
       "      <th>compliment_cool</th>\n",
       "      <th>compliment_cute</th>\n",
       "      <th>compliment_funny</th>\n",
       "      <th>compliment_hot</th>\n",
       "      <th>compliment_list</th>\n",
       "      <th>compliment_more</th>\n",
       "      <th>compliment_note</th>\n",
       "      <th>compliment_photos</th>\n",
       "      <th>compliment_plain</th>\n",
       "      <th>...</th>\n",
       "      <th>cool</th>\n",
       "      <th>elite</th>\n",
       "      <th>fans</th>\n",
       "      <th>friends</th>\n",
       "      <th>funny</th>\n",
       "      <th>name</th>\n",
       "      <th>review_count</th>\n",
       "      <th>useful</th>\n",
       "      <th>user_id</th>\n",
       "      <th>yelping_since</th>\n",
       "    </tr>\n",
       "  </thead>\n",
       "  <tbody>\n",
       "    <tr>\n",
       "      <th>0</th>\n",
       "      <td>4.03</td>\n",
       "      <td>1</td>\n",
       "      <td>0</td>\n",
       "      <td>1</td>\n",
       "      <td>2</td>\n",
       "      <td>0</td>\n",
       "      <td>0</td>\n",
       "      <td>1</td>\n",
       "      <td>0</td>\n",
       "      <td>1</td>\n",
       "      <td>...</td>\n",
       "      <td>25</td>\n",
       "      <td>2015,2016,2017</td>\n",
       "      <td>5</td>\n",
       "      <td>c78V-rj8NQcQjOI8KP3UEA, alRMgPcngYSCJ5naFRBz5g...</td>\n",
       "      <td>17</td>\n",
       "      <td>Rashmi</td>\n",
       "      <td>95</td>\n",
       "      <td>84</td>\n",
       "      <td>l6BmjZMeQD3rDxWUbiAiow</td>\n",
       "      <td>2013-10-08 23:11:33</td>\n",
       "    </tr>\n",
       "    <tr>\n",
       "      <th>1</th>\n",
       "      <td>3.63</td>\n",
       "      <td>1</td>\n",
       "      <td>0</td>\n",
       "      <td>1</td>\n",
       "      <td>1</td>\n",
       "      <td>0</td>\n",
       "      <td>0</td>\n",
       "      <td>0</td>\n",
       "      <td>0</td>\n",
       "      <td>0</td>\n",
       "      <td>...</td>\n",
       "      <td>16</td>\n",
       "      <td>NaN</td>\n",
       "      <td>4</td>\n",
       "      <td>kEBTgDvFX754S68FllfCaA, aB2DynOxNOJK9st2ZeGTPg...</td>\n",
       "      <td>22</td>\n",
       "      <td>Jenna</td>\n",
       "      <td>33</td>\n",
       "      <td>48</td>\n",
       "      <td>4XChL029mKr5hydo79Ljxg</td>\n",
       "      <td>2013-02-21 22:29:06</td>\n",
       "    </tr>\n",
       "    <tr>\n",
       "      <th>2</th>\n",
       "      <td>3.71</td>\n",
       "      <td>0</td>\n",
       "      <td>0</td>\n",
       "      <td>0</td>\n",
       "      <td>0</td>\n",
       "      <td>0</td>\n",
       "      <td>0</td>\n",
       "      <td>1</td>\n",
       "      <td>0</td>\n",
       "      <td>0</td>\n",
       "      <td>...</td>\n",
       "      <td>10</td>\n",
       "      <td>NaN</td>\n",
       "      <td>0</td>\n",
       "      <td>4N-HU_T32hLENLntsNKNBg, pSY2vwWLgWfGVAAiKQzMng...</td>\n",
       "      <td>8</td>\n",
       "      <td>David</td>\n",
       "      <td>16</td>\n",
       "      <td>28</td>\n",
       "      <td>bc8C_eETBWL0olvFSJJd0w</td>\n",
       "      <td>2013-10-04 00:16:10</td>\n",
       "    </tr>\n",
       "    <tr>\n",
       "      <th>3</th>\n",
       "      <td>4.85</td>\n",
       "      <td>0</td>\n",
       "      <td>0</td>\n",
       "      <td>0</td>\n",
       "      <td>1</td>\n",
       "      <td>0</td>\n",
       "      <td>0</td>\n",
       "      <td>0</td>\n",
       "      <td>0</td>\n",
       "      <td>2</td>\n",
       "      <td>...</td>\n",
       "      <td>14</td>\n",
       "      <td>NaN</td>\n",
       "      <td>5</td>\n",
       "      <td>RZ6wS38wnlXyj-OOdTzBxA, l5jxZh1KsgI8rMunm-GN6A...</td>\n",
       "      <td>4</td>\n",
       "      <td>Angela</td>\n",
       "      <td>17</td>\n",
       "      <td>30</td>\n",
       "      <td>dD0gZpBctWGdWo9WlGuhlA</td>\n",
       "      <td>2014-05-22 15:57:30</td>\n",
       "    </tr>\n",
       "    <tr>\n",
       "      <th>4</th>\n",
       "      <td>4.08</td>\n",
       "      <td>80</td>\n",
       "      <td>0</td>\n",
       "      <td>80</td>\n",
       "      <td>28</td>\n",
       "      <td>1</td>\n",
       "      <td>1</td>\n",
       "      <td>16</td>\n",
       "      <td>5</td>\n",
       "      <td>57</td>\n",
       "      <td>...</td>\n",
       "      <td>665</td>\n",
       "      <td>2015,2016,2017,2018</td>\n",
       "      <td>39</td>\n",
       "      <td>mbwrZ-RS76V1HoJ0bF_Geg, g64lOV39xSLRZO0aQQ6DeQ...</td>\n",
       "      <td>279</td>\n",
       "      <td>Nancy</td>\n",
       "      <td>361</td>\n",
       "      <td>1114</td>\n",
       "      <td>MM4RJAeH6yuaN8oZDSt0RA</td>\n",
       "      <td>2013-10-23 07:02:50</td>\n",
       "    </tr>\n",
       "  </tbody>\n",
       "</table>\n",
       "<p>5 rows × 22 columns</p>\n",
       "</div>"
      ],
      "text/plain": [
       "   average_stars  compliment_cool  compliment_cute  compliment_funny  \\\n",
       "0           4.03                1                0                 1   \n",
       "1           3.63                1                0                 1   \n",
       "2           3.71                0                0                 0   \n",
       "3           4.85                0                0                 0   \n",
       "4           4.08               80                0                80   \n",
       "\n",
       "   compliment_hot  compliment_list  compliment_more  compliment_note  \\\n",
       "0               2                0                0                1   \n",
       "1               1                0                0                0   \n",
       "2               0                0                0                1   \n",
       "3               1                0                0                0   \n",
       "4              28                1                1               16   \n",
       "\n",
       "   compliment_photos  compliment_plain  ...  cool                elite  fans  \\\n",
       "0                  0                 1  ...    25       2015,2016,2017     5   \n",
       "1                  0                 0  ...    16                  NaN     4   \n",
       "2                  0                 0  ...    10                  NaN     0   \n",
       "3                  0                 2  ...    14                  NaN     5   \n",
       "4                  5                57  ...   665  2015,2016,2017,2018    39   \n",
       "\n",
       "                                             friends  funny    name  \\\n",
       "0  c78V-rj8NQcQjOI8KP3UEA, alRMgPcngYSCJ5naFRBz5g...     17  Rashmi   \n",
       "1  kEBTgDvFX754S68FllfCaA, aB2DynOxNOJK9st2ZeGTPg...     22   Jenna   \n",
       "2  4N-HU_T32hLENLntsNKNBg, pSY2vwWLgWfGVAAiKQzMng...      8   David   \n",
       "3  RZ6wS38wnlXyj-OOdTzBxA, l5jxZh1KsgI8rMunm-GN6A...      4  Angela   \n",
       "4  mbwrZ-RS76V1HoJ0bF_Geg, g64lOV39xSLRZO0aQQ6DeQ...    279   Nancy   \n",
       "\n",
       "   review_count useful                 user_id        yelping_since  \n",
       "0            95     84  l6BmjZMeQD3rDxWUbiAiow  2013-10-08 23:11:33  \n",
       "1            33     48  4XChL029mKr5hydo79Ljxg  2013-02-21 22:29:06  \n",
       "2            16     28  bc8C_eETBWL0olvFSJJd0w  2013-10-04 00:16:10  \n",
       "3            17     30  dD0gZpBctWGdWo9WlGuhlA  2014-05-22 15:57:30  \n",
       "4           361   1114  MM4RJAeH6yuaN8oZDSt0RA  2013-10-23 07:02:50  \n",
       "\n",
       "[5 rows x 22 columns]"
      ]
     },
     "execution_count": 162,
     "metadata": {},
     "output_type": "execute_result"
    }
   ],
   "source": [
    "# Check if I successfully pickled the data\n",
    "pickled_userdf = pd.read_pickle('/Users/mai/Desktop/yelp_dataset/to_submit/userdf.pickle')\n",
    "pickled_userdf.head()"
   ]
  },
  {
   "cell_type": "markdown",
   "metadata": {
    "ExecuteTime": {
     "end_time": "2019-08-22T18:22:02.349204Z",
     "start_time": "2019-08-22T18:22:02.344608Z"
    }
   },
   "source": [
    "# Check the checkin file looks like"
   ]
  },
  {
   "cell_type": "code",
   "execution_count": 69,
   "metadata": {
    "ExecuteTime": {
     "end_time": "2019-08-29T16:52:30.200911Z",
     "start_time": "2019-08-29T16:52:30.194786Z"
    }
   },
   "outputs": [],
   "source": [
    "checkinjson = '/Users/mai/Desktop/yelp_dataset/checkin.json'"
   ]
  },
  {
   "cell_type": "code",
   "execution_count": 70,
   "metadata": {
    "ExecuteTime": {
     "end_time": "2019-08-29T16:52:32.298678Z",
     "start_time": "2019-08-29T16:52:30.206407Z"
    }
   },
   "outputs": [],
   "source": [
    "# Decode JSON\n",
    "with open(checkinjson) as f:\n",
    "    checkindata = [json.loads(line) for line in f]\n",
    "checkindf = pd.DataFrame(checkindata)"
   ]
  },
  {
   "cell_type": "code",
   "execution_count": 164,
   "metadata": {
    "ExecuteTime": {
     "end_time": "2019-09-22T11:27:37.967371Z",
     "start_time": "2019-09-22T11:27:36.936085Z"
    }
   },
   "outputs": [],
   "source": [
    "# Pickle results \n",
    "checkindf.to_pickle('checkindf.pickle')"
   ]
  },
  {
   "cell_type": "code",
   "execution_count": 166,
   "metadata": {
    "ExecuteTime": {
     "end_time": "2019-09-22T11:28:53.179868Z",
     "start_time": "2019-09-22T11:28:52.758916Z"
    }
   },
   "outputs": [
    {
     "data": {
      "text/html": [
       "<div>\n",
       "<style scoped>\n",
       "    .dataframe tbody tr th:only-of-type {\n",
       "        vertical-align: middle;\n",
       "    }\n",
       "\n",
       "    .dataframe tbody tr th {\n",
       "        vertical-align: top;\n",
       "    }\n",
       "\n",
       "    .dataframe thead th {\n",
       "        text-align: right;\n",
       "    }\n",
       "</style>\n",
       "<table border=\"1\" class=\"dataframe\">\n",
       "  <thead>\n",
       "    <tr style=\"text-align: right;\">\n",
       "      <th></th>\n",
       "      <th>business_id</th>\n",
       "      <th>date</th>\n",
       "    </tr>\n",
       "  </thead>\n",
       "  <tbody>\n",
       "    <tr>\n",
       "      <th>0</th>\n",
       "      <td>--1UhMGODdWsrMastO9DZw</td>\n",
       "      <td>2016-04-26 19:49:16, 2016-08-30 18:36:57, 2016...</td>\n",
       "    </tr>\n",
       "    <tr>\n",
       "      <th>1</th>\n",
       "      <td>--6MefnULPED_I942VcFNA</td>\n",
       "      <td>2011-06-04 18:22:23, 2011-07-23 23:51:33, 2012...</td>\n",
       "    </tr>\n",
       "    <tr>\n",
       "      <th>2</th>\n",
       "      <td>--7zmmkVg-IMGaXbuVd0SQ</td>\n",
       "      <td>2014-12-29 19:25:50, 2015-01-17 01:49:14, 2015...</td>\n",
       "    </tr>\n",
       "    <tr>\n",
       "      <th>3</th>\n",
       "      <td>--8LPVSo5i0Oo61X01sV9A</td>\n",
       "      <td>2016-07-08 16:43:30</td>\n",
       "    </tr>\n",
       "    <tr>\n",
       "      <th>4</th>\n",
       "      <td>--9QQLMTbFzLJ_oT-ON3Xw</td>\n",
       "      <td>2010-06-26 17:39:07, 2010-08-01 20:06:21, 2010...</td>\n",
       "    </tr>\n",
       "  </tbody>\n",
       "</table>\n",
       "</div>"
      ],
      "text/plain": [
       "              business_id                                               date\n",
       "0  --1UhMGODdWsrMastO9DZw  2016-04-26 19:49:16, 2016-08-30 18:36:57, 2016...\n",
       "1  --6MefnULPED_I942VcFNA  2011-06-04 18:22:23, 2011-07-23 23:51:33, 2012...\n",
       "2  --7zmmkVg-IMGaXbuVd0SQ  2014-12-29 19:25:50, 2015-01-17 01:49:14, 2015...\n",
       "3  --8LPVSo5i0Oo61X01sV9A                                2016-07-08 16:43:30\n",
       "4  --9QQLMTbFzLJ_oT-ON3Xw  2010-06-26 17:39:07, 2010-08-01 20:06:21, 2010..."
      ]
     },
     "execution_count": 166,
     "metadata": {},
     "output_type": "execute_result"
    }
   ],
   "source": [
    "# Check if I successfully pickled the data\n",
    "pickled_checkindf = pd.read_pickle('/Users/mai/Desktop/yelp_dataset/to_submit/checkindf.pickle')\n",
    "pickled_checkindf.head()"
   ]
  },
  {
   "cell_type": "markdown",
   "metadata": {},
   "source": [
    "# Check the tip file looks like"
   ]
  },
  {
   "cell_type": "code",
   "execution_count": 73,
   "metadata": {
    "ExecuteTime": {
     "end_time": "2019-08-29T16:52:41.971920Z",
     "start_time": "2019-08-29T16:52:41.960277Z"
    }
   },
   "outputs": [],
   "source": [
    "tipjson = '/Users/mai/Desktop/yelp_dataset/tip.json'"
   ]
  },
  {
   "cell_type": "code",
   "execution_count": 74,
   "metadata": {
    "ExecuteTime": {
     "end_time": "2019-08-29T16:52:51.839893Z",
     "start_time": "2019-08-29T16:52:41.980590Z"
    }
   },
   "outputs": [],
   "source": [
    "# Decode JSON\n",
    "with open(tipjson) as f:\n",
    "    tipdata = [json.loads(line) for line in f]\n",
    "tipdf = pd.DataFrame(tipdata)"
   ]
  },
  {
   "cell_type": "code",
   "execution_count": 168,
   "metadata": {
    "ExecuteTime": {
     "end_time": "2019-09-22T11:30:09.037304Z",
     "start_time": "2019-09-22T11:30:07.450990Z"
    }
   },
   "outputs": [],
   "source": [
    "# Pickle results \n",
    "tipdf.to_pickle('tipdf.pickle')"
   ]
  },
  {
   "cell_type": "code",
   "execution_count": 170,
   "metadata": {
    "ExecuteTime": {
     "end_time": "2019-09-22T11:30:41.347972Z",
     "start_time": "2019-09-22T11:30:39.892401Z"
    }
   },
   "outputs": [
    {
     "data": {
      "text/html": [
       "<div>\n",
       "<style scoped>\n",
       "    .dataframe tbody tr th:only-of-type {\n",
       "        vertical-align: middle;\n",
       "    }\n",
       "\n",
       "    .dataframe tbody tr th {\n",
       "        vertical-align: top;\n",
       "    }\n",
       "\n",
       "    .dataframe thead th {\n",
       "        text-align: right;\n",
       "    }\n",
       "</style>\n",
       "<table border=\"1\" class=\"dataframe\">\n",
       "  <thead>\n",
       "    <tr style=\"text-align: right;\">\n",
       "      <th></th>\n",
       "      <th>business_id</th>\n",
       "      <th>compliment_count</th>\n",
       "      <th>date</th>\n",
       "      <th>text</th>\n",
       "      <th>user_id</th>\n",
       "    </tr>\n",
       "  </thead>\n",
       "  <tbody>\n",
       "    <tr>\n",
       "      <th>0</th>\n",
       "      <td>VaKXUpmWTTWDKbpJ3aQdMw</td>\n",
       "      <td>0</td>\n",
       "      <td>2014-03-27 03:51:24</td>\n",
       "      <td>Great for watching games, ufc, and whatever el...</td>\n",
       "      <td>UPw5DWs_b-e2JRBS-t37Ag</td>\n",
       "    </tr>\n",
       "    <tr>\n",
       "      <th>1</th>\n",
       "      <td>OPiPeoJiv92rENwbq76orA</td>\n",
       "      <td>0</td>\n",
       "      <td>2013-05-25 06:00:56</td>\n",
       "      <td>Happy Hour 2-4 daily with 1/2 price drinks and...</td>\n",
       "      <td>Ocha4kZBHb4JK0lOWvE0sg</td>\n",
       "    </tr>\n",
       "    <tr>\n",
       "      <th>2</th>\n",
       "      <td>5KheTjYPu1HcQzQFtm4_vw</td>\n",
       "      <td>0</td>\n",
       "      <td>2011-12-26 01:46:17</td>\n",
       "      <td>Good chips and salsa. Loud at times. Good serv...</td>\n",
       "      <td>jRyO2V1pA4CdVVqCIOPc1Q</td>\n",
       "    </tr>\n",
       "    <tr>\n",
       "      <th>3</th>\n",
       "      <td>TkoyGi8J7YFjA6SbaRzrxg</td>\n",
       "      <td>0</td>\n",
       "      <td>2014-03-23 21:32:49</td>\n",
       "      <td>The setting and decoration here is amazing. Co...</td>\n",
       "      <td>FuTJWFYm4UKqewaosss1KA</td>\n",
       "    </tr>\n",
       "    <tr>\n",
       "      <th>4</th>\n",
       "      <td>AkL6Ous6A1atZejfZXn1Bg</td>\n",
       "      <td>0</td>\n",
       "      <td>2012-10-06 00:19:27</td>\n",
       "      <td>Molly is definately taking a picture with Sant...</td>\n",
       "      <td>LUlKtaM3nXd-E4N4uOk_fQ</td>\n",
       "    </tr>\n",
       "  </tbody>\n",
       "</table>\n",
       "</div>"
      ],
      "text/plain": [
       "              business_id  compliment_count                 date  \\\n",
       "0  VaKXUpmWTTWDKbpJ3aQdMw                 0  2014-03-27 03:51:24   \n",
       "1  OPiPeoJiv92rENwbq76orA                 0  2013-05-25 06:00:56   \n",
       "2  5KheTjYPu1HcQzQFtm4_vw                 0  2011-12-26 01:46:17   \n",
       "3  TkoyGi8J7YFjA6SbaRzrxg                 0  2014-03-23 21:32:49   \n",
       "4  AkL6Ous6A1atZejfZXn1Bg                 0  2012-10-06 00:19:27   \n",
       "\n",
       "                                                text                 user_id  \n",
       "0  Great for watching games, ufc, and whatever el...  UPw5DWs_b-e2JRBS-t37Ag  \n",
       "1  Happy Hour 2-4 daily with 1/2 price drinks and...  Ocha4kZBHb4JK0lOWvE0sg  \n",
       "2  Good chips and salsa. Loud at times. Good serv...  jRyO2V1pA4CdVVqCIOPc1Q  \n",
       "3  The setting and decoration here is amazing. Co...  FuTJWFYm4UKqewaosss1KA  \n",
       "4  Molly is definately taking a picture with Sant...  LUlKtaM3nXd-E4N4uOk_fQ  "
      ]
     },
     "execution_count": 170,
     "metadata": {},
     "output_type": "execute_result"
    }
   ],
   "source": [
    "# Check if I successfully pickled the data\n",
    "pickled_tipdf = pd.read_pickle('/Users/mai/Desktop/yelp_dataset/to_submit/tipdf.pickle')\n",
    "pickled_tipdf.head()"
   ]
  }
 ],
 "metadata": {
  "kernelspec": {
   "display_name": "Python 3",
   "language": "python",
   "name": "python3"
  },
  "language_info": {
   "codemirror_mode": {
    "name": "ipython",
    "version": 3
   },
   "file_extension": ".py",
   "mimetype": "text/x-python",
   "name": "python",
   "nbconvert_exporter": "python",
   "pygments_lexer": "ipython3",
   "version": "3.7.3"
  },
  "toc": {
   "base_numbering": 1,
   "nav_menu": {},
   "number_sections": true,
   "sideBar": true,
   "skip_h1_title": false,
   "title_cell": "Table of Contents",
   "title_sidebar": "Contents",
   "toc_cell": false,
   "toc_position": {},
   "toc_section_display": true,
   "toc_window_display": false
  }
 },
 "nbformat": 4,
 "nbformat_minor": 2
}

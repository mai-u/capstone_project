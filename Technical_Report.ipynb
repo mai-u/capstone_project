{
 "cells": [
  {
   "cell_type": "markdown",
   "metadata": {
    "ExecuteTime": {
     "end_time": "2019-10-01T11:45:39.431727Z",
     "start_time": "2019-10-01T11:45:39.425502Z"
    }
   },
   "source": [
    "<a href=\"https://imgur.com/GuS17Yb\"><img src=\"https://i.imgur.com/GuS17Yb.png\" title=\"source: imgur.com\" /></a>\n",
    "\n",
    "This project was completed during my time at the General Assembly Data Science Immersive course in London."
   ]
  },
  {
   "cell_type": "markdown",
   "metadata": {
    "toc": true
   },
   "source": [
    "<h1>Table of Contents<span class=\"tocSkip\"></span></h1>\n",
    "<div class=\"toc\"><ul class=\"toc-item\"><li><span><a href=\"#Overview\" data-toc-modified-id=\"Overview-1\"><span class=\"toc-item-num\">1&nbsp;&nbsp;</span>Overview</a></span></li><li><span><a href=\"#Motivation\" data-toc-modified-id=\"Motivation-2\"><span class=\"toc-item-num\">2&nbsp;&nbsp;</span>Motivation</a></span></li><li><span><a href=\"#Problem-Statement\" data-toc-modified-id=\"Problem-Statement-3\"><span class=\"toc-item-num\">3&nbsp;&nbsp;</span>Problem Statement</a></span></li><li><span><a href=\"#Objectives\" data-toc-modified-id=\"Objectives-4\"><span class=\"toc-item-num\">4&nbsp;&nbsp;</span>Objectives</a></span></li><li><span><a href=\"#Literature-Review\" data-toc-modified-id=\"Literature-Review-5\"><span class=\"toc-item-num\">5&nbsp;&nbsp;</span>Literature Review</a></span></li><li><span><a href=\"#Hypotheses\" data-toc-modified-id=\"Hypotheses-6\"><span class=\"toc-item-num\">6&nbsp;&nbsp;</span>Hypotheses</a></span></li><li><span><a href=\"#Research-Questions\" data-toc-modified-id=\"Research-Questions-7\"><span class=\"toc-item-num\">7&nbsp;&nbsp;</span>Research Questions</a></span></li><li><span><a href=\"#Research-Steps\" data-toc-modified-id=\"Research-Steps-8\"><span class=\"toc-item-num\">8&nbsp;&nbsp;</span>Research Steps</a></span></li><li><span><a href=\"#Dataset\" data-toc-modified-id=\"Dataset-9\"><span class=\"toc-item-num\">9&nbsp;&nbsp;</span>Dataset</a></span></li><li><span><a href=\"#Data-Cleaning-and-Feature-Engineering\" data-toc-modified-id=\"Data-Cleaning-and-Feature-Engineering-10\"><span class=\"toc-item-num\">10&nbsp;&nbsp;</span>Data Cleaning and Feature Engineering</a></span><ul class=\"toc-item\"><li><span><a href=\"#Step-1.-Loaded-and-transformed-Yelp-data-challenge-datasets-into-Pandas-DataFrames\" data-toc-modified-id=\"Step-1.-Loaded-and-transformed-Yelp-data-challenge-datasets-into-Pandas-DataFrames-10.1\"><span class=\"toc-item-num\">10.1&nbsp;&nbsp;</span>Step 1. Loaded and transformed Yelp data challenge datasets into Pandas DataFrames</a></span></li><li><span><a href=\"#Step-2.-Cleaned-data\" data-toc-modified-id=\"Step-2.-Cleaned-data-10.2\"><span class=\"toc-item-num\">10.2&nbsp;&nbsp;</span>Step 2. Cleaned data</a></span></li><li><span><a href=\"#Step-3.-Generated-new-features\" data-toc-modified-id=\"Step-3.-Generated-new-features-10.3\"><span class=\"toc-item-num\">10.3&nbsp;&nbsp;</span>Step 3. Generated new features</a></span></li><li><span><a href=\"#Step-4.-Subset-dataset-to-only-businesses-in-the-US-who-have-listed-“Restaurant”-or-“Food”-as-a-category-for-the-business\" data-toc-modified-id=\"Step-4.-Subset-dataset-to-only-businesses-in-the-US-who-have-listed-“Restaurant”-or-“Food”-as-a-category-for-the-business-10.4\"><span class=\"toc-item-num\">10.4&nbsp;&nbsp;</span>Step 4. Subset dataset to only businesses in the US who have listed “Restaurant” or “Food” as a category for the business</a></span></li><li><span><a href=\"#Step-5.-Extracted-data-of-restaurants-in-the-US-that-are-classified-as-failed-and-successful\" data-toc-modified-id=\"Step-5.-Extracted-data-of-restaurants-in-the-US-that-are-classified-as-failed-and-successful-10.5\"><span class=\"toc-item-num\">10.5&nbsp;&nbsp;</span>Step 5. Extracted data of restaurants in the US that are classified as failed and successful</a></span></li><li><span><a href=\"#Step-6.-Joined-different-data-sets-and-created-new-ones\" data-toc-modified-id=\"Step-6.-Joined-different-data-sets-and-created-new-ones-10.6\"><span class=\"toc-item-num\">10.6&nbsp;&nbsp;</span>Step 6. Joined different data sets and created new ones</a></span></li></ul></li><li><span><a href=\"#Exploratory-Data-Analysis\" data-toc-modified-id=\"Exploratory-Data-Analysis-11\"><span class=\"toc-item-num\">11&nbsp;&nbsp;</span>Exploratory Data Analysis</a></span></li><li><span><a href=\"#Model-Selection\" data-toc-modified-id=\"Model-Selection-12\"><span class=\"toc-item-num\">12&nbsp;&nbsp;</span>Model Selection</a></span></li><li><span><a href=\"#Evaluation-Methods\" data-toc-modified-id=\"Evaluation-Methods-13\"><span class=\"toc-item-num\">13&nbsp;&nbsp;</span>Evaluation Methods</a></span></li><li><span><a href=\"#Findings\" data-toc-modified-id=\"Findings-14\"><span class=\"toc-item-num\">14&nbsp;&nbsp;</span>Findings</a></span><ul class=\"toc-item\"><li><span><a href=\"#Summary\" data-toc-modified-id=\"Summary-14.1\"><span class=\"toc-item-num\">14.1&nbsp;&nbsp;</span>Summary</a></span></li><li><span><a href=\"#Question-1.-Are-customers’-perceptions-correlated-to-future-success?-If-so,-what-features-are-important-to-becoming-a-successful-restaurant?\" data-toc-modified-id=\"Question-1.-Are-customers’-perceptions-correlated-to-future-success?-If-so,-what-features-are-important-to-becoming-a-successful-restaurant?-14.2\"><span class=\"toc-item-num\">14.2&nbsp;&nbsp;</span>Question 1. Are customers’ perceptions correlated to future success? If so, what features are important to becoming a successful restaurant?</a></span></li><li><span><a href=\"#Question-2.-Are-business-attributes-and-ambience-features-correlated-to-future-success?-If-so,-what-did-successful-restaurants-do?\" data-toc-modified-id=\"Question-2.-Are-business-attributes-and-ambience-features-correlated-to-future-success?-If-so,-what-did-successful-restaurants-do?-14.3\"><span class=\"toc-item-num\">14.3&nbsp;&nbsp;</span>Question 2. Are business attributes and ambience features correlated to future success? If so, what did successful restaurants do?</a></span></li><li><span><a href=\"#Question-3.-Did-successful-restaurants-get-different-reviews-from-those-that-failed?-If-so,-what-differentiates-successful-from-failure?\" data-toc-modified-id=\"Question-3.-Did-successful-restaurants-get-different-reviews-from-those-that-failed?-If-so,-what-differentiates-successful-from-failure?-14.4\"><span class=\"toc-item-num\">14.4&nbsp;&nbsp;</span>Question 3. Did successful restaurants get different reviews from those that failed? If so, what differentiates successful from failure?</a></span></li></ul></li><li><span><a href=\"#Conclusions\" data-toc-modified-id=\"Conclusions-15\"><span class=\"toc-item-num\">15&nbsp;&nbsp;</span>Conclusions</a></span><ul class=\"toc-item\"><li><span><a href=\"#To-my-clients\" data-toc-modified-id=\"To-my-clients-15.1\"><span class=\"toc-item-num\">15.1&nbsp;&nbsp;</span>To my clients</a></span></li><li><span><a href=\"#To-technical-audience\" data-toc-modified-id=\"To-technical-audience-15.2\"><span class=\"toc-item-num\">15.2&nbsp;&nbsp;</span>To technical audience</a></span></li></ul></li><li><span><a href=\"#Limitation\" data-toc-modified-id=\"Limitation-16\"><span class=\"toc-item-num\">16&nbsp;&nbsp;</span>Limitation</a></span></li><li><span><a href=\"#Future-Recommendation\" data-toc-modified-id=\"Future-Recommendation-17\"><span class=\"toc-item-num\">17&nbsp;&nbsp;</span>Future Recommendation</a></span></li></ul></div>"
   ]
  },
  {
   "cell_type": "markdown",
   "metadata": {
    "ExecuteTime": {
     "end_time": "2019-10-01T09:25:57.236464Z",
     "start_time": "2019-10-01T09:25:57.227910Z"
    }
   },
   "source": [
    "## Overview\n",
    "------"
   ]
  },
  {
   "cell_type": "markdown",
   "metadata": {},
   "source": [
    "Through my analysis of Yelp data, I aim to identify **common traits which are predictive of restaurant success and failure**, and to **use these insights to help new restaurants achieve success**.\n",
    "\n",
    "I performed various statistical learning models including regression and classification predictive modeling, sentiment analysis, and natural language processing. I created classification models that predicted future outcomes for restaurants with 75% accuracy. Actionable insights were extracted from the dataset through statistical analysis, identifying risks and opportunities for a restaurant owner and proposing new ideas. "
   ]
  },
  {
   "cell_type": "markdown",
   "metadata": {},
   "source": [
    "## Motivation\n",
    "------"
   ]
  },
  {
   "cell_type": "markdown",
   "metadata": {},
   "source": [
    "This project started with a conversation with friends. One of my friends is a business owner of a restaurant in the US who is interested in opening a new restaurant. The other is interested in investing in restaurants. They believe ratings and customer perception are critical, but they lack the tools to determine the key variables in generating strong ratings and customer sentiment."
   ]
  },
  {
   "cell_type": "markdown",
   "metadata": {},
   "source": [
    "## Problem Statement\n",
    "------"
   ]
  },
  {
   "cell_type": "markdown",
   "metadata": {},
   "source": [
    "It is not easy for restaurants to survive - **60%** of all restaurants close **before their third anniversary,** and **80%** **before their fifth**. However, it is often the case that restaurant owners and investors rely on their/others’ experiences and anecdotal evidence rather than a data-driven approach to decision making.\n",
    "\n",
    "They would like to know if machine learning can be useful in accurately predicting future business success as well as determining which key attributes and business practices lead to success, as well as failure."
   ]
  },
  {
   "cell_type": "markdown",
   "metadata": {
    "ExecuteTime": {
     "end_time": "2019-10-01T11:44:18.987836Z",
     "start_time": "2019-10-01T11:44:18.981287Z"
    }
   },
   "source": [
    "## Objectives\n",
    "------"
   ]
  },
  {
   "cell_type": "markdown",
   "metadata": {},
   "source": [
    "I defined research objectives as the following:\n",
    "\n",
    "1.  Predict the probability that a business will be closed in the near future\n",
    "2.  Identify good business practices\n",
    "3.  Create a tool that can help restaurant owners improve their likelihood of success\n",
    "\n",
    "For the purpose of this capstone, the success or performance of a restaurant is considered to be the survival after three years due to the resource availability and limited time. The feature is generated based on the business status information which shows whether the restaurant is closed or open."
   ]
  },
  {
   "cell_type": "markdown",
   "metadata": {},
   "source": [
    "## Literature Review\n",
    "------"
   ]
  },
  {
   "cell_type": "markdown",
   "metadata": {},
   "source": [
    "Yelp Dataset has become an accessible resource for predicting the success and failure of restaurants.\n",
    "\n",
    "[1] Feng, Kitade and Ritter considered that restaurants with more than 37 reviews and at least 3.5 stars on Yelp tend to be successful. They used various prediction models from logistic regression to SVM and they concluded that:\n",
    "-   Neural network model was the best\n",
    "-   Restaurants with incomplete features tend to be less successful.\n",
    "\n",
    "[2] Camillo, Connolly and Kim focused on the independent restaurant operators in the San Francisco Bay Area. They filtered out chain restaurants based on the frequency of restaurant names. The study determined that the operational factors and emotional factors are both related to restaurant success\n",
    "\n",
    "[3] Kong, Nguyen and Xu used classification models such as Naive Bayes, SVM, decision trees and natural language processing methods to:\n",
    "-   Predict restaurant success\n",
    "-   Identify the most informative features from review texts\n",
    "-   Identify the key features of people in different countries and their dining experience\n",
    "    \n",
    "\n",
    "[4] Wang, Zeng and Zhang aimed to predict new restaurant success and ratings by utilizing a variety of multi-class and binary classification models. They also conducted a sentiment analysis on restaurant reviews to improve accuracy. They determined that the sentiment analysis contributed to better accuracy of classification and demonstrated that food quality\n",
    "\n",
    "**References**\n",
    "- [1] Feng, Jason., Kitade, Naho., & Ritter, Matthew. (2015) Determining Restaurant Success or Failure.\n",
    "- [2] Camillo, A. A., Connolly, Daniel J., & Kim, W. G. (2008) Success and Failure in Northern California\n",
    "- [3] Kong, Angela., Nguyen, Vivian., & Xu, Catherina. (2016) Predicting International Restaurant Success with Yelp\n",
    "- [4] Wang, Aileen., Zeng, William., & Zhang, Jessica. (2016) Predicting New Restaurant Success and Rating with Yelp"
   ]
  },
  {
   "cell_type": "markdown",
   "metadata": {},
   "source": [
    "## Hypotheses\n",
    "------"
   ]
  },
  {
   "cell_type": "markdown",
   "metadata": {},
   "source": [
    "My hypothesis is that **peoples' perceptions are significantly predictive of business success**:\n",
    "-   Businesses with good ratings tend to be successful, and businesses with bad ratings remain open for a shorter time than the businesses with good or above average ratings.\n",
    "-   If ratings are not predictive of success, business success is related to competitive advantages involving business attributes, service, and ambience that make them preferred choice of customers within a market.\n",
    "   \n",
    "In addition to verifying this hypothesis, I would like to provide relevant insights to business owners/investors to help them achieve future business success."
   ]
  },
  {
   "cell_type": "markdown",
   "metadata": {},
   "source": [
    "## Research Questions\n",
    "------"
   ]
  },
  {
   "cell_type": "markdown",
   "metadata": {
    "ExecuteTime": {
     "end_time": "2019-10-01T11:22:47.842600Z",
     "start_time": "2019-10-01T11:22:47.836826Z"
    }
   },
   "source": [
    "<a href=\"https://imgur.com/sNXk6NQ\"><img src=\"https://i.imgur.com/sNXk6NQ.png\" title=\"source: imgur.com\" /></a>\n",
    "\n",
    "-------\n",
    "**Question 1. : Are customers’ perceptions correlated to future success? If so, what features are important to becoming a successful restaurant?**\n",
    "\n",
    "My prediction is that models will not be accurate in predicting business success based on star ratings since each person defines star ratings differently. Thus, in addition to star rating information, I would use sentiment scores per review. However, there are still many other factors that can cause good businesses to close or bad businesses to remain open. Thus, if the first hypothesis fails, I would like to test the second hypothesis.\n",
    "\n",
    "**Question 2. Are business attributes and ambience features correlated to future success? If so, what did successful restaurants do?**\n",
    "\n",
    "I believe that, if the features of a business have a great impact on how a business is rated, this information can be used to predict business success significantly.\n",
    "\n",
    "**Question 3. Did successful restaurants get different reviews from those that failed? If so, what differentiates successful from failure?**\n",
    "\n",
    "Although it could  turn out that sentiment scores and star ratings are not relevant to business success, I would still believe that online customer reviews are essential in helping consumers make decisions and restaurants understand what customers think about a business. Therefore, it is also interesting to see whether consumer reviews can give interesting insights to business owners/investors to achieve future business success."
   ]
  },
  {
   "cell_type": "markdown",
   "metadata": {},
   "source": [
    "## Research Steps\n",
    "------"
   ]
  },
  {
   "cell_type": "markdown",
   "metadata": {},
   "source": [
    "-   **Part 1: Pitch and Problem Statement** - Define the problem statement, potential audience, goals, success metrics, and data sources.\n",
    "-   **Part 2: Dataset and Data Collection** - Source and format the required data for the project, perform preliminary data munging and cleaning of the data. Describe the data-keeping my intended audience in mind.\n",
    "-   **Part 3: EDA and Preliminary Analysis** - Quantitatively describe and visualize the data, maintain perspective on the goals and scope accordingly.\n",
    "-   **Part 4: Data Modeling** - Create models that accurately predict future outcomes for restaurants. Identify business practices that influence restaurants success and failure. Identify the key focus areas that restaurants should be focused on. Evaluate model performance and discuss results.\n",
    "-   **Part 5: Presentation** - Prepare a presentation of my project for a non-technical audience. Cover goals, success criteria, data, approach, basic description of model, findings, risks/limitations, impact, next steps, and conclusions."
   ]
  },
  {
   "cell_type": "markdown",
   "metadata": {},
   "source": [
    "## Dataset\n",
    "------"
   ]
  },
  {
   "cell_type": "markdown",
   "metadata": {},
   "source": [
    "I used publicly available data on Yelp from 2005 to 2018. I downloaded JSON files which contain:\n",
    "-   Information on **1.6M users**    \n",
    "-   **200+ attribute and ambience information** on **200K businesses**\n",
    "-   Reviews (**7+M**)\n",
    "-   Check-ins and Tips (**3+M**)\n",
    "  \n",
    "The datasets were prepared by [Yelp](https://www.yelp.com/dataset/challenge) in JSON format to let students use their data for their projects. The dataset is stored in 5 files of JSON format. Each file was composed of a single object type - one-JSON-object per line.\n",
    "\n",
    "I loaded and transformed Yelp data challenge datasets into Pandas DataFrames:\n",
    "-   **Users** include user information from registered users on Yelp. It contains reviews per user, number of useful reviews they posted, type of reviews, etc.\n",
    "-   **Review** include reviews submitted by customers about the business\n",
    "-   **Checkin** include check-in times of customers at given business store\n",
    "-   **Tip** include tips per business id\n",
    "    \n",
    "Business contain attributes of business listed on Yelp such as categories (e.g. good for lunch), city info, hours, location and Yelp stars. These columns are consistent with Yelp.com."
   ]
  },
  {
   "cell_type": "markdown",
   "metadata": {},
   "source": [
    "## Data Cleaning and Feature Engineering\n",
    "------"
   ]
  },
  {
   "cell_type": "markdown",
   "metadata": {},
   "source": [
    "I defined the data cleaning process as following:"
   ]
  },
  {
   "cell_type": "markdown",
   "metadata": {
    "ExecuteTime": {
     "end_time": "2019-10-01T12:46:11.688445Z",
     "start_time": "2019-10-01T12:46:11.681944Z"
    }
   },
   "source": [
    "### Step 1. Loaded and transformed Yelp data challenge datasets into Pandas DataFrames"
   ]
  },
  {
   "cell_type": "markdown",
   "metadata": {},
   "source": [
    "<a href=\"https://imgur.com/qXaVmKw\"><img src=\"https://i.imgur.com/qXaVmKw.png\" title=\"source: imgur.com\" /></a>"
   ]
  },
  {
   "cell_type": "markdown",
   "metadata": {},
   "source": [
    "### Step 2. Cleaned data"
   ]
  },
  {
   "cell_type": "markdown",
   "metadata": {
    "ExecuteTime": {
     "end_time": "2019-10-01T11:53:03.484945Z",
     "start_time": "2019-10-01T11:53:03.476037Z"
    }
   },
   "source": [
    "After converting JSON files to Pandas DataFrames, the attribute and category columns were expanded into boolean features since these were a collection of a string of a dictionary. As for the attribute column, these had all been compressed into a single column. Thus, these needed to be flattened and extracted as their own fields. Category columns were also flattened since it was a list. This was converted to character for easier analysis.\n",
    "\n",
    "Example (Attribute column): \n",
    "<a href=\"https://imgur.com/aLXMAqM\"><img src=\"https://i.imgur.com/aLXMAqM.png\" title=\"source: imgur.com\" width=\"500\" height=\"40\" /></a>\n",
    "\n",
    "Example (Category column): \n",
    "<a href=\"https://imgur.com/05CgBuS\"><img src=\"https://i.imgur.com/05CgBuS.png\" title=\"source: imgur.com\" width=\"500\" height=\"40\"/></a>\n",
    "\n",
    "In addition to the column expansion, I dropped several columns and rows that were unnecessary for further analysis from DataFrames. It is also noteworthy that the data set has many missing values. However, I assigned them a unique category not to avoid the loss of important information (e.g. if a restaurant does not contain information on ‘foodtype_sandwich’, it means it does not serve sandwiches)."
   ]
  },
  {
   "cell_type": "markdown",
   "metadata": {},
   "source": [
    "### Step 3. Generated new features"
   ]
  },
  {
   "cell_type": "markdown",
   "metadata": {},
   "source": [
    "I expanded the deeply nested dictionaries in 'business attribute' column and created additional columns based on the keys in the dictionary.\n",
    "\n",
    "Data enrichment was performed by:\n",
    "-   Expanding the deeply nested dictionaries in 'business attribute' column and creating additional columns based on the keys in the dictionary. If certain restaurant had these keywords in its category such as 'Ambience' field, the corresponding feature value would become 1 instead of initial value 0\n",
    "-   Using different columns in different datasets\n",
    "    \n",
    "In addition to the information extracted from websites, I generated the below metrics:\n",
    "-   **Review count per business**:\n",
    "\t-   It was hypothesized that restaurants with more review counts would be more popular and have more guests, which could make it less likely to shut down.  I calculated the total review count for each restaurant and used the number as a feature. Initially, I only used total review counts and dummified. However, when these appeared as one of the top features on the coefficient value list, it was not clear how the information was related to business success. Thus, I created classes for the features by using pandas.qcut: Low, Medium and High\n",
    "-   **Check-in count per business**:\n",
    "\t-   Same reason as review count per business\n",
    "-   **Operating years**:\n",
    "    -   This column is to create predictions and extract successful and failed restaurants from the datasets.\n",
    "-   **Category and Food Type**:\n",
    "\t-   It was hypothesized that some kinds of restaurants would be more welcomed and restaurants with more characteristics would be more popular than others."
   ]
  },
  {
   "cell_type": "markdown",
   "metadata": {},
   "source": [
    "### Step 4. Subset dataset to only businesses in the US who have listed “Restaurant” or “Food” as a category for the business"
   ]
  },
  {
   "cell_type": "markdown",
   "metadata": {},
   "source": [
    "The business dataset was reduced to businesses that had “Restaurant” or “Food” in the category. Observations that had other 'non-restaurant' categories, such as 'hair salon' were removed. After reducing the business dataset, I extracted review and check-in information for businesses that existed in the reduced business dataset. Additionally, businesses outside the US were removed."
   ]
  },
  {
   "cell_type": "markdown",
   "metadata": {},
   "source": [
    "### Step 5. Extracted data of restaurants in the US that are classified as failed and successful"
   ]
  },
  {
   "cell_type": "markdown",
   "metadata": {
    "ExecuteTime": {
     "end_time": "2019-10-01T12:47:44.259150Z",
     "start_time": "2019-10-01T12:47:44.252025Z"
    }
   },
   "source": [
    "“is_open” data in the business dataset is the attribute used to annotate whether the business is open or not. Those which were open at the time of the dataset release date were marked as 1, and those which were closed were marked as 0. I used this to extract successful and failed restaurant information"
   ]
  },
  {
   "cell_type": "markdown",
   "metadata": {},
   "source": [
    "### Step 6. Joined different data sets and created new ones"
   ]
  },
  {
   "cell_type": "markdown",
   "metadata": {},
   "source": [
    "All the datasets include a business_id field that corresponds to a specific restaurant name; thus these could be connected on the id information. To answer the research questions, I created several datasets which would drive my models: \n",
    "- Customer perception dataset (4M rows x 10+ columns)\n",
    "\t- Reviews \n",
    "\t- Star ratings per review\n",
    "\t- Sentiment scores per review\n",
    "- Business attribute and ambience data (60K rows x 250+ columns)\n",
    "\t- Restaurant and food store information only\n",
    "    \n",
    "\n",
    "In summary, I began with 192,608 businesses, 6,685,902 reviews, 713,088 check-ins. After extracting data in restaurant or food categories, I was left with **57,484 business attribute information, 4,003,375 reviews and other relevant information extracted from check-in, user and tip datasets**."
   ]
  },
  {
   "cell_type": "markdown",
   "metadata": {},
   "source": [
    "## Exploratory Data Analysis\n",
    "------"
   ]
  },
  {
   "cell_type": "markdown",
   "metadata": {},
   "source": [
    "It was identified that the majority of analysis would be performed on the “business” dataset, as this holds the information about the characteristics of restaurants.\n",
    "\n",
    "-   **Location**:  The information in the dataset did not cover all states. It seems it was edited by the Yelp team before publishing on their Data Set Challenge page.    \n",
    "-   **Business status**:  52% of the dataset can be classified as 'successful' and 25% can be used for 'failed'. Data of restaurants that are active for less than three years are not used for this capstone project.\n",
    "-   **Price range**: Most of the restaurants included in the dataset are $-$$ price range, considered as cheap options. I was expecting to find evenly distributed results across the price range. Thus, it was necessary to focus on analysing more inexpensive restaurants.\n",
    "-   **Checkin and review count**:  I thought it would be more distributed, but it seems that the majority of restaurants have less than 1,000 check-ins or reviews.\n",
    "-   **Star distribution**: The restaurant star ratings were not uniformly distributed. About 50% of the restaurants were rated as 3.5-4 stars.\n",
    "-   **Cuisine**: Business attribute column included 20+ different cuisine types. American, Mexican and Italian are most common.\n",
    "-   **Food type**: Since most of the restaurants are classified in a cheaper price range, sandwiches, coffee & tea, and pizza are most common.\n",
    "\n",
    "<a href=\"https://imgur.com/EGw5nr9\"><img src=\"https://i.imgur.com/EGw5nr9.png\" title=\"source: imgur.com\" /></a>"
   ]
  },
  {
   "cell_type": "markdown",
   "metadata": {
    "ExecuteTime": {
     "end_time": "2019-10-01T09:27:47.416150Z",
     "start_time": "2019-10-01T09:27:47.409834Z"
    }
   },
   "source": [
    "## Model Selection\n",
    "------"
   ]
  },
  {
   "cell_type": "markdown",
   "metadata": {},
   "source": [
    "Since it is a binary classification problem (1 as successful and 0 as failed), I selected the following classifiers for question 1 and 2 and trained models based on features available in the dataset:\n",
    "\n",
    "1.  Logistic Regression with a Ridge penalty\n",
    "2.  Logistic Regression with a Lasso penalty\n",
    "3.  GridsearchCV on Logistic Regression\n",
    "4.  K-Nearest Neighbours Classifier\n",
    "5.  Ada Boost Classifier\n",
    "6.  Gradient Boosting Classifier\n",
    "7.  Decision Tree Classifier\n",
    "8.  GridsearchCV on Decision Tree Classifier\n",
    "9.  Support Vector Machine\n",
    " \n",
    "I aimed to show the likelihood of success to restaurant owners by using predict_proba of classification models since the function returns the probability for each outcome class as a value between 0 and 1. In addition to the above, I used Natural Language Processing (Count Vectorization with scikit-learn) to extract good business practices for question 3."
   ]
  },
  {
   "cell_type": "markdown",
   "metadata": {},
   "source": [
    "## Evaluation Methods\n",
    "------"
   ]
  },
  {
   "cell_type": "markdown",
   "metadata": {},
   "source": [
    "To evaluate models, I used:\n",
    "-   **Baseline**: To identify the minimum score that I should achieve with my models\n",
    "-   **Accuracy** train score: To find how well my model learned from training data and overfitting problems\n",
    "-   **Accuracy test score**: To verify the model performance on test data which was prepared to see how well it can predict new answers based on its training\n",
    "-   **Mean cross-validation score**: To estimate the accuracy skill of the model on out-of-sample/new data\n",
    "\n",
    "I decided to calculate two additional metrics to identify how useful my classification models were:\n",
    "-   **Precision score**: To find how precise the classifier was when predicting positive instances\n",
    "-   **Recall score**: When the actual value is positive, how often the prediction was correct?s"
   ]
  },
  {
   "cell_type": "markdown",
   "metadata": {},
   "source": [
    "## Findings\n",
    "------"
   ]
  },
  {
   "cell_type": "markdown",
   "metadata": {},
   "source": [
    "### Summary\n",
    "\n",
    "Text features failed to have significant indications for the future success of the restaurant, while non-text features, especially business features, have a strong correlation to future restaurant performance. Classification models predicted future success with 75% accuracy. Additionally, I identified customer experience topics that lead to a positive or negative experience, which are valuable insights for restaurant owners and investors. "
   ]
  },
  {
   "cell_type": "markdown",
   "metadata": {
    "ExecuteTime": {
     "end_time": "2019-10-01T12:19:29.261965Z",
     "start_time": "2019-10-01T12:19:29.247919Z"
    }
   },
   "source": [
    "### Question 1. Are customers’ perceptions correlated to future success? If so, what features are important to becoming a successful restaurant?\n",
    "\n",
    "A research published by Harvard University indicates that positive reviews and a one-star increase contributed to a 5-9% increase in revenue of independent restaurants. Since each person defines star ratings differently, I used sentiment scores per review to identify positive/negative reviews in addition to star rating information. Therefore, sentiment scores obtained from reviews and star rating valuable could be valuable in predicting business success. \n",
    "\n",
    "To predict the successfulness of a business based on the star rating and average sentiment scores of reviews per restaurant, I built:\n",
    "- Logistic Regression Classifiers\n",
    "- Support Vector Machine\n",
    "- Random Forest\n",
    "\n",
    "**First Trial**: To generate text features, I grouped all reviews by “business_id” and concatenated same restaurant review into one field to create a column of average sentiment scores per restaurant. However, I failed to finish creating the set of reviews overnight due to the large size of the dataset. \n",
    "\n",
    "**Second Trial**: I decided to reduce the size of the dataset and therefore improve compute times. Although I finished running the Logistic Regression models in a much shorter time, the list of coefficient values was not clear enough to obtain insights. The scores on the evaluation metrics were almost the same as the baseline. \n",
    "\n",
    "**Third Trial**: To improve the model performance and get better insights, I grouped the check-in and review information into different categories by using pandas.qcut: high, medium, and low. This was helpful to analyse if there are any specific factors that might be strongly correlated with business success. Additionally, I applied Support Vector Machine (SVM) to the dataset as it was an outlier free dataset and SVM usually works well in a low dimensional problem set. However, SVM (svm.SVC(C=1.0, kernel='poly', degree=3, gamma='scale', probability=True) consumed more computational power than other classification models thus I did not try parameter tuning in SVM and decided to try Random Forest.  \n",
    "\n",
    "**Results and Findings:**\n",
    "It turned out that the test and mean cross-validation scores of any models were almost the same as baseline. Also, I found that the sentiment feature groups are not significantly related to the prediction - the coefficient values turned out to be too sparse, which means that my models did not catch important information to predict business success. It implies that star rating and sentiment did no help in predicting the success of the restaurant. It leads to the conclusion that restaurants with low review stars and sentiment scores were not necessarily more likely to shut down. \n",
    "\n",
    "Below are the results of the third trial:\n",
    "<a href=\"https://imgur.com/MOic32f\"><img src=\"https://i.imgur.com/MOic32f.png\" title=\"source: imgur.com\" /></a>"
   ]
  },
  {
   "cell_type": "markdown",
   "metadata": {},
   "source": [
    "### Question 2. Are business attributes and ambience features correlated to future success? If so, what did successful restaurants do? \n",
    "\n",
    "The second stage focused on non-text features. Unlike text features which were generated from review texts, non-text features were more like statistical data generated mainly from business attribute information. I wanted to use these features to describe a restaurant success in a more objective way.\n",
    "I aimed to achieve two goals on this stage:\n",
    "- Create a prediction model that allow restaurant owners and investors to predict how successful a restaurant is/would be based on its non-text features\n",
    "- Identify attributes that seem to result in business success.\n",
    "\n",
    "---\n",
    "**Feature Selection:**\n",
    "\n",
    "The dataset was too large to be handled in python on my laptop, so I created a sample dataset by using ‘.sample()’. Instead of using a sample dataset, I could have reduced dimensionality by using Principal Component Analysis (PCA) which picks the components that can explain the maximum variance in the dataset. The reasons why I avoided using it are (1) PCA may not work so well if all the 200+ categorical variables are strongly non-linear and (2) Results are often difficult to interpret and not always the best for visualization. \n",
    "\n",
    "Another option was to separate the numerical and categorical variables and remove the correlated variables. For example, I could use correlation for numerical variables and chi-square test for categorical variables. Alternatively, I could apply my business understanding to estimate which predictors can impact the response variable. However, I worried that I would fail to identify useful predictors might result in significant loss of information so that I decided to:\n",
    "- Use penalized regression models like ridge or lasso regression\n",
    "- Use Random Forest and Xgboost and plot variable importance chart if the models work well\n",
    "- Keep all categorical variables but remove:\n",
    "- Numerical variables (e.g. latitudes) which are not necessary to answer my research question\n",
    "- Columns used to create the target variable, such as ‘estimated operating years’\n",
    "- ‘insurance acceptance’ which was primarily created for hospitals and dentists\n",
    "\n",
    "(There were no variables that have correlation above 75% (deciding a threshold was subjective).\n",
    "\n",
    "---\n",
    "**Data Preparation**:\n",
    "\n",
    "For validation purposes, I used stratified sampling instead of random sampling since it does not take into consideration the proportion of target classes. On the other hand, stratified sampling kept the distribution of the target variable in the datasets. \n",
    "\n",
    "---\n",
    "**Model Selection**:\n",
    "\n",
    "To classify restaurants into two groups (successful and failed) by supervised learning. Also, I aimed to identify and understand the common business attributes within each of the group by reading the list of coefficient values or feature importance of the best performing model. The models used to answer this research question are:\n",
    "- Logistic Regression with a Ridge penalty\n",
    "- Logistic Regression with a Lasso penalty\n",
    "- GridsearchCV on Logistic Regression\n",
    "- Decision Tree Classifier\n",
    "- Gridsearch on Decision Tree Classifier\n",
    "- K-Nearest Neighbors Classifier\n",
    "- Ada Boost Classifier\n",
    "- Gradient Boosting Classifier\n",
    "- Support Vector Machine (SVM)\n",
    "\n",
    "I aimed to build a model that can be deployed, therefore I first focused on **regression or decision tree models** instead of black-box algorithms such as **SVM and Gradient Boost Models**, the results of which are considered difficult to interpret and explain.\n",
    "\n",
    "I started with a **Logistic Regression with a Ridge penalty** which included all of the features in the model and prevents overfitting. It returned higher scores on evaluation metrics than the baseline. However, the coefficient table showed that it posed computational challenges and did not get rid of irrelevant features. Then I used a **Logistic Regression with a Lasso penalty**. The model was suitable for this research question as it seeks to push the coefficients for many variables to zero. It also reduces model complexity, so that the model can become better at predicting and generalising. Additionally, I used **GridsearchCV on Logistic Regression** to make sure if there was a better parameter I could use to get better scores. \n",
    "\n",
    "I used a **Decision Tree Classifier** which also makes feature selection happen automatically and prevent unimportant features from influencing the result. It returned train accuracy of 96%, test accuracy of 69%, cross-validation score of 69%. Hence, when this classifier was run on unseen data, it did not find these patterns and returned predictions with more errors. To improve the model's performance, I also implemented **GridsearchCV on Decision Tree** to find the best parameters. \n",
    "\n",
    "I also used a **K-Nearest Neighbours Classifier (KNN)** to see if returned higher accuracy scores. I thought it would be useful, because it was not easy to make assumptions about the 200+ categorical variables and, in the real world, most of the data does not obey the typical theoretical assumptions made. However, the testing phase of KNN was computationally expensive and it is considered sensitive to irrelevant features and the scale of data. It returned the second lowest cross-validation score. \n",
    "\n",
    "In effort to improve accuracy I used **ensemble learning algorithms**, which are built combining weak uncorrelated models increasing the weights/importance of misclassified observations on each iteration to obtain better predictions.  I started with an **Ada Boost Classifier** which is known to robust a strong classifier by ensuring the accurate predictions of unusual observations and minimizing training error. Followed by a **Gradient Boosting classifier** which differs by fitting the new predictor to the residual errors made by the previous predictor. In this situation, a bagging classifier like Random Forest would be inefficient with the number of features.\n",
    "\n",
    "Lastly, I built a **Support Vector Machine (SVM) classifier**, though I understand that SVM is not suitable for the classification of large datasets since the training complexity is significantly dependent on the dataset size. After tuning the gamma parameter several times, I found that SVM did not drastically improve the evaluation scores. Thus, I stopped modifying an algorithm here.  \n",
    "\n",
    "---\n",
    "**Results and Findings**: \n",
    "\n",
    "As we can see from below, non-text features contributed most of the accuracy. Comparing the classifiers, eight out of ten classification models achieved similar scores on evaluation metrics. Except Decision Tree Classifier, the results from train sets and test sets are quite close for different models. \n",
    "\n",
    "<a href=\"https://imgur.com/vWCprkX\"><img src=\"https://i.imgur.com/vWCprkX.png\" title=\"source: imgur.com\" /></a>\n",
    "\n",
    "---\n",
    "**Important categories for business success**:\n",
    "\n",
    "Inside of non-text features, business feature groups are the most important one. This means that feature groups under business ambience category are significant for predicting the open of restaurants. Total check-in count, total review count, and are the top three most important categories for business success. \n",
    "\n",
    "I generated **'checkin_count'** and **'review_count’** features to try to see if the popularity of the restaurant affects its future success. It turned out to be true: check-in and review counts are the most correlated to business success. Many business owners think Yelp as an advertising platform and customers believe it as a platform where they can check the business information as well as quality. Thus, it is easily expected that having more check-ins and reviews would be critical for business survival.\n",
    "\n",
    "Those who offer **fast food**, **take-out food**, **breakfast**, **sandwiches** and **pizza** tend to be successful. It might be because the profit margin is higher and human resource cost might be cheaper than other food types. Another remarkable feature is **parking availability** and **drive-thru**. Since car and mobility are essentially synonymous with modern American life, the availability of parking is essential. Similar reason to **fast food**, those offering **dinner** might have a higher survival rate since drinks and beverages have a higher profit margin. **Happy Hours** are a hugely successful sales and marketing strategy that has thrived for a long time. **Wifi** features seem interesting - I guess it is important to show WiFi availability on the internet.\n",
    "\n",
    "It is also noteworthy that physical attributes such as whether the business has parking or offers fast food will have more of an impact than atmospheric variables such as whether or not the business is romantic.\n",
    "\n",
    "<a href=\"https://imgur.com/KlRXoQI\"><img src=\"https://i.imgur.com/KlRXoQI.png\" title=\"source: imgur.com\" /></a>\n",
    "\n",
    "---\n",
    "**Features correlated to business failure**:\n",
    "\n",
    "This table might help restaurant owners and investors avoid or improve the wrong features. With the knowledge of possible future relevance, the business owner might put a higher effort into the relevant sectors.\n",
    "\n",
    "It turned out that **credit card acceptance**, **group booking**, **reservation systems**, and **outdoor seating** are negatively correlated to business success. My hypothesis is:\n",
    "- Restaurants that accept credit cards tend to fail. The truth may be that the payment of commissions and transaction fees make it difficult to survive for small restaurants operating at tight margins\n",
    "- Reservation system fee might be expensive for small businesses.\n",
    "- Restaurants with outdoor seating might pay higher rent than those without it; thus it makes the profit margin smaller\n",
    "- People tend to spend less money on food but stay long hours while enjoying conversations. This could be applied to the negative correlation of ‘HasTV True’. \n",
    "\n",
    "Lastly, some restaurant categories are negatively impacting on business success. It seems business owners and investors should avoid popular cuisines and expensive dishes for better success rate.\n",
    "<a href=\"https://imgur.com/9c8Rjle\"><img src=\"https://i.imgur.com/9c8Rjle.png\" title=\"source: imgur.com\" /></a>\n",
    "\n",
    "---\n",
    "**Coefficient values per category**:\n",
    "\n",
    "It would be interesting for business owners and investors to see the values per category. For example, when considering ambience, the below table shows that an upscale atmosphere is more correlated to success than others and that owners and investors should avoid casual/trendy/hipster/intimate options.\n",
    "<a href=\"https://imgur.com/MMpmxYc\"><img src=\"https://i.imgur.com/MMpmxYc.png\" title=\"source: imgur.com\" /></a>"
   ]
  },
  {
   "cell_type": "markdown",
   "metadata": {
    "ExecuteTime": {
     "end_time": "2019-10-01T12:22:29.142588Z",
     "start_time": "2019-10-01T12:22:29.134563Z"
    }
   },
   "source": [
    "### Question 3. Did successful restaurants get different reviews from those that failed? If so, what differentiates successful from failure?\n",
    "\n",
    "The third stage focused on text features. By implementing natural language processing, I aimed to find valuable insights for restaurant owners and investors to become successful. \n",
    "\n",
    "Hypotheses are:\n",
    "- When customers talk positively about a restaurant, they comment about food\n",
    "- When they do so negatively, they mention about the customer service\n",
    "\n",
    "To justify the hypothesis, I used star rating and sentiment scores. Though they were predictive of restaurant success - I still believe that restaurant owners and investors can:\n",
    "- Learn from reviews by analyzing frequently used positive and negative review words\n",
    "- Infer potential sources of business success and failure, mainly by reading what customers like or dislike about the restaurant\n",
    "\n",
    "To achieve the research objective, I applied Natural Language Processing techniques. I converted user review data to vector-space for Natural Language Processing by using tokenization with stemming and lemmatization. I defined the positive/negative reviews based on the sentiment scores and extracted frequently used keywords from customer reviews.\n",
    "\n",
    "---\n",
    "**Findings:**\n",
    "\n",
    "To achieve better prediction, stop words (e.g. 'and', 'the', 'him') were removed since it is commonly considered as uninformative in representing the content of a text. I also removed words such as 'http www yelp com' to increase the model performance. I aimed to capture key elements for successful and failed restaurants by fitting models using different ngrams. I found that:\n",
    "- Americans leave positive reviews of restaurants after they have positive experiences at restaurants in line with my expectation. They also tend to talk about food, especially specific menus served at restaurants.  \n",
    "- People write more about service, especially when they wasted time and money and had terrible customer service. - Also, they tend to leave specific points such as 'It took 20 minutes to get my food, the manager was terrible, mold beer, mold floating'.\n",
    "\n",
    "<a href=\"https://imgur.com/aZuLElw\"><img src=\"https://i.imgur.com/aZuLElw.png\" title=\"source: imgur.com\" /></a>\n",
    "<a href=\"https://imgur.com/oBlqc2B\"><img src=\"https://i.imgur.com/oBlqc2B.png\" title=\"source: imgur.com\" /></a>\n",
    "<a href=\"https://imgur.com/9t1fLD3\"><img src=\"https://i.imgur.com/9t1fLD3.png\" title=\"source: imgur.com\" /></a>"
   ]
  },
  {
   "cell_type": "markdown",
   "metadata": {},
   "source": [
    "## Conclusions\n",
    "------"
   ]
  },
  {
   "cell_type": "markdown",
   "metadata": {
    "ExecuteTime": {
     "end_time": "2019-10-01T12:33:25.380856Z",
     "start_time": "2019-10-01T12:33:25.370164Z"
    }
   },
   "source": [
    "### To my clients"
   ]
  },
  {
   "cell_type": "markdown",
   "metadata": {},
   "source": [
    "Through the research steps, it was discovered that:\n",
    "- The performance of text features was not as great as expected - customer perceptions extracted from reviews are not useful to predict business success. This result is different from my client's beliefs and previous work.\n",
    "- Business attributes are more important in the model for prediction.\n",
    "    - **Physical attributes such as whether the business has a parking or offers fast food will have more of an impact than atmospheric variables such as whether or not the business is romantic.** \n",
    "    - Based on the findings, I would recommend to:\n",
    "        - **Make sure the volume of check-ins and reviews because these are trust signals for users and could help local SEO and bring organic traffic.** \n",
    "        - **Focus on adding more number of relevant business categories to the listing**\n",
    "        - **Provide service for car drivers/bikers**\n",
    "        - **Find a way to increase profit by offering high margin food and beverages.** \n",
    "- Analyzing words that are frequently used in reviews might be helpful to find areas for improvement. **Service is the most important aspect of a business - it does make an impact on Yelp.**\n",
    "    - In particular, it shows that, when they experience good service, customers spread the words or show intention to visit a restaurant again. In other words, **you need to be careful with your customer service quality to avoid negative reviews as well as business failure. Additionally, people tend to write negative reviews, especially when they feel they wasted time and money.**\n",
    "- The table of coefficient values per category will be able to provide what features are related to success and failure. I believe it could help restaurant owners know where to spend their efforts to maximize results."
   ]
  },
  {
   "cell_type": "markdown",
   "metadata": {},
   "source": [
    "### To technical audience"
   ]
  },
  {
   "cell_type": "markdown",
   "metadata": {},
   "source": [
    "The goal of this paper is to look for features in order to better predict the future success of a restaurant. I generated features through several aspects, and both text and non-text features were covered.\n",
    "\n",
    "It turns out that our model works fairly well, and achieved 75% accuracy in the end (67% baseline).\n",
    "\n",
    "Since the goal of this project is to help restaurant owners and investors decide if certain restaurant/category is worth investing, precision for the 'successful' class is critical. The precision rate for 'successful' class is 75%, which means that in all restaurants that models tried to predict, 75% of them were predicted correctly. The coefficient table was provided to understand which features are the most important for prediction.\n",
    "\n",
    "If someone who is not familiar with a given place wants to open a business or invest in a city, my models might be helpful for one to learn, exploit and improve weaknesses and strengthen the competitive advantages."
   ]
  },
  {
   "cell_type": "markdown",
   "metadata": {},
   "source": [
    "## Limitation\n",
    "------"
   ]
  },
  {
   "cell_type": "markdown",
   "metadata": {},
   "source": [
    "Due to the limited resources, I decided not to web scrape information. Thus, the dataset I loaded from the Yelp Data Challenge is not equal to those available on the internet. There is information removed by Yelp.\n",
    "\n",
    "Application of this model: With the Yelp Data Challenge dataset, it is expected that models will not be accurate in predicting business success for every geographic region across the United States because:\n",
    "- The dataset only covers specific states in the US\n",
    "- There were many missing data. For example, there was only one restaurant’s information in New York State, though there are 24,300+ information on Yelp\n",
    "- Local cultures will likely affect peoples' tastes for certain business features. Models would perform differently for restaurants outside the US\n",
    "\n",
    "However, the model would be accurate if someone could scrape data from yelp.com in the same column format as the datasets used for this project."
   ]
  },
  {
   "cell_type": "markdown",
   "metadata": {},
   "source": [
    "## Future Recommendation\n",
    "------"
   ]
  },
  {
   "cell_type": "markdown",
   "metadata": {
    "ExecuteTime": {
     "end_time": "2019-10-01T09:42:37.598281Z",
     "start_time": "2019-10-01T09:42:37.455164Z"
    }
   },
   "source": [
    "For future research, I would recommend to:\n",
    "- Obtain information from yelp.com by web scraping\n",
    "- Include more columns such as:\n",
    "    - Chain restaurant: Some of the previous work identified that chain restaurants might have a more stable business style and more economic support, and thus better success rates. To obtain better insights, restaurants which appeared three times or more in the dataset could be classified as chain restaurants = 1 and others could be marked as 0.\n",
    "    - Estimated retention data by counting return guests\n",
    "- Improve the generation method of checkin_count and review_count features\n",
    "    - Some aspects might be overlooked when we generated checkin_count and review_count features: I did not normalize the review count by the number of days since the first review. For example, a 3- month-old restaurant having 1000 reviews is totally different from a 10-year-old restaurant having the same amount of reviews. As a result, the overlooking of normalization might be a potential area for improvement.\n",
    "- Analyze the information per state or city to see local trends\n",
    "    - It could be hypothesized that a higher retention rate could contribute to reducing the possibility of being closed down. The column could be obtained from check-in and review information per user - these contain business_ids too. For example, a return guest for a restaurant could be identified when s/he had two or more check-ins and/or reviews for a particular restaurant. I believe looking at the dataset from different angles would give further valuable insights for business owners and investors.\n",
    "\n",
    "For future research on reviews, one of the potential solutions could be to select words and reviews strictly and drop ambiguous words to obtain better insights on what customers care about when they write positive and negative reviews.\n",
    "\n",
    "Lastly, in the scope of the capstone project’s time constraints, and because I decided to use classifiers that would compute on my local machine, a future consideration would be to deploy my model on AWS which would give me more computing power and better choice of models. "
   ]
  }
 ],
 "metadata": {
  "kernelspec": {
   "display_name": "Python 3",
   "language": "python",
   "name": "python3"
  },
  "language_info": {
   "codemirror_mode": {
    "name": "ipython",
    "version": 3
   },
   "file_extension": ".py",
   "mimetype": "text/x-python",
   "name": "python",
   "nbconvert_exporter": "python",
   "pygments_lexer": "ipython3",
   "version": "3.7.3"
  },
  "toc": {
   "base_numbering": "1",
   "nav_menu": {},
   "number_sections": true,
   "sideBar": true,
   "skip_h1_title": true,
   "title_cell": "Table of Contents",
   "title_sidebar": "Contents",
   "toc_cell": true,
   "toc_position": {},
   "toc_section_display": true,
   "toc_window_display": false
  }
 },
 "nbformat": 4,
 "nbformat_minor": 2
}
